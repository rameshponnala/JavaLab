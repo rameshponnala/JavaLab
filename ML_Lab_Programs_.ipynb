{
  "nbformat": 4,
  "nbformat_minor": 0,
  "metadata": {
    "colab": {
      "provenance": [],
      "authorship_tag": "ABX9TyOEzCYZPrz1NS2qeiiMuu18",
      "include_colab_link": true
    },
    "kernelspec": {
      "name": "python3",
      "display_name": "Python 3"
    }
  },
  "cells": [
    {
      "cell_type": "markdown",
      "metadata": {
        "id": "view-in-github",
        "colab_type": "text"
      },
      "source": [
        "<a href=\"https://colab.research.google.com/github/rameshponnala/JavaLab/blob/master/ML_Lab_Programs_.ipynb\" target=\"_parent\"><img src=\"https://colab.research.google.com/assets/colab-badge.svg\" alt=\"Open In Colab\"/></a>"
      ]
    },
    {
      "cell_type": "code",
      "metadata": {
        "id": "dqRnl7xO7q0p",
        "colab": {
          "base_uri": "https://localhost:8080/"
        },
        "outputId": "76b7a0b7-9003-4f52-bade-44d6afc9b5ec"
      },
      "source": [
        "#1. Write a python program to demonstrate Python Datatypes, Variables\n",
        "a=101\n",
        "print(type(a))\n",
        "b=0.101\n",
        "print(type(b))\n",
        "c=(2+3j)\n",
        "print(type(c))\n",
        "d=\"CBIT\"\n",
        "print(type(d))\n",
        "i=True\n",
        "print(type(i))\n",
        "x=int(input(\"Enter a number: \"))\n",
        "y=int(input(\"Enter a number: \"))\n",
        "print(\"Sum of x & y is: \",(x+y))\n",
        "print(\"Difference of x & y is: \",(x-y))\n",
        "print(\"Product of x & y is: \",(x*y))\n",
        "print(\"Division of x & y is: \",(x/y))\n",
        "print(\"Modulo Division of x & y is: \",(x%y))\n",
        "print(\"Exponentiation of x & y is: \",(x**y))\n",
        "print(\"Floor Division of x & y is: \",(x//y))"
      ],
      "execution_count": null,
      "outputs": [
        {
          "output_type": "stream",
          "text": [
            "<class 'int'>\n",
            "<class 'float'>\n",
            "<class 'complex'>\n",
            "<class 'str'>\n",
            "<class 'bool'>\n",
            "Enter a number: 2\n",
            "Enter a number: 6\n",
            "Sum of x & y is:  8\n",
            "Difference of x & y is:  -4\n",
            "Product of x & y is:  12\n",
            "Division of x & y is:  0.3333333333333333\n",
            "Modulo Division of x & y is:  2\n",
            "Exponentiation of x & y is:  64\n",
            "Floor Division of x & y is:  0\n"
          ],
          "name": "stdout"
        }
      ]
    },
    {
      "cell_type": "code",
      "metadata": {
        "id": "KfA0SkCt771g",
        "colab": {
          "base_uri": "https://localhost:8080/"
        },
        "outputId": "1ef5e994-f44d-47c8-ef24-60025be831d3"
      },
      "source": [
        "#2. Write a python program to print the prime numbers up to ‘n’\n",
        "n=int(input(\"Enter n value: \"))\n",
        "i=2\n",
        "while(i<=n):\n",
        "  c=0\n",
        "  for j in range(1,i+1):\n",
        "    if(i%j==0):\n",
        "      c=c+1\n",
        "  if(c==2):\n",
        "    print(i)\n",
        "  i=i+1"
      ],
      "execution_count": null,
      "outputs": [
        {
          "output_type": "stream",
          "text": [
            "Enter n value: 100\n",
            "2\n",
            "3\n",
            "5\n",
            "7\n",
            "11\n",
            "13\n",
            "17\n",
            "19\n",
            "23\n",
            "29\n",
            "31\n",
            "37\n",
            "41\n",
            "43\n",
            "47\n",
            "53\n",
            "59\n",
            "61\n",
            "67\n",
            "71\n",
            "73\n",
            "79\n",
            "83\n",
            "89\n",
            "97\n"
          ],
          "name": "stdout"
        }
      ]
    },
    {
      "cell_type": "code",
      "metadata": {
        "id": "TM3s7Aii8D_X",
        "colab": {
          "base_uri": "https://localhost:8080/"
        },
        "outputId": "7c5ba745-f8e6-443c-b8de-fd69d229c4ba"
      },
      "source": [
        "#3. Write a python program to find sum of n natural numbers using recursion function\n",
        "def sum1(n):\n",
        "  if(n<0):\n",
        "    print(\"Enter a valid number \")\n",
        "  elif (n==0):\n",
        "    return 0\n",
        "  else:\n",
        "    return n+sum1(n-1)\n",
        "\n",
        "n=int(input(\"Enter a number \"))\n",
        "s=sum1(n)\n",
        "print(\"Sum of first \",n,\" natural numbers is : \",s)"
      ],
      "execution_count": null,
      "outputs": [
        {
          "output_type": "stream",
          "text": [
            "Enter a number 10\n",
            "Sum of first  10  natural numbers is :  55\n"
          ],
          "name": "stdout"
        }
      ]
    },
    {
      "cell_type": "code",
      "metadata": {
        "id": "_9xi6Xv28MGo",
        "colab": {
          "base_uri": "https://localhost:8080/"
        },
        "outputId": "ca6ce6b2-0de0-48d7-de50-1a735dd02a73"
      },
      "source": [
        "#4. Write a python program to demonstrate Strings in Python\n",
        "a = \"Welcome to the department of MCA, CBIT\"\n",
        "print(\"Length of the string: \",len(a))\n",
        "print(\"First element of the string: \",a[0])\n",
        "print(\"String in the given index range: \",a[15:32])\n",
        "print(\"Lower Case: \",a.lower())\n",
        "print(\"Upper Case: \",a.upper())\n",
        "print(\"String after replacing a part of the string: \",a.replace(\"CBIT\", \\\n",
        "                                      \"Chaitanya Bharathi Institute of Technology\"))\n",
        "print(\"Splitting the string based on ',': \",a.split(\",\"))"
      ],
      "execution_count": null,
      "outputs": [
        {
          "output_type": "stream",
          "text": [
            "Length of the string:  38\n",
            "First element of the string:  W\n",
            "String in the given index range:  department of MCA\n",
            "Lower Case:  welcome to the department of mca, cbit\n",
            "Upper Case:  WELCOME TO THE DEPARTMENT OF MCA, CBIT\n",
            "String after replacing a part of the string:  Welcome to the department of MCA, Chaitanya Bharathi Institute of Technology\n",
            "Splitting the string based on ',':  ['Welcome to the department of MCA', ' CBIT']\n"
          ],
          "name": "stdout"
        }
      ]
    },
    {
      "cell_type": "code",
      "metadata": {
        "id": "xkYzdsxt8Qfp",
        "colab": {
          "base_uri": "https://localhost:8080/"
        },
        "outputId": "b0560519-7f6a-4953-bbb5-12ee0f420715"
      },
      "source": [
        "#5. Write a python program to demonstrate Python Lists\n",
        "list=[]\n",
        "print(\"Emplty list: \",list)\n",
        "list=[1,6,4,14,73,45,27,0]\n",
        "print(\"List: \",list)\n",
        "print(\"Length of the list: \",len(list))\n",
        "list.sort()\n",
        "print(\"List after sorting(sort operation): \",list)\n",
        "#print(\"Sum of List items is: \",sum(list))\n",
        "print(\"Accessing each element of the list by its index: \")\n",
        "for i in list:\n",
        "  print(i)\n",
        "\n",
        "list.append(\"Python\")\n",
        "print(\"List after appending another element(append operation): \",list)\n",
        "list.insert(1,\"MCA\")\n",
        "print(\"List after inserting an element at a specific position(insert operation): \",list)\n",
        "list.remove(14)\n",
        "print(\"List after removing an element(remove operation): \",list)\n",
        "list.pop()\n",
        "print(\"list after poping an element(pop operation): \",list)\n",
        "print(\"Print last element of the list: \",list[-1])\n",
        "list1=list[2:5]\n",
        "print(\"Sliced list: \",list1)\n",
        "list2=[[\"MCA\",\"Mtech\"],[\"Python\",\"C\",\"Java\"]]\n",
        "print(\"Multi-Dimensional list: \")\n",
        "print(list2)\n",
        "print(\"Accessing elements from the Multi-Dimensional list using index: \")\n",
        "print(list2[0][0])\n",
        "print(list2[1][0])"
      ],
      "execution_count": null,
      "outputs": [
        {
          "output_type": "stream",
          "text": [
            "Emplty list:  []\n",
            "List:  [1, 6, 4, 14, 73, 45, 27, 0]\n",
            "Length of the list:  8\n",
            "List after sorting(sort operation):  [0, 1, 4, 6, 14, 27, 45, 73]\n",
            "Accessing each element of the list by its index: \n",
            "0\n",
            "1\n",
            "4\n",
            "6\n",
            "14\n",
            "27\n",
            "45\n",
            "73\n",
            "List after appending another element(append operation):  [0, 1, 4, 6, 14, 27, 45, 73, 'Python']\n",
            "List after inserting an element at a specific position(insert operation):  [0, 'MCA', 1, 4, 6, 14, 27, 45, 73, 'Python']\n",
            "List after removing an element(remove operation):  [0, 'MCA', 1, 4, 6, 27, 45, 73, 'Python']\n",
            "list after poping an element(pop operation):  [0, 'MCA', 1, 4, 6, 27, 45, 73]\n",
            "Print last element of the list:  73\n",
            "Sliced list:  [1, 4, 6]\n",
            "Multi-Dimensional list: \n",
            "[['MCA', 'Mtech'], ['Python', 'C', 'Java']]\n",
            "Accessing elements from the Multi-Dimensional list using index: \n",
            "MCA\n",
            "Python\n"
          ],
          "name": "stdout"
        }
      ]
    },
    {
      "cell_type": "code",
      "metadata": {
        "id": "We15I6Sq8Xb-",
        "colab": {
          "base_uri": "https://localhost:8080/"
        },
        "outputId": "1e10dbd3-f967-438b-d418-3f5e4c9f0342"
      },
      "source": [
        "#6. Write a python demonstrate Python Tuples\n",
        "tuple=()\n",
        "print(\"Empty tuple: \",tuple)\n",
        "tuple1=(1,5,3,7)\n",
        "print(\"tuple1: \",tuple1)\n",
        "print(\"Length of tuple1: \",len(tuple1))\n",
        "print(\"Maximum element in tuple1: \",max(tuple1))\n",
        "print(\"Minimum element in tuple1: \",min(tuple1))\n",
        "print(\"Sliced tuple: \",tuple1[2:4])\n",
        "tuple2=(\"CBIT\",\"MCA\")\n",
        "print(\"tuple2: \",tuple2)\n",
        "print(\"Concatinating tuple1 and tuple2: \",tuple1+tuple2)\n",
        "tuple3 = (tuple1, tuple2)\n",
        "print(\"Creating a nested tuple from tuple1 and tuple2: \",tuple3)\n",
        "tuple4=('Python',)*3\n",
        "print(\"Creating a tuple with repitition: \",tuple4)"
      ],
      "execution_count": null,
      "outputs": [
        {
          "output_type": "stream",
          "text": [
            "Empty tuple:  ()\n",
            "tuple1:  (1, 5, 3, 7)\n",
            "Length of tuple1:  4\n",
            "Maximum element in tuple1:  7\n",
            "Minimum element in tuple1:  1\n",
            "Sliced tuple:  (3, 7)\n",
            "tuple2:  ('CBIT', 'MCA')\n",
            "Concatinating tuple1 and tuple2:  (1, 5, 3, 7, 'CBIT', 'MCA')\n",
            "Creating a nested tuple from tuple1 and tuple2:  ((1, 5, 3, 7), ('CBIT', 'MCA'))\n",
            "Creating a tuple with repitition:  ('Python', 'Python', 'Python')\n"
          ],
          "name": "stdout"
        }
      ]
    },
    {
      "cell_type": "code",
      "metadata": {
        "id": "WoPssl1a8dPh",
        "colab": {
          "base_uri": "https://localhost:8080/"
        },
        "outputId": "a3dbf3ea-9df2-423e-8912-9b15776e4b3e"
      },
      "source": [
        "#7. Write a python demonstrate Python Dictionaries\n",
        "Dictionary={}\n",
        "print(\"Dictionary: \",Dictionary)\n",
        "Dictionary[0]='CBIT'\n",
        "Dictionary[1]='MCA'\n",
        "print(\"Dictionary after adding elements to it: \",Dictionary)\n",
        "dict={1: 'Machine Learning', 2: 'Artificial Neural Network', 3: 'Cloud Computing', 4:\n",
        "'IOT'}\n",
        "print(\"Dictionary dict: \",dict)\n",
        "print(\"Acessing an element using key: \",dict[2])\n",
        "print(\"Acessinga element using get method: \",dict.get(3))\n",
        "del dict[4]\n",
        "print(\"Dictionary after deleting a specific key(del operation): \",dict)\n",
        "dict.pop(3)\n",
        "print(\"Dictionary after deleting a specific element(pop operation): \",dict)\n",
        "dict.clear()\n",
        "print(\"Deleting the entire Dictionary: \",dict)\n",
        "dict1={1: 'CBIT', 2: 'MCA', 3:{'A' : 'Machine Learning', 'B' : 'Artificial Neural \\\n",
        "Network', 'C' : 'Cloud Computing', 'D' : 'IOT'}}\n",
        "print(\"Nested Dictionary: \",dict1)"
      ],
      "execution_count": null,
      "outputs": [
        {
          "output_type": "stream",
          "text": [
            "Dictionary:  {}\n",
            "Dictionary after adding elements to it:  {0: 'CBIT', 1: 'MCA'}\n",
            "Dictionary dict:  {1: 'Machine Learning', 2: 'Artificial Neural Network', 3: 'Cloud Computing', 4: 'IOT'}\n",
            "Acessing an element using key:  Artificial Neural Network\n",
            "Acessinga element using get method:  Cloud Computing\n",
            "Dictionary after deleting a specific key(del operation):  {1: 'Machine Learning', 2: 'Artificial Neural Network', 3: 'Cloud Computing'}\n",
            "Dictionary after deleting a specific element(pop operation):  {1: 'Machine Learning', 2: 'Artificial Neural Network'}\n",
            "Deleting the entire Dictionary:  {}\n",
            "Nested Dictionary:  {1: 'CBIT', 2: 'MCA', 3: {'A': 'Machine Learning', 'B': 'Artificial Neural Network', 'C': 'Cloud Computing', 'D': 'IOT'}}\n"
          ],
          "name": "stdout"
        }
      ]
    },
    {
      "cell_type": "code",
      "metadata": {
        "id": "Xmu6A9YB8jpg",
        "colab": {
          "base_uri": "https://localhost:8080/"
        },
        "outputId": "d725a047-aa8d-42f4-97f0-2f722a76e891"
      },
      "source": [
        "#8. Write a python program to find the factorial of a given number using functions\n",
        "def fact(n):\n",
        "  f=1\n",
        "  while n>0:\n",
        "    f=f*n\n",
        "    n=n-1\n",
        "  return f\n",
        "\n",
        "n=int(input(\"Enter a number: \"))\n",
        "print(\"Factorial of the given number is: \",fact(n))"
      ],
      "execution_count": null,
      "outputs": [
        {
          "output_type": "stream",
          "text": [
            "Enter a number: 9\n",
            "Factorial of the given number is:  362880\n"
          ],
          "name": "stdout"
        }
      ]
    },
    {
      "cell_type": "code",
      "metadata": {
        "id": "90Qh1jms8qzZ",
        "colab": {
          "base_uri": "https://localhost:8080/"
        },
        "outputId": "8a98c166-56f4-4d6b-9889-97f2a50e75a6"
      },
      "source": [
        "#9. Write a python program to find the factorial of a given number using recursive functions\n",
        "def recfact(n):\n",
        "  if n==0:\n",
        "    return 1\n",
        "  elif n==1:\n",
        "    return 1\n",
        "  else:\n",
        "    return n*recfact(n-1)\n",
        "n=int(input(\"Enter a number: \"))\n",
        "print(\"Factorial of the given number is: \",recfact(n))"
      ],
      "execution_count": null,
      "outputs": [
        {
          "output_type": "stream",
          "text": [
            "Enter a number: 5\n",
            "Factorial of the given number is:  120\n"
          ],
          "name": "stdout"
        }
      ]
    },
    {
      "cell_type": "code",
      "metadata": {
        "id": "t3SyjKfB8uxd",
        "colab": {
          "base_uri": "https://localhost:8080/"
        },
        "outputId": "bad0aa08-cf52-42af-940b-fa2ef47e30c6"
      },
      "source": [
        "#10. Write a python program to find the gcd of a given number using functions\n",
        "def gcd(a,b):\n",
        "  while(a!=b):\n",
        "    if(a>b):\n",
        "      a=a-b\n",
        "    else:\n",
        "      b=b-a\n",
        "  return a\n",
        "a=int(input(\"Enter a number: \"))\n",
        "b=int(input(\"Enter a number: \"))\n",
        "gcd=gcd(a,b)\n",
        "print(\"GCD of giventwo numbers is: \",gcd)"
      ],
      "execution_count": null,
      "outputs": [
        {
          "output_type": "stream",
          "text": [
            "Enter a number: 5\n",
            "Enter a number: 8\n",
            "GCD of giventwo numbers is:  1\n"
          ],
          "name": "stdout"
        }
      ]
    },
    {
      "cell_type": "code",
      "metadata": {
        "id": "wntMURR78ym4",
        "colab": {
          "base_uri": "https://localhost:8080/"
        },
        "outputId": "e4c3bdbe-d5fa-4b09-aa6d-027c3ce36106"
      },
      "source": [
        "#11. Write a python program to find the gcd of a given number using recursive functions\n",
        "def gcd(a,b):\n",
        "  if(a==b):\n",
        "    return a\n",
        "  elif(a>b):\n",
        "    return gcd(a-b,b)\n",
        "  else:\n",
        "    return gcd(a,b-a)\n",
        "a=int(input(\"Enter a number : \"))\n",
        "b=int(input(\"Enter a number : \"))\n",
        "gcd=gcd(a,b)\n",
        "print(\"GCD of given two numbers is : \",gcd)"
      ],
      "execution_count": null,
      "outputs": [
        {
          "output_type": "stream",
          "text": [
            "Enter a number : 5\n",
            "Enter a number : 7\n",
            "GCD of given two numbers is :  1\n"
          ],
          "name": "stdout"
        }
      ]
    },
    {
      "cell_type": "code",
      "metadata": {
        "id": "D8vFoZTQ83XX"
      },
      "source": [
        "#12. Write a python program to display Fibonacci series using recursion and \n",
        "#nonrecursion functions with modules\n",
        "#modulefib.py:\n",
        "def rec_fib(n):\n",
        "  if(n<=1):\n",
        "    return n\n",
        "  else:\n",
        "    return (rec_fib(n-1)+rec_fib(n-2))\n",
        "def fib(n):\n",
        "  f1=0\n",
        "  f2=1\n",
        "  c=2\n",
        "  print(f1)\n",
        "  print(f2)\n",
        "  while(c<n):\n",
        "    f=f1+f2\n",
        "    f1=f2\n",
        "    f2=f\n",
        "    print(f)\n",
        "    c=c+1\n",
        "#fibonacci.py:\n",
        "from modulefib import rec_fib1,rec_fib2\n",
        "n=int(input(\"Enter a number : \"))\n",
        "print(\"Fibonacci series using recursion: \")\n",
        "for i in range(n):\n",
        "  fib=rec_fib1(i)\n",
        "\n",
        "print(fib)\n",
        "print(\"Fibonacci series without recursion: \")\n",
        "fib(n)"
      ],
      "execution_count": null,
      "outputs": []
    },
    {
      "cell_type": "code",
      "metadata": {
        "id": "Yu2uskRY3ugj"
      },
      "source": [
        "#12. Write a python program to display Fibonacci series using recursion and \n",
        "#nonrecursion functions with modules\n",
        "#modulefib.py:\n",
        "def rec_fib(n):\n",
        "  if(n<=1):\n",
        "    return n\n",
        "  else:\n",
        "    return (rec_fib(n-1)+rec_fib(n-2))\n",
        "def fib(n):\n",
        "  f1=0\n",
        "  f2=1\n",
        "  c=2\n",
        "  print(f1)\n",
        "  print(f2)\n",
        "  while(c<n):\n",
        "    f=f1+f2\n",
        "    f1=f2\n",
        "    f2=f\n",
        "    print(f)\n",
        "    c=c+1\n",
        "#fibonacci.py:\n",
        "from modulefib import rec_fib,fib\n",
        "n=int(input(\"Enter a number : \"))\n",
        "print(\"Fibonacci series using recursion: \")\n",
        "for i in range(n):\n",
        "  fib=rec_fib1(i)\n",
        "\n",
        "print(fib)\n",
        "print(\"Fibonacci series without recursion: \")\n",
        "fib(n)"
      ],
      "execution_count": null,
      "outputs": []
    },
    {
      "cell_type": "code",
      "metadata": {
        "id": "ittDBKjH9I2y",
        "colab": {
          "base_uri": "https://localhost:8080/"
        },
        "outputId": "ad8f733f-dcdb-4f27-8068-fac2849747c7"
      },
      "source": [
        "#13. Write a python program to demonstrate Packages, Libraries of Python (Numpy,Pandas, statistics etc)\n",
        "import statistics as st\n",
        "import numpy as np\n",
        "myPythonList = [1,9,8,3]\n",
        "numpy_array_from_list = np.array(myPythonList)\n",
        "print(numpy_array_from_list)\n",
        "a = np.array([1,9,8,3])\n",
        "print(a)\n",
        "a = np.array([1,2,3])\n",
        "print(a.shape)\n",
        "print(a.dtype)\n",
        "b = np.array([1.1,2.0,3.2])\n",
        "print(b.dtype)\n",
        "c = np.array([(1,2,3),\n",
        "(4,5,6)])\n",
        "print(c.shape)\n",
        "# 3 dimension\n",
        "d = np.array([\n",
        "[[1, 2,3], [4, 5, 6]],\n",
        "[[7, 8,9],[10, 11, 12]]\n",
        "])\n",
        "print(d.shape)\n",
        "np.zeros((2,2), dtype=np.int16)\n",
        "np.ones((1,2,3), dtype=np.int16)\n",
        "e = np.array([(1,2,3), (4,5,6)])\n",
        "print(e)\n",
        "e.reshape(3,2)\n",
        "d.flatten()\n",
        "f = np.array([1,2,3])\n",
        "g = np.array([4,5,6])\n",
        "print('Horizontal Append:', np.hstack((f, g)))\n",
        "print('Vertical Append:', np.vstack((f, g)))\n",
        "print(np.arange(1, 11))\n",
        "print(np.arange(1, 14, 4))\n",
        "print('First row:', e[0])\n",
        "print('Second row:', e[1])\n",
        "print('Second column:', e[:,1])\n",
        "print(e[1, 2:3])\n",
        "normal_array = np.random.normal(5, 0.5, 10)\n",
        "print(normal_array)\n",
        "### Min\n",
        "print(np.min(f))\n",
        "### Max\n",
        "print(np.max(f))\n",
        "### Mean\n",
        "print(np.mean(f))\n",
        "### Median\n",
        "print(np.median(f))\n",
        "### Sd\n",
        "print(np.std(f))\n",
        "#statistics module\n",
        "x=[0,1,2,3,4,5,6,7,8,9]\n",
        "print('mean:',st.mean(x))\n",
        "print('median:',st.median(x))\n",
        "print('median_low:',st.median_low(x))\n",
        "print('median_high:',st.median_high(x))\n",
        "print('Standard Deviation:',st.stdev(x))\n",
        "print('Variance',st.variance(x))\n",
        "q1=np.percentile(x,np.arange(0,100,25))\n",
        "q3=np.percentile(x,np.arange(0,100,75))\n",
        "print(q1)\n",
        "print(q3)\n",
        "\n",
        "from scipy import stats\n",
        "print('stats mode',stats.mode(x))\n",
        "print(stats.mode(x,axis=0))\n",
        "print(stats.mode(x,axis=None))"
      ],
      "execution_count": null,
      "outputs": [
        {
          "output_type": "stream",
          "text": [
            "[1 9 8 3]\n",
            "[1 9 8 3]\n",
            "(3,)\n",
            "int64\n",
            "float64\n",
            "(2, 3)\n",
            "(2, 2, 3)\n",
            "[[1 2 3]\n",
            " [4 5 6]]\n",
            "Horizontal Append: [1 2 3 4 5 6]\n",
            "Vertical Append: [[1 2 3]\n",
            " [4 5 6]]\n",
            "[ 1  2  3  4  5  6  7  8  9 10]\n",
            "[ 1  5  9 13]\n",
            "First row: [1 2 3]\n",
            "Second row: [4 5 6]\n",
            "Second column: [2 5]\n",
            "[6]\n",
            "[5.19707926 5.03756783 5.38682312 4.78074222 4.27237602 5.01866197\n",
            " 4.97324061 5.54997318 4.39796335 6.54029941]\n",
            "1\n",
            "3\n",
            "2.0\n",
            "2.0\n",
            "0.816496580927726\n",
            "mean: 4.5\n",
            "median: 4.5\n",
            "median_low: 4\n",
            "median_high: 5\n",
            "Standard Deviation: 3.0276503540974917\n",
            "Variance 9.166666666666666\n",
            "[0.   2.25 4.5  6.75]\n",
            "[0.   6.75]\n",
            "stats mode ModeResult(mode=array([0]), count=array([1]))\n",
            "ModeResult(mode=array([0]), count=array([1]))\n",
            "ModeResult(mode=array([0]), count=array([1]))\n"
          ],
          "name": "stdout"
        }
      ]
    },
    {
      "cell_type": "code",
      "metadata": {
        "id": "LumxHLX6NjRr",
        "colab": {
          "resources": {
            "http://localhost:8080/nbextensions/google.colab/files.js": {
              "data": "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",
              "ok": true,
              "headers": [
                [
                  "content-type",
                  "application/javascript"
                ]
              ],
              "status": 200,
              "status_text": ""
            }
          },
          "base_uri": "https://localhost:8080/",
          "height": 73
        },
        "outputId": "69a6a515-4603-44c6-ee13-f8c0762b264c"
      },
      "source": [
        "from google.colab import files\n",
        "uploaded = files.upload()"
      ],
      "execution_count": null,
      "outputs": [
        {
          "output_type": "display_data",
          "data": {
            "text/html": [
              "\n",
              "     <input type=\"file\" id=\"files-4ae70ab6-464d-4d74-a16a-a8ad13499c50\" name=\"files[]\" multiple disabled\n",
              "        style=\"border:none\" />\n",
              "     <output id=\"result-4ae70ab6-464d-4d74-a16a-a8ad13499c50\">\n",
              "      Upload widget is only available when the cell has been executed in the\n",
              "      current browser session. Please rerun this cell to enable.\n",
              "      </output>\n",
              "      <script src=\"/nbextensions/google.colab/files.js\"></script> "
            ],
            "text/plain": [
              "<IPython.core.display.HTML object>"
            ]
          },
          "metadata": {}
        },
        {
          "output_type": "stream",
          "name": "stdout",
          "text": [
            "Saving Age-salary.csv to Age-salary.csv\n"
          ]
        }
      ]
    },
    {
      "cell_type": "code",
      "metadata": {
        "id": "Nxohe_ZiN2Ky",
        "colab": {
          "base_uri": "https://localhost:8080/"
        },
        "outputId": "5a9f263f-f6ba-47e8-d422-7a629d00f1f0"
      },
      "source": [
        "cat Age-salary.csv\n"
      ],
      "execution_count": null,
      "outputs": [
        {
          "output_type": "stream",
          "name": "stdout",
          "text": [
            "ID,Gender,Age,Salary,Purchased\r\n",
            "1001,Male,21,21000,No\r\n",
            "1002,Male,37,22000,No\r\n",
            "1003,Female,28,45000,No\r\n",
            "1004,Female,29,59000,No\r\n",
            "1005,Male,21,78000,No\r\n",
            "1006,Male,29,60000,No\r\n",
            "1007,Female,29,86000,No\r\n",
            "1008,Female,34,152000,Yes\r\n",
            "1009,Male,27,35000,No\r\n",
            "1010,Female,37,67000,No\r\n",
            "1011,Female,28,82000,No\r\n",
            "1012,Female,28,54000,No\r\n",
            "1013,Male,22,88000,No\r\n",
            "1014,Male,34,20000,No\r\n",
            "1015,Male,20,84000,No\r\n",
            "1016,Male,31,82000,No\r\n",
            "1017,Male,49,27000,Yes\r\n",
            "1018,Male,47,28000,Yes\r\n",
            "1019,Male,48,30000,Yes\r\n",
            "1020,Female,50,31000,Yes\r\n",
            "1021,Male,47,24000,Yes\r\n",
            "1022,Female,49,51000,Yes\r\n",
            "1023,Male,50,43000,Yes\r\n",
            "1024,Female,47,24000,Yes\r\n",
            "1025,Male,48,25000,Yes\r\n",
            "1026,Male,49,22000,Yes\r\n",
            "1027,Male,51,30000,Yes\r\n",
            "1028,Female,49,32000,Yes\r\n",
            "1029,Male,31,45000,No\r\n",
            "1030,Male,33,20000,No\r\n",
            "1031,Male,33,76000,No\r\n",
            "1032,Female,29,139000,Yes\r\n",
            "1033,Female,23,18000,No\r\n",
            "1034,Female,30,46000,No\r\n",
            "1035,Male,29,92000,No\r\n",
            "1036,Male,37,29000,No\r\n",
            "1037,Female,35,30000,No\r\n",
            "1038,Male,32,51000,No\r\n",
            "1039,Female,28,74000,No\r\n",
            "1040,Female,29,33000,No\r\n",
            "1041,Female,29,19000,No\r\n",
            "1042,Female,35,53000,No\r\n",
            "1043,Male,37,110000,No\r\n",
            "1044,Male,32,17000,No\r\n",
            "1045,Female,30,86000,No\r\n",
            "1046,Male,25,22000,No\r\n",
            "1047,Male,27,81000,No\r\n",
            "1048,Female,29,56000,No\r\n",
            "1049,Male,32,137000,Yes\r\n",
            "1050,Female,33,91000,No\r\n",
            "1051,Female,26,34000,No\r\n",
            "1052,Female,20,46000,No\r\n",
            "1053,Female,31,85000,No\r\n",
            "1054,Female,37,25000,No\r\n",
            "1055,Female,29,60000,No\r\n",
            "1056,Female,26,57000,No\r\n",
            "1057,Female,25,50000,No\r\n",
            "1058,Male,30,81000,No\r\n",
            "1059,Male,24,20000,No\r\n",
            "1060,Female,34,119000,No\r\n",
            "1061,Male,29,22000,No\r\n",
            "1062,Male,27,89000,No\r\n",
            "1063,Female,25,68000,No\r\n",
            "1064,Male,34,122000,Yes\r\n",
            "1065,Female,61,85000,No\r\n",
            "1066,Male,26,60000,No\r\n",
            "1067,Male,26,21000,No\r\n",
            "1068,Female,25,84000,No\r\n",
            "1069,Female,24,65000,No\r\n",
            "1070,Female,33,70000,No\r\n",
            "1071,Male,27,82000,No\r\n",
            "1072,Female,26,29000,No\r\n",
            "1073,Female,22,25000,No\r\n",
            "1074,Female,35,115000,No\r\n",
            "1075,Male,34,20000,No\r\n",
            "1076,Male,36,114000,Yes\r\n",
            "1077,Male,20,54000,No\r\n",
            "1078,Female,24,29000,No\r\n",
            "1079,Female,30,89000,No\r\n",
            "1080,Female,28,19000,No\r\n",
            "1081,Male,32,82000,No\r\n",
            "1082,Male,41,44000,No\r\n",
            "1083,Male,22,51000,No\r\n",
            "1084,Male,37,90000,No\r\n",
            "1085,Female,32,64000,No\r\n",
            "1086,Female,33,120000,Yes\r\n",
            "1087,Male,26,57000,No\r\n",
            "1088,Female,30,87000,No\r\n",
            "1089,Male,28,83000,No\r\n",
            "1090,Male,37,52000,No\r\n",
            "1091,Male,24,83000,No\r\n",
            "1092,Female,32,118000,No\r\n",
            "1093,Male,28,17000,No\r\n",
            "1094,Female,31,30000,No\r\n",
            "1095,Female,31,85000,No\r\n",
            "1096,Female,37,46000,No\r\n",
            "1097,Female,37,27000,No\r\n",
            "1098,Male,30,125000,Yes\r\n",
            "1099,Male,37,75000,No\r\n",
            "1100,Female,30,39000,No\r\n",
            "1101,Male,29,90000,No\r\n",
            "1102,Male,30,61000,No\r\n",
            "1103,Female,34,88000,No\r\n",
            "1104,Female,35,151000,Yes\r\n",
            "1105,Female,21,23000,No\r\n",
            "1106,Male,23,74000,No\r\n",
            "1107,Female,28,37000,No\r\n",
            "1108,Male,29,91000,No\r\n",
            "1109,Male,28,88000,No\r\n",
            "1110,Female,40,82000,No\r\n",
            "1111,Female,41,73000,No\r\n",
            "1112,Female,39,73000,No\r\n",
            "1113,Male,40,63000,No\r\n",
            "1114,Male,39,57000,No\r\n",
            "1115,Male,44,82000,No\r\n",
            "1116,Male,42,59000,No\r\n",
            "1117,Male,37,77000,No\r\n",
            "1118,Male,38,54000,No\r\n",
            "1119,Male,42,61000,No\r\n",
            "1120,Male,43,61000,No\r\n",
            "1121,Female,38,77000,No\r\n",
            "1122,Male,39,74000,No\r\n",
            "1123,Female,42,77000,No\r\n",
            "1124,Male,37,55000,No\r\n",
            "1125,Female,43,53000,No\r\n",
            "1126,Female,41,63000,No\r\n",
            "1127,Male,44,67000,No\r\n",
            "1128,Male,28,34000,No\r\n",
            "1129,Male,32,19000,No\r\n",
            "1130,Female,28,86000,No\r\n",
            "1131,Male,33,60000,No\r\n",
            "1132,Male,35,33000,No\r\n",
            "1133,Male,32,89000,No\r\n",
            "1134,Female,23,70000,No\r\n",
            "1135,Female,30,57000,No\r\n",
            "1136,Male,25,65000,No\r\n",
            "1137,Female,22,84000,No\r\n",
            "1138,Male,32,109000,Yes\r\n",
            "1139,Female,30,61000,No\r\n",
            "1140,Male,21,27000,No\r\n",
            "1141,Male,21,87000,No\r\n",
            "1142,Female,20,70000,No\r\n",
            "1143,Male,37,61000,No\r\n",
            "1144,Male,32,91000,No\r\n",
            "1145,Female,36,27000,No\r\n",
            "1146,Female,26,91000,No\r\n",
            "1147,Female,29,98000,Yes\r\n",
            "1148,Female,43,32000,No\r\n",
            "1149,Male,31,63000,No\r\n",
            "1150,Male,22,76000,No\r\n",
            "1151,Female,28,17000,No\r\n",
            "1152,Male,43,47000,No\r\n",
            "1153,Male,33,78000,No\r\n",
            "1154,Female,38,52000,No\r\n",
            "1155,Male,42,49000,No\r\n",
            "1156,Female,33,17000,No\r\n",
            "1157,Male,48,61000,No\r\n",
            "1158,Male,31,77000,No\r\n",
            "1159,Male,28,32000,No\r\n",
            "1160,Female,34,137000,Yes\r\n",
            "1161,Male,34,102000,Yes\r\n",
            "1162,Male,27,92000,No\r\n",
            "1163,Female,39,35000,No\r\n",
            "1164,Male,37,40000,No\r\n",
            "1165,Female,35,71000,No\r\n",
            "1166,Female,20,88000,No\r\n",
            "1167,Female,24,57000,No\r\n",
            "1168,Female,37,73000,No\r\n",
            "1169,Male,31,150000,Yes\r\n",
            "1170,Female,31,49000,No\r\n",
            "1171,Male,23,90000,No\r\n",
            "1172,Male,36,117000,No\r\n",
            "1173,Female,28,120000,No\r\n",
            "1174,Female,36,45000,No\r\n",
            "1175,Female,36,74000,No\r\n",
            "1176,Female,25,30000,No\r\n",
            "1177,Female,37,49000,No\r\n",
            "1178,Male,27,24000,No\r\n",
            "1179,Male,26,25000,No\r\n",
            "1180,Female,33,36000,No\r\n",
            "1181,Male,28,18000,No\r\n",
            "1182,Female,33,73000,No\r\n",
            "1183,Female,34,119000,Yes\r\n",
            "1184,Male,35,45000,No\r\n",
            "1185,Female,35,62000,No\r\n",
            "1186,Male,33,68000,No\r\n",
            "1187,Female,22,84000,No\r\n",
            "1188,Female,35,43000,No\r\n",
            "1189,Male,37,74000,No\r\n",
            "1190,Male,30,34000,No\r\n",
            "1191,Male,26,86000,No\r\n",
            "1192,Female,21,28000,No\r\n",
            "1193,Male,31,45000,No\r\n",
            "1194,Male,21,72000,No\r\n",
            "1195,Male,30,91000,No\r\n",
            "1196,Male,36,45000,No\r\n",
            "1197,Female,32,81000,No\r\n",
            "1198,Female,22,38000,No\r\n",
            "1199,Male,28,82000,No\r\n",
            "1200,Male,37,24000,No"
          ]
        }
      ]
    },
    {
      "cell_type": "code",
      "metadata": {
        "id": "OOWt6yVp6L--",
        "colab": {
          "base_uri": "https://localhost:8080/"
        },
        "outputId": "afd26887-e18c-488e-ffbf-9133b6a2c048"
      },
      "source": [
        "%ls"
      ],
      "execution_count": null,
      "outputs": [
        {
          "output_type": "stream",
          "name": "stdout",
          "text": [
            "Age-salary.csv  \u001b[0m\u001b[01;34msample_data\u001b[0m/\n"
          ]
        }
      ]
    },
    {
      "cell_type": "code",
      "metadata": {
        "id": "2oHUGbIn9X8n"
      },
      "source": [
        "#14. Write a python program to demonstrate application on feature scaling using \n",
        "#MinMaxScaler with pandas\n",
        "#Hint: MinMaxScaler Formula: (Xi - Xmin) / (Xmax - Xmin)\n",
        "import pandas as pd\n",
        "from sklearn import preprocessing\n",
        "dataset=pd.read_csv('Age-salary.csv')\n",
        "features=dataset.iloc[:,[2,3]].values\n",
        "minmaxscaler_as=preprocessing.MinMaxScaler(feature_range=(0,2))\n",
        "features_scale=minmaxscaler_as.fit_transform(features)\n",
        "print(dataset.dtypes)\n",
        "print(features_scale)"
      ],
      "execution_count": null,
      "outputs": []
    },
    {
      "cell_type": "code",
      "metadata": {
        "id": "8yQ7FPjX-Eg-",
        "colab": {
          "base_uri": "https://localhost:8080/"
        },
        "outputId": "580f3b0f-5ee2-480a-f068-3332efe4bf34"
      },
      "source": [
        "#15. Write a python program to demonstrate application on feature scaling using\n",
        "#StandardScaler with pandas\n",
        "#Hint: (Xi - Xmean) / (standard Deviation of that feature)\n",
        "import pandas as pd\n",
        "from sklearn import preprocessing\n",
        "dataset=pd.read_csv('Age-salary.csv')\n",
        "features=dataset.iloc[:,[2,3]].values\n",
        "stscaler=preprocessing.StandardScaler()\n",
        "scaled=stscaler.fit_transform(features)\n",
        "print(scaled)"
      ],
      "execution_count": null,
      "outputs": [
        {
          "output_type": "stream",
          "text": [
            "[[-1.52370992 -1.34479807]\n",
            " [ 0.62804284 -1.31234638]\n",
            " [-0.58231809 -0.56595749]\n",
            " [-0.44783354 -0.11163382]\n",
            " [-1.52370992  0.50494831]\n",
            " [-0.44783354 -0.07918213]\n",
            " [-0.44783354  0.76456184]\n",
            " [ 0.22458919  2.90637344]\n",
            " [-0.71680264 -0.8904744 ]\n",
            " [ 0.62804284  0.14797971]\n",
            " [-0.58231809  0.63475507]\n",
            " [-0.58231809 -0.27389227]\n",
            " [-1.38922537  0.82946522]\n",
            " [ 0.22458919 -1.37724976]\n",
            " [-1.65819447  0.69965846]\n",
            " [-0.17886445  0.63475507]\n",
            " [ 2.2418574  -1.15008793]\n",
            " [ 1.97288831 -1.11763623]\n",
            " [ 2.10737285 -1.05273285]\n",
            " [ 2.37634195 -1.02028116]\n",
            " [ 1.97288831 -1.247443  ]\n",
            " [ 2.2418574  -0.37124734]\n",
            " [ 2.37634195 -0.63086087]\n",
            " [ 1.97288831 -1.247443  ]\n",
            " [ 2.10737285 -1.21499131]\n",
            " [ 2.2418574  -1.31234638]\n",
            " [ 2.5108265  -1.05273285]\n",
            " [ 2.2418574  -0.98782947]\n",
            " [-0.17886445 -0.56595749]\n",
            " [ 0.09010465 -1.37724976]\n",
            " [ 0.09010465  0.44004493]\n",
            " [-0.44783354  2.48450145]\n",
            " [-1.25474082 -1.44215314]\n",
            " [-0.31334899 -0.5335058 ]\n",
            " [-0.44783354  0.95927198]\n",
            " [ 0.62804284 -1.08518454]\n",
            " [ 0.35907374 -1.05273285]\n",
            " [-0.0443799  -0.37124734]\n",
            " [-0.58231809  0.37514155]\n",
            " [-0.44783354 -0.95537778]\n",
            " [-0.44783354 -1.40970145]\n",
            " [ 0.35907374 -0.30634396]\n",
            " [ 0.62804284  1.54340242]\n",
            " [-0.0443799  -1.47460483]\n",
            " [-0.31334899  0.76456184]\n",
            " [-0.98577173 -1.31234638]\n",
            " [-0.71680264  0.60230338]\n",
            " [-0.44783354 -0.20898889]\n",
            " [-0.0443799   2.41959807]\n",
            " [ 0.09010465  0.92682029]\n",
            " [-0.85128718 -0.92292609]\n",
            " [-1.65819447 -0.5335058 ]\n",
            " [-0.17886445  0.73211015]\n",
            " [ 0.62804284 -1.21499131]\n",
            " [-0.44783354 -0.07918213]\n",
            " [-0.85128718 -0.1765372 ]\n",
            " [-0.98577173 -0.40369903]\n",
            " [-0.31334899  0.60230338]\n",
            " [-1.12025628 -1.37724976]\n",
            " [ 0.22458919  1.83546764]\n",
            " [-0.44783354 -1.31234638]\n",
            " [-0.71680264  0.86191691]\n",
            " [-0.98577173  0.1804314 ]\n",
            " [ 0.22458919  1.93282271]\n",
            " [ 3.85567197  0.73211015]\n",
            " [-0.85128718 -0.07918213]\n",
            " [-0.85128718 -1.34479807]\n",
            " [-0.98577173  0.69965846]\n",
            " [-1.12025628  0.08307633]\n",
            " [ 0.09010465  0.24533478]\n",
            " [-0.71680264  0.63475507]\n",
            " [-0.85128718 -1.08518454]\n",
            " [-1.38922537 -1.21499131]\n",
            " [ 0.35907374  1.70566087]\n",
            " [ 0.22458919 -1.37724976]\n",
            " [ 0.49355829  1.67320918]\n",
            " [-1.65819447 -0.27389227]\n",
            " [-1.12025628 -1.08518454]\n",
            " [-0.31334899  0.86191691]\n",
            " [-0.58231809 -1.40970145]\n",
            " [-0.0443799   0.63475507]\n",
            " [ 1.16598102 -0.59840918]\n",
            " [-1.38922537 -0.37124734]\n",
            " [ 0.62804284  0.8943686 ]\n",
            " [-0.0443799   0.05062464]\n",
            " [ 0.09010465  1.86791933]\n",
            " [-0.85128718 -0.1765372 ]\n",
            " [-0.31334899  0.79701353]\n",
            " [-0.58231809  0.66720676]\n",
            " [ 0.62804284 -0.33879565]\n",
            " [-1.12025628  0.66720676]\n",
            " [-0.0443799   1.80301595]\n",
            " [-0.58231809 -1.47460483]\n",
            " [-0.17886445 -1.05273285]\n",
            " [-0.17886445  0.73211015]\n",
            " [ 0.62804284 -0.5335058 ]\n",
            " [ 0.62804284 -1.15008793]\n",
            " [-0.31334899  2.03017778]\n",
            " [ 0.62804284  0.40759324]\n",
            " [-0.31334899 -0.76066763]\n",
            " [-0.44783354  0.8943686 ]\n",
            " [-0.31334899 -0.04673043]\n",
            " [ 0.22458919  0.82946522]\n",
            " [ 0.35907374  2.87392175]\n",
            " [-1.52370992 -1.27989469]\n",
            " [-1.25474082  0.37514155]\n",
            " [-0.58231809 -0.82557102]\n",
            " [-0.44783354  0.92682029]\n",
            " [-0.58231809  0.82946522]\n",
            " [ 1.03149648  0.63475507]\n",
            " [ 1.16598102  0.34268986]\n",
            " [ 0.89701193  0.34268986]\n",
            " [ 1.03149648  0.01817295]\n",
            " [ 0.89701193 -0.1765372 ]\n",
            " [ 1.56943467  0.63475507]\n",
            " [ 1.30046557 -0.11163382]\n",
            " [ 0.62804284  0.47249662]\n",
            " [ 0.76252738 -0.27389227]\n",
            " [ 1.30046557 -0.04673043]\n",
            " [ 1.43495012 -0.04673043]\n",
            " [ 0.76252738  0.47249662]\n",
            " [ 0.89701193  0.37514155]\n",
            " [ 1.30046557  0.47249662]\n",
            " [ 0.62804284 -0.24144058]\n",
            " [ 1.43495012 -0.30634396]\n",
            " [ 1.16598102  0.01817295]\n",
            " [ 1.56943467  0.14797971]\n",
            " [-0.58231809 -0.92292609]\n",
            " [-0.0443799  -1.40970145]\n",
            " [-0.58231809  0.76456184]\n",
            " [ 0.09010465 -0.07918213]\n",
            " [ 0.35907374 -0.95537778]\n",
            " [-0.0443799   0.86191691]\n",
            " [-1.25474082  0.24533478]\n",
            " [-0.31334899 -0.1765372 ]\n",
            " [-0.98577173  0.08307633]\n",
            " [-1.38922537  0.69965846]\n",
            " [-0.0443799   1.51095073]\n",
            " [-0.31334899 -0.04673043]\n",
            " [-1.52370992 -1.15008793]\n",
            " [-1.52370992  0.79701353]\n",
            " [-1.65819447  0.24533478]\n",
            " [ 0.62804284 -0.04673043]\n",
            " [-0.0443799   0.92682029]\n",
            " [ 0.49355829 -1.15008793]\n",
            " [-0.85128718  0.92682029]\n",
            " [-0.44783354  1.15398213]\n",
            " [ 1.43495012 -0.98782947]\n",
            " [-0.17886445  0.01817295]\n",
            " [-1.38922537  0.44004493]\n",
            " [-0.58231809 -1.47460483]\n",
            " [ 1.43495012 -0.50105411]\n",
            " [ 0.09010465  0.50494831]\n",
            " [ 0.76252738 -0.33879565]\n",
            " [ 1.30046557 -0.43615073]\n",
            " [ 0.09010465 -1.47460483]\n",
            " [ 2.10737285 -0.04673043]\n",
            " [-0.17886445  0.47249662]\n",
            " [-0.58231809 -0.98782947]\n",
            " [ 0.22458919  2.41959807]\n",
            " [ 0.22458919  1.28378889]\n",
            " [-0.71680264  0.95927198]\n",
            " [ 0.89701193 -0.8904744 ]\n",
            " [ 0.62804284 -0.72821594]\n",
            " [ 0.35907374  0.27778647]\n",
            " [-1.65819447  0.82946522]\n",
            " [-1.12025628 -0.1765372 ]\n",
            " [ 0.62804284  0.34268986]\n",
            " [-0.17886445  2.84147005]\n",
            " [-0.17886445 -0.43615073]\n",
            " [-1.25474082  0.8943686 ]\n",
            " [ 0.49355829  1.77056425]\n",
            " [-0.58231809  1.86791933]\n",
            " [ 0.49355829 -0.56595749]\n",
            " [ 0.49355829  0.37514155]\n",
            " [-0.98577173 -1.05273285]\n",
            " [ 0.62804284 -0.43615073]\n",
            " [-0.71680264 -1.247443  ]\n",
            " [-0.85128718 -1.21499131]\n",
            " [ 0.09010465 -0.85802271]\n",
            " [-0.58231809 -1.44215314]\n",
            " [ 0.09010465  0.34268986]\n",
            " [ 0.22458919  1.83546764]\n",
            " [ 0.35907374 -0.56595749]\n",
            " [ 0.35907374 -0.01427874]\n",
            " [ 0.09010465  0.1804314 ]\n",
            " [-1.38922537  0.69965846]\n",
            " [ 0.35907374 -0.63086087]\n",
            " [ 0.62804284  0.37514155]\n",
            " [-0.31334899 -0.92292609]\n",
            " [-0.85128718  0.76456184]\n",
            " [-1.52370992 -1.11763623]\n",
            " [-0.17886445 -0.56595749]\n",
            " [-1.52370992  0.31023816]\n",
            " [-0.31334899  0.92682029]\n",
            " [ 0.49355829 -0.56595749]\n",
            " [-0.0443799   0.60230338]\n",
            " [-1.38922537 -0.79311933]\n",
            " [-0.58231809  0.63475507]\n",
            " [ 0.62804284 -1.247443  ]]\n"
          ],
          "name": "stdout"
        }
      ]
    },
    {
      "cell_type": "code",
      "metadata": {
        "id": "q82ETjM1-H19",
        "colab": {
          "base_uri": "https://localhost:8080/"
        },
        "outputId": "4add1e0a-7050-495c-b96d-1e07e773739c"
      },
      "source": [
        "#16. Write a python program to demonstrate application on feature scaling using\n",
        "#Binarizer with pandas\n",
        "import pandas as pd\n",
        "from sklearn import preprocessing\n",
        "dataset = pd.read_csv('Age-salary.csv')\n",
        "features = dataset.iloc[:,[2]].values #represents age column\n",
        "binarizer2 = preprocessing.Binarizer(33) # above the value 33 all will be set to 1\n",
        "binarizer_scaled2 = binarizer2.fit_transform(features)\n",
        "dataset['bin_col']=binarizer_scaled2\n",
        "print(dataset.head())"
      ],
      "execution_count": null,
      "outputs": [
        {
          "output_type": "stream",
          "text": [
            "     ID  Gender  Age  Salary Purchased  bin_col\n",
            "0  1001    Male   21   21000        No        0\n",
            "1  1002    Male   37   22000        No        1\n",
            "2  1003  Female   28   45000        No        0\n",
            "3  1004  Female   29   59000        No        0\n",
            "4  1005    Male   21   78000        No        0\n"
          ],
          "name": "stdout"
        }
      ]
    },
    {
      "cell_type": "code",
      "metadata": {
        "id": "5YSqb3SO-PPf",
        "colab": {
          "base_uri": "https://localhost:8080/"
        },
        "outputId": "39042138-5416-46d0-be86-f6112bace117"
      },
      "source": [
        "#17. Write a python program to demonstrate application on feature scaling using\n",
        "#normalizer with pandas\n",
        "#Hint: Xi /sqrt(sum of all the squares of that row)\n",
        "import pandas as pd\n",
        "from sklearn import preprocessing\n",
        "dataset = pd.read_csv('Age-salary.csv')\n",
        "features = dataset.iloc[:,[2,3]].values\n",
        "normalizer2 = preprocessing.Normalizer()\n",
        "normal2 = normalizer2.fit_transform(features)\n",
        "print(normal2)"
      ],
      "execution_count": null,
      "outputs": [
        {
          "output_type": "stream",
          "text": [
            "[[9.99999500e-04 9.99999500e-01]\n",
            " [1.68181580e-03 9.99998586e-01]\n",
            " [6.22222102e-04 9.99999806e-01]\n",
            " [4.91525364e-04 9.99999879e-01]\n",
            " [2.69230759e-04 9.99999964e-01]\n",
            " [4.83333277e-04 9.99999883e-01]\n",
            " [3.37209283e-04 9.99999943e-01]\n",
            " [2.23684205e-04 9.99999975e-01]\n",
            " [7.71428342e-04 9.99999702e-01]\n",
            " [5.52238722e-04 9.99999848e-01]\n",
            " [3.41463395e-04 9.99999942e-01]\n",
            " [5.18518449e-04 9.99999866e-01]\n",
            " [2.49999992e-04 9.99999969e-01]\n",
            " [1.69999754e-03 9.99998555e-01]\n",
            " [2.38095231e-04 9.99999972e-01]\n",
            " [3.78048753e-04 9.99999929e-01]\n",
            " [1.81481183e-03 9.99998353e-01]\n",
            " [1.67856906e-03 9.99998591e-01]\n",
            " [1.59999795e-03 9.99998720e-01]\n",
            " [1.61290113e-03 9.99998699e-01]\n",
            " [1.95832958e-03 9.99998082e-01]\n",
            " [9.60783870e-04 9.99999538e-01]\n",
            " [1.16278991e-03 9.99999324e-01]\n",
            " [1.95832958e-03 9.99998082e-01]\n",
            " [1.91999646e-03 9.99998157e-01]\n",
            " [2.22726720e-03 9.99997520e-01]\n",
            " [1.69999754e-03 9.99998555e-01]\n",
            " [1.53124820e-03 9.99998828e-01]\n",
            " [6.88888725e-04 9.99999763e-01]\n",
            " [1.64999775e-03 9.99998639e-01]\n",
            " [4.34210485e-04 9.99999906e-01]\n",
            " [2.08633089e-04 9.99999978e-01]\n",
            " [1.27777673e-03 9.99999184e-01]\n",
            " [6.52173774e-04 9.99999787e-01]\n",
            " [3.15217376e-04 9.99999950e-01]\n",
            " [1.27586103e-03 9.99999186e-01]\n",
            " [1.16666587e-03 9.99999319e-01]\n",
            " [6.27450857e-04 9.99999803e-01]\n",
            " [3.78378351e-04 9.99999928e-01]\n",
            " [8.78787539e-04 9.99999614e-01]\n",
            " [1.52631401e-03 9.99998835e-01]\n",
            " [6.60377214e-04 9.99999782e-01]\n",
            " [3.36363617e-04 9.99999943e-01]\n",
            " [1.88234961e-03 9.99998228e-01]\n",
            " [3.48837188e-04 9.99999939e-01]\n",
            " [1.13636290e-03 9.99999354e-01]\n",
            " [3.33333315e-04 9.99999944e-01]\n",
            " [5.17857073e-04 9.99999866e-01]\n",
            " [2.33576636e-04 9.99999973e-01]\n",
            " [3.62637339e-04 9.99999934e-01]\n",
            " [7.64705659e-04 9.99999708e-01]\n",
            " [4.34782568e-04 9.99999905e-01]\n",
            " [3.64705858e-04 9.99999933e-01]\n",
            " [1.47999838e-03 9.99998905e-01]\n",
            " [4.83333277e-04 9.99999883e-01]\n",
            " [4.56140303e-04 9.99999896e-01]\n",
            " [4.99999938e-04 9.99999875e-01]\n",
            " [3.70370345e-04 9.99999931e-01]\n",
            " [1.19999914e-03 9.99999280e-01]\n",
            " [2.85714274e-04 9.99999959e-01]\n",
            " [1.31818067e-03 9.99999131e-01]\n",
            " [3.03370773e-04 9.99999954e-01]\n",
            " [3.67647034e-04 9.99999932e-01]\n",
            " [2.78688514e-04 9.99999961e-01]\n",
            " [7.17646874e-04 9.99999742e-01]\n",
            " [4.33333293e-04 9.99999906e-01]\n",
            " [1.23809429e-03 9.99999234e-01]\n",
            " [2.97619034e-04 9.99999956e-01]\n",
            " [3.69230744e-04 9.99999932e-01]\n",
            " [4.71428519e-04 9.99999889e-01]\n",
            " [3.29268275e-04 9.99999946e-01]\n",
            " [8.96551364e-04 9.99999598e-01]\n",
            " [8.79999659e-04 9.99999613e-01]\n",
            " [3.04347812e-04 9.99999954e-01]\n",
            " [1.69999754e-03 9.99998555e-01]\n",
            " [3.15789458e-04 9.99999950e-01]\n",
            " [3.70370345e-04 9.99999931e-01]\n",
            " [8.27585923e-04 9.99999658e-01]\n",
            " [3.37078633e-04 9.99999943e-01]\n",
            " [1.47368261e-03 9.99998914e-01]\n",
            " [3.90243873e-04 9.99999924e-01]\n",
            " [9.31817777e-04 9.99999566e-01]\n",
            " [4.31372509e-04 9.99999907e-01]\n",
            " [4.11111076e-04 9.99999915e-01]\n",
            " [4.99999938e-04 9.99999875e-01]\n",
            " [2.74999990e-04 9.99999962e-01]\n",
            " [4.56140303e-04 9.99999896e-01]\n",
            " [3.44827566e-04 9.99999941e-01]\n",
            " [3.37349378e-04 9.99999943e-01]\n",
            " [7.11538281e-04 9.99999747e-01]\n",
            " [2.89156614e-04 9.99999958e-01]\n",
            " [2.71186431e-04 9.99999963e-01]\n",
            " [1.64705659e-03 9.99998644e-01]\n",
            " [1.03333278e-03 9.99999466e-01]\n",
            " [3.64705858e-04 9.99999933e-01]\n",
            " [8.04347566e-04 9.99999677e-01]\n",
            " [1.37036908e-03 9.99999061e-01]\n",
            " [2.39999993e-04 9.99999971e-01]\n",
            " [4.93333273e-04 9.99999878e-01]\n",
            " [7.69230542e-04 9.99999704e-01]\n",
            " [3.22222205e-04 9.99999948e-01]\n",
            " [4.91803219e-04 9.99999879e-01]\n",
            " [3.86363608e-04 9.99999925e-01]\n",
            " [2.31788073e-04 9.99999973e-01]\n",
            " [9.13043098e-04 9.99999583e-01]\n",
            " [3.10810796e-04 9.99999952e-01]\n",
            " [7.56756540e-04 9.99999714e-01]\n",
            " [3.18681302e-04 9.99999949e-01]\n",
            " [3.18181802e-04 9.99999949e-01]\n",
            " [4.87804820e-04 9.99999881e-01]\n",
            " [5.61643747e-04 9.99999842e-01]\n",
            " [5.34246499e-04 9.99999857e-01]\n",
            " [6.34920507e-04 9.99999798e-01]\n",
            " [6.84210366e-04 9.99999766e-01]\n",
            " [5.36585289e-04 9.99999856e-01]\n",
            " [7.11864226e-04 9.99999747e-01]\n",
            " [4.80519425e-04 9.99999885e-01]\n",
            " [7.03703529e-04 9.99999752e-01]\n",
            " [6.88524427e-04 9.99999763e-01]\n",
            " [7.04917858e-04 9.99999752e-01]\n",
            " [4.93506433e-04 9.99999878e-01]\n",
            " [5.27026954e-04 9.99999861e-01]\n",
            " [5.45454464e-04 9.99999851e-01]\n",
            " [6.72727121e-04 9.99999774e-01]\n",
            " [8.11320488e-04 9.99999671e-01]\n",
            " [6.50793513e-04 9.99999788e-01]\n",
            " [6.56716276e-04 9.99999784e-01]\n",
            " [8.23529133e-04 9.99999661e-01]\n",
            " [1.68420814e-03 9.99998582e-01]\n",
            " [3.25581378e-04 9.99999947e-01]\n",
            " [5.49999917e-04 9.99999849e-01]\n",
            " [1.06060546e-03 9.99999438e-01]\n",
            " [3.59550539e-04 9.99999935e-01]\n",
            " [3.28571411e-04 9.99999946e-01]\n",
            " [5.26315717e-04 9.99999861e-01]\n",
            " [3.84615356e-04 9.99999926e-01]\n",
            " [2.61904753e-04 9.99999966e-01]\n",
            " [2.93577969e-04 9.99999957e-01]\n",
            " [4.91803219e-04 9.99999879e-01]\n",
            " [7.77777543e-04 9.99999698e-01]\n",
            " [2.41379303e-04 9.99999971e-01]\n",
            " [2.85714274e-04 9.99999959e-01]\n",
            " [6.06557265e-04 9.99999816e-01]\n",
            " [3.51648330e-04 9.99999938e-01]\n",
            " [1.33333215e-03 9.99999111e-01]\n",
            " [2.85714274e-04 9.99999959e-01]\n",
            " [2.95918354e-04 9.99999956e-01]\n",
            " [1.34374879e-03 9.99999097e-01]\n",
            " [4.92063432e-04 9.99999879e-01]\n",
            " [2.89473672e-04 9.99999958e-01]\n",
            " [1.64705659e-03 9.99998644e-01]\n",
            " [9.14893234e-04 9.99999581e-01]\n",
            " [4.23076885e-04 9.99999911e-01]\n",
            " [7.30769036e-04 9.99999733e-01]\n",
            " [8.57142542e-04 9.99999633e-01]\n",
            " [1.94117281e-03 9.99998116e-01]\n",
            " [7.86885002e-04 9.99999690e-01]\n",
            " [4.02597370e-04 9.99999919e-01]\n",
            " [8.74999665e-04 9.99999617e-01]\n",
            " [2.48175175e-04 9.99999969e-01]\n",
            " [3.33333315e-04 9.99999944e-01]\n",
            " [2.93478248e-04 9.99999957e-01]\n",
            " [1.11428502e-03 9.99999379e-01]\n",
            " [9.24999604e-04 9.99999572e-01]\n",
            " [4.92957687e-04 9.99999878e-01]\n",
            " [2.27272721e-04 9.99999974e-01]\n",
            " [4.21052594e-04 9.99999911e-01]\n",
            " [5.06849250e-04 9.99999872e-01]\n",
            " [2.06666662e-04 9.99999979e-01]\n",
            " [6.32652935e-04 9.99999800e-01]\n",
            " [2.55555547e-04 9.99999967e-01]\n",
            " [3.07692293e-04 9.99999953e-01]\n",
            " [2.33333327e-04 9.99999973e-01]\n",
            " [7.99999744e-04 9.99999680e-01]\n",
            " [4.86486429e-04 9.99999882e-01]\n",
            " [8.33333044e-04 9.99999653e-01]\n",
            " [7.55101826e-04 9.99999715e-01]\n",
            " [1.12499929e-03 9.99999367e-01]\n",
            " [1.03999944e-03 9.99999459e-01]\n",
            " [9.16666282e-04 9.99999580e-01]\n",
            " [1.55555367e-03 9.99998790e-01]\n",
            " [4.52054748e-04 9.99999898e-01]\n",
            " [2.85714274e-04 9.99999959e-01]\n",
            " [7.77777543e-04 9.99999698e-01]\n",
            " [5.64516039e-04 9.99999841e-01]\n",
            " [4.85294061e-04 9.99999882e-01]\n",
            " [2.61904753e-04 9.99999966e-01]\n",
            " [8.13953219e-04 9.99999669e-01]\n",
            " [4.99999938e-04 9.99999875e-01]\n",
            " [8.82352598e-04 9.99999611e-01]\n",
            " [3.02325568e-04 9.99999954e-01]\n",
            " [7.49999789e-04 9.99999719e-01]\n",
            " [6.88888725e-04 9.99999763e-01]\n",
            " [2.91666654e-04 9.99999957e-01]\n",
            " [3.29670312e-04 9.99999946e-01]\n",
            " [7.99999744e-04 9.99999680e-01]\n",
            " [3.95061698e-04 9.99999922e-01]\n",
            " [5.78947271e-04 9.99999832e-01]\n",
            " [3.41463395e-04 9.99999942e-01]\n",
            " [1.54166483e-03 9.99998812e-01]]\n"
          ],
          "name": "stdout"
        }
      ]
    },
    {
      "cell_type": "code",
      "metadata": {
        "id": "blGH1DBZDC0M",
        "colab": {
          "resources": {
            "http://localhost:8080/nbextensions/google.colab/files.js": {
              "data": "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",
              "ok": true,
              "headers": [
                [
                  "content-type",
                  "application/javascript"
                ]
              ],
              "status": 200,
              "status_text": ""
            }
          },
          "base_uri": "https://localhost:8080/",
          "height": 72
        },
        "outputId": "dbd7798c-2490-40df-b094-68fab6b99b71"
      },
      "source": [
        "from google.colab import files\n",
        "uploaded=files.upload()\n"
      ],
      "execution_count": null,
      "outputs": [
        {
          "output_type": "display_data",
          "data": {
            "text/html": [
              "\n",
              "     <input type=\"file\" id=\"files-a03228e3-71db-434f-8da0-d89068cbedb1\" name=\"files[]\" multiple disabled\n",
              "        style=\"border:none\" />\n",
              "     <output id=\"result-a03228e3-71db-434f-8da0-d89068cbedb1\">\n",
              "      Upload widget is only available when the cell has been executed in the\n",
              "      current browser session. Please rerun this cell to enable.\n",
              "      </output>\n",
              "      <script src=\"/nbextensions/google.colab/files.js\"></script> "
            ],
            "text/plain": [
              "<IPython.core.display.HTML object>"
            ]
          },
          "metadata": {}
        },
        {
          "output_type": "stream",
          "name": "stdout",
          "text": [
            "Saving 50_Startups.csv to 50_Startups.csv\n"
          ]
        }
      ]
    },
    {
      "cell_type": "code",
      "metadata": {
        "id": "z67nxkvC-SPt",
        "colab": {
          "base_uri": "https://localhost:8080/",
          "height": 703
        },
        "outputId": "4f3738d9-8e58-4287-e486-6bf256088abe"
      },
      "source": [
        "#18. Write a simple python program on Simple Linear Regression\n",
        "# Step 1\n",
        "import pandas as pd\n",
        "import matplotlib.pyplot as plt\n",
        "\n",
        "# Step 2 - Load the dataset\n",
        "df_train = pd.read_csv('SalaryData_Train.csv')\n",
        "\n",
        "# Step 3 Displays top 5 rows of Data Frame\n",
        "print(df_train.head())\n",
        "\n",
        "# Step 4 - Feature Extraction\n",
        "\n",
        "yoe = df_train.iloc[:,0].values\n",
        "sal = df_train.iloc[:,1].values\n",
        "#print(feature)\n",
        "#print(labels)\n",
        "\n",
        "# Step 5 - Sample\n",
        "\n",
        "from sklearn.model_selection import train_test_split\n",
        "\n",
        "\n",
        "X_train, X_test, y_train, y_test = train_test_split(yoe,sal,test_size = 0.3,random_state=0)\n",
        "#random_state = n will be useful to get a fixed generated train and test for \n",
        "# multiple runs otherwise it generates diff data as train and test\n",
        "\n",
        "# Step 6 - Create the Linear Regression Model\n",
        "\n",
        "from sklearn.linear_model import LinearRegression\n",
        "\n",
        "reg = LinearRegression()\n",
        "\n",
        "# Step 7 - fit the regression (reg) model that we have prepared with train and test dataset in the sampling step\n",
        "\n",
        "reg.fit(X_train.reshape(-1,1),y_train.reshape(-1,1))\n",
        "\n",
        "#Step 8 - Plot the trained data along with prediction\n",
        "plt.scatter(X_train,y_train,color='r')\n",
        "y_pred=reg.predict(X_train.reshape(-1,1))\n",
        "plt.plot(X_train,reg.predict(X_train.reshape(-1,1)),color='b')\n",
        "plt.xlabel('Years of Experience')\n",
        "plt.ylabel('Salary in thousands')\n",
        "plt.title('Salary V/S Years of Experience')\n",
        "plt.show()\n",
        "\n",
        "\n",
        "#Step 9 - Find the accuracy of train and test data\n",
        "\n",
        "print('Accoracy of Trained Data',reg.score(X_train.reshape(-1,1),y_train.reshape(-1,1)))\n",
        "print('Accoracy of Tested Data',reg.score(X_test.reshape(-1,1),y_test.reshape(-1,1)))\n",
        "\n",
        "\n",
        "# Step 10 - Testing the trained data on another data set to predict salary for given years of exp \n",
        "\n",
        "df_test=pd.read_csv('SalaryData_Test.csv')\n",
        "\n",
        "feature_test=df_test.iloc[:,:].values\n",
        "feature_test=feature_test.reshape(-1,1)\n",
        "y_pred_featuretest=reg.predict(feature_test)\n",
        "df_test['PredictedSalary']=y_pred_featuretest\n",
        "#Final Result with predicted Salaries\n",
        "print(df_test)"
      ],
      "execution_count": null,
      "outputs": [
        {
          "output_type": "stream",
          "name": "stdout",
          "text": [
            "   YearsExperience  Salary\n",
            "0              1.1   39343\n",
            "1              1.3   46205\n",
            "2              1.5   37731\n",
            "3              2.0   43525\n",
            "4              2.2   39891\n"
          ]
        },
        {
          "output_type": "display_data",
          "data": {
            "image/png": "[encoded data removed]",
            "text/plain": [
              "<Figure size 432x288 with 1 Axes>"
            ]
          },
          "metadata": {
            "needs_background": "light"
          }
        },
        {
          "output_type": "stream",
          "name": "stdout",
          "text": [
            "Accoracy of Trained Data 0.9423777652193379\n",
            "Accoracy of Tested Data 0.9740993407213511\n",
            "    YearsExperience  PredictedSalary\n",
            "0               3.3     57666.253586\n",
            "1               3.5     59538.305843\n",
            "2               7.0     92299.220345\n",
            "3               9.0    111019.742917\n",
            "4              10.0    120380.004203\n",
            "5               7.9    100723.455502\n",
            "6               8.4    105403.586145\n",
            "7               6.8     90427.168087\n",
            "8               7.6     97915.377116\n",
            "9               9.7    117571.925817\n",
            "10              4.5     68898.567129\n",
            "11              5.8     81066.906801\n",
            "12              6.5     87619.089701\n",
            "13              2.5     50178.044557\n",
            "14              5.4     77322.802287\n"
          ]
        }
      ]
    },
    {
      "cell_type": "code",
      "metadata": {
        "id": "5Z9QLwO-v4ye",
        "colab": {
          "base_uri": "https://localhost:8080/"
        },
        "outputId": "139e3093-ab0d-46f2-8215-7ac3d88e24ee"
      },
      "source": [
        "\n",
        "# 19. Multiple Linear Regression\n",
        "\n",
        "# Importing the libraries\n",
        "import numpy as np\n",
        "import pandas as pd\n",
        "\n",
        "# Importing the dataset\n",
        "dataset = pd.read_csv('50_Startups.csv')\n",
        "X = dataset.iloc[:, :-1] #Ignoring the Profit column and considering all other as dependant\n",
        "y = dataset.iloc[:, 4]# depenedent variable --Profit\n",
        "\n",
        "#Convert the column into categorical columns\n",
        "\n",
        "states=pd.get_dummies(X['State'],drop_first=True)\n",
        "\n",
        "# Drop the state coulmn\n",
        "X=X.drop('State',axis=1)\n",
        "\n",
        "# concat the dummy variables\n",
        "X=pd.concat([states,X],axis=1)\n",
        "\n",
        "\n",
        "\n",
        "# Splitting the dataset into the Training set and Test set\n",
        "from sklearn.model_selection import train_test_split\n",
        "X_train, X_test, y_train, y_test = train_test_split(X, y, test_size = 0.2, random_state = 0)\n",
        "\n",
        "# Fitting Multiple Linear Regression to the Training set\n",
        "from sklearn.linear_model import LinearRegression\n",
        "regressor = LinearRegression()\n",
        "regressor.fit(X_train, y_train)\n",
        "\n",
        "# Predicting the Test set results\n",
        "y_pred = regressor.predict(X_test)\n",
        "\n",
        "from sklearn.metrics import r2_score\n",
        "score=r2_score(y_test,y_pred)\n",
        "print('Accuracy R2 Score',score)\n",
        "\n",
        "\n",
        "# Building the optimal model using Backward Elimination\n",
        "#import statsmodels.formula.api as sm    Depricated one\n",
        "import statsmodels.api as sm\n",
        "X = np.append(arr = np.ones((50, 1)).astype(int), values = X, axis = 1)\n",
        " #50 rows and 1column\n",
        "X_opt = X[:, [0, 1, 2, 3, 4, 5]]\n",
        "#OLS - Ordinary Least Square\n",
        "regressor_OLS = sm.OLS( y, X_opt).fit()\n",
        "print(regressor_OLS.summary())\n",
        "X_opt = X[:, [0, 1, 3, 4, 5]]  # As the 2nd column has P>SL(significance level 0.05)]\n",
        "# so we have to remove the feature\n",
        "regressor_OLS = sm.OLS( y,  X_opt).fit()\n",
        "print(regressor_OLS.summary())\n",
        "X_opt = X[:, [0, 3, 4, 5]]\n",
        "regressor_OLS = sm.OLS( y,  X_opt).fit()\n",
        "print(regressor_OLS.summary())\n",
        "X_opt = X[:, [0, 3, 5]]\n",
        "regressor_OLS = sm.OLS(y,  X_opt).fit()\n",
        "print(regressor_OLS.summary())\n",
        "X_opt = X[:, [0, 3]]\n",
        "regressor_OLS = sm.OLS(endog = y, exog = X_opt).fit()\n",
        "\n",
        "print(regressor_OLS.summary())"
      ],
      "execution_count": null,
      "outputs": [
        {
          "output_type": "stream",
          "name": "stdout",
          "text": [
            "Accuracy R2 Score 0.934706847328289\n"
          ]
        },
        {
          "output_type": "stream",
          "name": "stderr",
          "text": [
            "/usr/local/lib/python3.7/dist-packages/statsmodels/tools/_testing.py:19: FutureWarning: pandas.util.testing is deprecated. Use the functions in the public API at pandas.testing instead.\n",
            "  import pandas.util.testing as tm\n"
          ]
        },
        {
          "output_type": "stream",
          "name": "stdout",
          "text": [
            "                            OLS Regression Results                            \n",
            "==============================================================================\n",
            "Dep. Variable:                 Profit   R-squared:                       0.951\n",
            "Model:                            OLS   Adj. R-squared:                  0.945\n",
            "Method:                 Least Squares   F-statistic:                     169.9\n",
            "Date:                Wed, 13 Oct 2021   Prob (F-statistic):           1.34e-27\n",
            "Time:                        05:11:44   Log-Likelihood:                -525.38\n",
            "No. Observations:                  50   AIC:                             1063.\n",
            "Df Residuals:                      44   BIC:                             1074.\n",
            "Df Model:                           5                                         \n",
            "Covariance Type:            nonrobust                                         \n",
            "==============================================================================\n",
            "                 coef    std err          t      P>|t|      [0.025      0.975]\n",
            "------------------------------------------------------------------------------\n",
            "const       5.013e+04   6884.820      7.281      0.000    3.62e+04     6.4e+04\n",
            "x1           198.7888   3371.007      0.059      0.953   -6595.030    6992.607\n",
            "x2           -41.8870   3256.039     -0.013      0.990   -6604.003    6520.229\n",
            "x3             0.8060      0.046     17.369      0.000       0.712       0.900\n",
            "x4            -0.0270      0.052     -0.517      0.608      -0.132       0.078\n",
            "x5             0.0270      0.017      1.574      0.123      -0.008       0.062\n",
            "==============================================================================\n",
            "Omnibus:                       14.782   Durbin-Watson:                   1.283\n",
            "Prob(Omnibus):                  0.001   Jarque-Bera (JB):               21.266\n",
            "Skew:                          -0.948   Prob(JB):                     2.41e-05\n",
            "Kurtosis:                       5.572   Cond. No.                     1.45e+06\n",
            "==============================================================================\n",
            "\n",
            "Warnings:\n",
            "[1] Standard Errors assume that the covariance matrix of the errors is correctly specified.\n",
            "[2] The condition number is large, 1.45e+06. This might indicate that there are\n",
            "strong multicollinearity or other numerical problems.\n",
            "                            OLS Regression Results                            \n",
            "==============================================================================\n",
            "Dep. Variable:                 Profit   R-squared:                       0.951\n",
            "Model:                            OLS   Adj. R-squared:                  0.946\n",
            "Method:                 Least Squares   F-statistic:                     217.2\n",
            "Date:                Wed, 13 Oct 2021   Prob (F-statistic):           8.49e-29\n",
            "Time:                        05:11:44   Log-Likelihood:                -525.38\n",
            "No. Observations:                  50   AIC:                             1061.\n",
            "Df Residuals:                      45   BIC:                             1070.\n",
            "Df Model:                           4                                         \n",
            "Covariance Type:            nonrobust                                         \n",
            "==============================================================================\n",
            "                 coef    std err          t      P>|t|      [0.025      0.975]\n",
            "------------------------------------------------------------------------------\n",
            "const       5.011e+04   6647.870      7.537      0.000    3.67e+04    6.35e+04\n",
            "x1           220.1585   2900.536      0.076      0.940   -5621.821    6062.138\n",
            "x2             0.8060      0.046     17.606      0.000       0.714       0.898\n",
            "x3            -0.0270      0.052     -0.523      0.604      -0.131       0.077\n",
            "x4             0.0270      0.017      1.592      0.118      -0.007       0.061\n",
            "==============================================================================\n",
            "Omnibus:                       14.758   Durbin-Watson:                   1.282\n",
            "Prob(Omnibus):                  0.001   Jarque-Bera (JB):               21.172\n",
            "Skew:                          -0.948   Prob(JB):                     2.53e-05\n",
            "Kurtosis:                       5.563   Cond. No.                     1.40e+06\n",
            "==============================================================================\n",
            "\n",
            "Warnings:\n",
            "[1] Standard Errors assume that the covariance matrix of the errors is correctly specified.\n",
            "[2] The condition number is large, 1.4e+06. This might indicate that there are\n",
            "strong multicollinearity or other numerical problems.\n",
            "                            OLS Regression Results                            \n",
            "==============================================================================\n",
            "Dep. Variable:                 Profit   R-squared:                       0.951\n",
            "Model:                            OLS   Adj. R-squared:                  0.948\n",
            "Method:                 Least Squares   F-statistic:                     296.0\n",
            "Date:                Wed, 13 Oct 2021   Prob (F-statistic):           4.53e-30\n",
            "Time:                        05:11:44   Log-Likelihood:                -525.39\n",
            "No. Observations:                  50   AIC:                             1059.\n",
            "Df Residuals:                      46   BIC:                             1066.\n",
            "Df Model:                           3                                         \n",
            "Covariance Type:            nonrobust                                         \n",
            "==============================================================================\n",
            "                 coef    std err          t      P>|t|      [0.025      0.975]\n",
            "------------------------------------------------------------------------------\n",
            "const       5.012e+04   6572.353      7.626      0.000    3.69e+04    6.34e+04\n",
            "x1             0.8057      0.045     17.846      0.000       0.715       0.897\n",
            "x2            -0.0268      0.051     -0.526      0.602      -0.130       0.076\n",
            "x3             0.0272      0.016      1.655      0.105      -0.006       0.060\n",
            "==============================================================================\n",
            "Omnibus:                       14.838   Durbin-Watson:                   1.282\n",
            "Prob(Omnibus):                  0.001   Jarque-Bera (JB):               21.442\n",
            "Skew:                          -0.949   Prob(JB):                     2.21e-05\n",
            "Kurtosis:                       5.586   Cond. No.                     1.40e+06\n",
            "==============================================================================\n",
            "\n",
            "Warnings:\n",
            "[1] Standard Errors assume that the covariance matrix of the errors is correctly specified.\n",
            "[2] The condition number is large, 1.4e+06. This might indicate that there are\n",
            "strong multicollinearity or other numerical problems.\n",
            "                            OLS Regression Results                            \n",
            "==============================================================================\n",
            "Dep. Variable:                 Profit   R-squared:                       0.950\n",
            "Model:                            OLS   Adj. R-squared:                  0.948\n",
            "Method:                 Least Squares   F-statistic:                     450.8\n",
            "Date:                Wed, 13 Oct 2021   Prob (F-statistic):           2.16e-31\n",
            "Time:                        05:11:44   Log-Likelihood:                -525.54\n",
            "No. Observations:                  50   AIC:                             1057.\n",
            "Df Residuals:                      47   BIC:                             1063.\n",
            "Df Model:                           2                                         \n",
            "Covariance Type:            nonrobust                                         \n",
            "==============================================================================\n",
            "                 coef    std err          t      P>|t|      [0.025      0.975]\n",
            "------------------------------------------------------------------------------\n",
            "const       4.698e+04   2689.933     17.464      0.000    4.16e+04    5.24e+04\n",
            "x1             0.7966      0.041     19.266      0.000       0.713       0.880\n",
            "x2             0.0299      0.016      1.927      0.060      -0.001       0.061\n",
            "==============================================================================\n",
            "Omnibus:                       14.677   Durbin-Watson:                   1.257\n",
            "Prob(Omnibus):                  0.001   Jarque-Bera (JB):               21.161\n",
            "Skew:                          -0.939   Prob(JB):                     2.54e-05\n",
            "Kurtosis:                       5.575   Cond. No.                     5.32e+05\n",
            "==============================================================================\n",
            "\n",
            "Warnings:\n",
            "[1] Standard Errors assume that the covariance matrix of the errors is correctly specified.\n",
            "[2] The condition number is large, 5.32e+05. This might indicate that there are\n",
            "strong multicollinearity or other numerical problems.\n",
            "                            OLS Regression Results                            \n",
            "==============================================================================\n",
            "Dep. Variable:                 Profit   R-squared:                       0.947\n",
            "Model:                            OLS   Adj. R-squared:                  0.945\n",
            "Method:                 Least Squares   F-statistic:                     849.8\n",
            "Date:                Wed, 13 Oct 2021   Prob (F-statistic):           3.50e-32\n",
            "Time:                        05:11:44   Log-Likelihood:                -527.44\n",
            "No. Observations:                  50   AIC:                             1059.\n",
            "Df Residuals:                      48   BIC:                             1063.\n",
            "Df Model:                           1                                         \n",
            "Covariance Type:            nonrobust                                         \n",
            "==============================================================================\n",
            "                 coef    std err          t      P>|t|      [0.025      0.975]\n",
            "------------------------------------------------------------------------------\n",
            "const       4.903e+04   2537.897     19.320      0.000    4.39e+04    5.41e+04\n",
            "x1             0.8543      0.029     29.151      0.000       0.795       0.913\n",
            "==============================================================================\n",
            "Omnibus:                       13.727   Durbin-Watson:                   1.116\n",
            "Prob(Omnibus):                  0.001   Jarque-Bera (JB):               18.536\n",
            "Skew:                          -0.911   Prob(JB):                     9.44e-05\n",
            "Kurtosis:                       5.361   Cond. No.                     1.65e+05\n",
            "==============================================================================\n",
            "\n",
            "Warnings:\n",
            "[1] Standard Errors assume that the covariance matrix of the errors is correctly specified.\n",
            "[2] The condition number is large, 1.65e+05. This might indicate that there are\n",
            "strong multicollinearity or other numerical problems.\n"
          ]
        }
      ]
    },
    {
      "cell_type": "code",
      "metadata": {
        "id": "9SiVm8QLx0W8",
        "colab": {
          "base_uri": "https://localhost:8080/",
          "height": 35
        },
        "outputId": "210600a4-a47a-4c1a-c2d7-47df5eb5fc58"
      },
      "source": [
        "#20Q: C4.5  Decision Tree\n",
        "\n",
        "# Note: Make sure that to install the GraphViz and set the path with C:\\Program Files (x86)\\Graphviz2.38\\bin\n",
        "from sklearn.datasets import load_iris\n",
        "from sklearn import tree\n",
        "iris45 = load_iris()\n",
        "clf = tree.DecisionTreeClassifier(criterion='entropy')\n",
        "clf.fit(iris45.data, iris45.target)\n",
        "\n",
        "# Splitting the dataset into the Training set and Test set\n",
        "from sklearn.model_selection import train_test_split\n",
        "X_train, X_test, y_train, y_test = train_test_split(iris45.data, iris45.target, test_size = 0.2, random_state = 0)\n",
        "\n",
        "clf.score(iris45.data, iris45.target)\n",
        "predicted= clf.predict(X_test)\n",
        "\n",
        "#print((y_test!=predicted).sum(),'/',((y_test==predicted).sum()+(y_test!=predicted).sum()))\n",
        "\n",
        "\n",
        "import graphviz\n",
        "'''dot_data = tree.export_graphviz(clf, out_file=None)\n",
        "\n",
        "graph = graphviz.Source(dot_data)\n",
        "graph.render(\"irisc45DT\") #iris.pdf will be generated with decision tree\n",
        "'''\n",
        "dot_data = tree.export_graphviz(clf, out_file=None, feature_names=iris45.feature_names, class_names=iris45.target_names, filled=True, rounded=True, special_characters=True)\n",
        "graph = graphviz.Source(dot_data)\n",
        "graph.view()"
      ],
      "execution_count": null,
      "outputs": [
        {
          "output_type": "execute_result",
          "data": {
            "application/vnd.google.colaboratory.intrinsic+json": {
              "type": "string"
            },
            "text/plain": [
              "'Source.gv.pdf'"
            ]
          },
          "metadata": {},
          "execution_count": 1
        }
      ]
    },
    {
      "cell_type": "code",
      "metadata": {
        "colab": {
          "base_uri": "https://localhost:8080/",
          "height": 936
        },
        "id": "NlQ3WvJfuzld",
        "outputId": "c6c2c6b3-e25a-4ebd-eb87-29febcb2bd95"
      },
      "source": [
        "with open('Source.gv') as f:\n",
        "  dot_graph=f.read()\n",
        "graphviz.Source(dot_graph)\n"
      ],
      "execution_count": null,
      "outputs": [
        {
          "output_type": "execute_result",
          "data": {
            "text/plain": [
              "<graphviz.files.Source at 0x7ff40df3b160>"
            ],
            "image/svg+xml": "<?xml version=\"1.0\" encoding=\"UTF-8\" standalone=\"no\"?>\n<!DOCTYPE svg PUBLIC \"-//W3C//DTD SVG 1.1//EN\"\n \"http://www.w3.org/Graphics/SVG/1.1/DTD/svg11.dtd\">\n<!-- Generated by graphviz version 2.40.1 (20161225.0304)\n -->\n<!-- Title: Tree Pages: 1 -->\n<svg width=\"909pt\" height=\"671pt\"\n viewBox=\"0.00 0.00 908.50 671.00\" xmlns=\"http://www.w3.org/2000/svg\" xmlns:xlink=\"http://www.w3.org/1999/xlink\">\n<g id=\"graph0\" class=\"graph\" transform=\"scale(1 1) rotate(0) translate(4 667)\">\n<title>Tree</title>\n<polygon fill=\"#ffffff\" stroke=\"transparent\" points=\"-4,4 -4,-667 904.5,-667 904.5,4 -4,4\"/>\n<!-- 0 -->\n<g id=\"node1\" class=\"node\">\n<title>0</title>\n<path fill=\"#ffffff\" stroke=\"#000000\" d=\"M546.5,-663C546.5,-663 403.5,-663 403.5,-663 397.5,-663 391.5,-657 391.5,-651 391.5,-651 391.5,-592 391.5,-592 391.5,-586 397.5,-580 403.5,-580 403.5,-580 546.5,-580 546.5,-580 552.5,-580 558.5,-586 558.5,-592 558.5,-592 558.5,-651 558.5,-651 558.5,-657 552.5,-663 546.5,-663\"/>\n<text text-anchor=\"start\" x=\"399.5\" y=\"-647.8\" font-family=\"Helvetica,sans-Serif\" font-size=\"14.00\" fill=\"#000000\">petal length (cm) ≤ 2.45</text>\n<text text-anchor=\"start\" x=\"424\" y=\"-632.8\" font-family=\"Helvetica,sans-Serif\" font-size=\"14.00\" fill=\"#000000\">entropy = 1.585</text>\n<text text-anchor=\"start\" x=\"427\" y=\"-617.8\" font-family=\"Helvetica,sans-Serif\" font-size=\"14.00\" fill=\"#000000\">samples = 150</text>\n<text text-anchor=\"start\" x=\"413\" y=\"-602.8\" font-family=\"Helvetica,sans-Serif\" font-size=\"14.00\" fill=\"#000000\">value = [50, 50, 50]</text>\n<text text-anchor=\"start\" x=\"428\" y=\"-587.8\" font-family=\"Helvetica,sans-Serif\" font-size=\"14.00\" fill=\"#000000\">class = setosa</text>\n</g>\n<!-- 1 -->\n<g id=\"node2\" class=\"node\">\n<title>1</title>\n<path fill=\"#e58139\" stroke=\"#000000\" d=\"M444.5,-536.5C444.5,-536.5 345.5,-536.5 345.5,-536.5 339.5,-536.5 333.5,-530.5 333.5,-524.5 333.5,-524.5 333.5,-480.5 333.5,-480.5 333.5,-474.5 339.5,-468.5 345.5,-468.5 345.5,-468.5 444.5,-468.5 444.5,-468.5 450.5,-468.5 456.5,-474.5 456.5,-480.5 456.5,-480.5 456.5,-524.5 456.5,-524.5 456.5,-530.5 450.5,-536.5 444.5,-536.5\"/>\n<text text-anchor=\"start\" x=\"352.5\" y=\"-521.3\" font-family=\"Helvetica,sans-Serif\" font-size=\"14.00\" fill=\"#000000\">entropy = 0.0</text>\n<text text-anchor=\"start\" x=\"351\" y=\"-506.3\" font-family=\"Helvetica,sans-Serif\" font-size=\"14.00\" fill=\"#000000\">samples = 50</text>\n<text text-anchor=\"start\" x=\"341.5\" y=\"-491.3\" font-family=\"Helvetica,sans-Serif\" font-size=\"14.00\" fill=\"#000000\">value = [50, 0, 0]</text>\n<text text-anchor=\"start\" x=\"348\" y=\"-476.3\" font-family=\"Helvetica,sans-Serif\" font-size=\"14.00\" fill=\"#000000\">class = setosa</text>\n</g>\n<!-- 0&#45;&gt;1 -->\n<g id=\"edge1\" class=\"edge\">\n<title>0&#45;&gt;1</title>\n<path fill=\"none\" stroke=\"#000000\" d=\"M447.0199,-579.8796C439.4797,-568.6636 431.3113,-556.5131 423.7309,-545.2372\"/>\n<polygon fill=\"#000000\" stroke=\"#000000\" points=\"426.5527,-543.1612 418.0689,-536.8149 420.7434,-547.0667 426.5527,-543.1612\"/>\n<text text-anchor=\"middle\" x=\"413.2608\" y=\"-557.6482\" font-family=\"Helvetica,sans-Serif\" font-size=\"14.00\" fill=\"#000000\">True</text>\n</g>\n<!-- 2 -->\n<g id=\"node3\" class=\"node\">\n<title>2</title>\n<path fill=\"#ffffff\" stroke=\"#000000\" d=\"M623.5,-544C623.5,-544 486.5,-544 486.5,-544 480.5,-544 474.5,-538 474.5,-532 474.5,-532 474.5,-473 474.5,-473 474.5,-467 480.5,-461 486.5,-461 486.5,-461 623.5,-461 623.5,-461 629.5,-461 635.5,-467 635.5,-473 635.5,-473 635.5,-532 635.5,-532 635.5,-538 629.5,-544 623.5,-544\"/>\n<text text-anchor=\"start\" x=\"482.5\" y=\"-528.8\" font-family=\"Helvetica,sans-Serif\" font-size=\"14.00\" fill=\"#000000\">petal width (cm) ≤ 1.75</text>\n<text text-anchor=\"start\" x=\"512.5\" y=\"-513.8\" font-family=\"Helvetica,sans-Serif\" font-size=\"14.00\" fill=\"#000000\">entropy = 1.0</text>\n<text text-anchor=\"start\" x=\"507\" y=\"-498.8\" font-family=\"Helvetica,sans-Serif\" font-size=\"14.00\" fill=\"#000000\">samples = 100</text>\n<text text-anchor=\"start\" x=\"497.5\" y=\"-483.8\" font-family=\"Helvetica,sans-Serif\" font-size=\"14.00\" fill=\"#000000\">value = [0, 50, 50]</text>\n<text text-anchor=\"start\" x=\"499\" y=\"-468.8\" font-family=\"Helvetica,sans-Serif\" font-size=\"14.00\" fill=\"#000000\">class = versicolor</text>\n</g>\n<!-- 0&#45;&gt;2 -->\n<g id=\"edge2\" class=\"edge\">\n<title>0&#45;&gt;2</title>\n<path fill=\"none\" stroke=\"#000000\" d=\"M502.9801,-579.8796C508.8531,-571.1434 515.1073,-561.8404 521.1679,-552.8253\"/>\n<polygon fill=\"#000000\" stroke=\"#000000\" points=\"524.2259,-554.5498 526.9005,-544.2981 518.4166,-550.6444 524.2259,-554.5498\"/>\n<text text-anchor=\"middle\" x=\"531.7085\" y=\"-565.1314\" font-family=\"Helvetica,sans-Serif\" font-size=\"14.00\" fill=\"#000000\">False</text>\n</g>\n<!-- 3 -->\n<g id=\"node4\" class=\"node\">\n<title>3</title>\n<path fill=\"#4de88e\" stroke=\"#000000\" d=\"M508.5,-425C508.5,-425 365.5,-425 365.5,-425 359.5,-425 353.5,-419 353.5,-413 353.5,-413 353.5,-354 353.5,-354 353.5,-348 359.5,-342 365.5,-342 365.5,-342 508.5,-342 508.5,-342 514.5,-342 520.5,-348 520.5,-354 520.5,-354 520.5,-413 520.5,-413 520.5,-419 514.5,-425 508.5,-425\"/>\n<text text-anchor=\"start\" x=\"361.5\" y=\"-409.8\" font-family=\"Helvetica,sans-Serif\" font-size=\"14.00\" fill=\"#000000\">petal length (cm) ≤ 4.95</text>\n<text text-anchor=\"start\" x=\"386\" y=\"-394.8\" font-family=\"Helvetica,sans-Serif\" font-size=\"14.00\" fill=\"#000000\">entropy = 0.445</text>\n<text text-anchor=\"start\" x=\"393\" y=\"-379.8\" font-family=\"Helvetica,sans-Serif\" font-size=\"14.00\" fill=\"#000000\">samples = 54</text>\n<text text-anchor=\"start\" x=\"383.5\" y=\"-364.8\" font-family=\"Helvetica,sans-Serif\" font-size=\"14.00\" fill=\"#000000\">value = [0, 49, 5]</text>\n<text text-anchor=\"start\" x=\"381\" y=\"-349.8\" font-family=\"Helvetica,sans-Serif\" font-size=\"14.00\" fill=\"#000000\">class = versicolor</text>\n</g>\n<!-- 2&#45;&gt;3 -->\n<g id=\"edge3\" class=\"edge\">\n<title>2&#45;&gt;3</title>\n<path fill=\"none\" stroke=\"#000000\" d=\"M513.7293,-460.8796C504.6201,-451.6931 494.8892,-441.8798 485.5224,-432.4336\"/>\n<polygon fill=\"#000000\" stroke=\"#000000\" points=\"487.9733,-429.9345 478.4468,-425.2981 483.0027,-434.8634 487.9733,-429.9345\"/>\n</g>\n<!-- 12 -->\n<g id=\"node13\" class=\"node\">\n<title>12</title>\n<path fill=\"#843de6\" stroke=\"#000000\" d=\"M745.5,-425C745.5,-425 602.5,-425 602.5,-425 596.5,-425 590.5,-419 590.5,-413 590.5,-413 590.5,-354 590.5,-354 590.5,-348 596.5,-342 602.5,-342 602.5,-342 745.5,-342 745.5,-342 751.5,-342 757.5,-348 757.5,-354 757.5,-354 757.5,-413 757.5,-413 757.5,-419 751.5,-425 745.5,-425\"/>\n<text text-anchor=\"start\" x=\"598.5\" y=\"-409.8\" font-family=\"Helvetica,sans-Serif\" font-size=\"14.00\" fill=\"#000000\">petal length (cm) ≤ 4.85</text>\n<text text-anchor=\"start\" x=\"623\" y=\"-394.8\" font-family=\"Helvetica,sans-Serif\" font-size=\"14.00\" fill=\"#000000\">entropy = 0.151</text>\n<text text-anchor=\"start\" x=\"630\" y=\"-379.8\" font-family=\"Helvetica,sans-Serif\" font-size=\"14.00\" fill=\"#000000\">samples = 46</text>\n<text text-anchor=\"start\" x=\"620.5\" y=\"-364.8\" font-family=\"Helvetica,sans-Serif\" font-size=\"14.00\" fill=\"#000000\">value = [0, 1, 45]</text>\n<text text-anchor=\"start\" x=\"622.5\" y=\"-349.8\" font-family=\"Helvetica,sans-Serif\" font-size=\"14.00\" fill=\"#000000\">class = virginica</text>\n</g>\n<!-- 2&#45;&gt;12 -->\n<g id=\"edge12\" class=\"edge\">\n<title>2&#45;&gt;12</title>\n<path fill=\"none\" stroke=\"#000000\" d=\"M596.6204,-460.8796C605.8069,-451.6931 615.6202,-441.8798 625.0664,-432.4336\"/>\n<polygon fill=\"#000000\" stroke=\"#000000\" points=\"627.6057,-434.8441 632.2019,-425.2981 622.6559,-429.8943 627.6057,-434.8441\"/>\n</g>\n<!-- 4 -->\n<g id=\"node5\" class=\"node\">\n<title>4</title>\n<path fill=\"#3de684\" stroke=\"#000000\" d=\"M274.5,-306C274.5,-306 137.5,-306 137.5,-306 131.5,-306 125.5,-300 125.5,-294 125.5,-294 125.5,-235 125.5,-235 125.5,-229 131.5,-223 137.5,-223 137.5,-223 274.5,-223 274.5,-223 280.5,-223 286.5,-229 286.5,-235 286.5,-235 286.5,-294 286.5,-294 286.5,-300 280.5,-306 274.5,-306\"/>\n<text text-anchor=\"start\" x=\"133.5\" y=\"-290.8\" font-family=\"Helvetica,sans-Serif\" font-size=\"14.00\" fill=\"#000000\">petal width (cm) ≤ 1.65</text>\n<text text-anchor=\"start\" x=\"155\" y=\"-275.8\" font-family=\"Helvetica,sans-Serif\" font-size=\"14.00\" fill=\"#000000\">entropy = 0.146</text>\n<text text-anchor=\"start\" x=\"162\" y=\"-260.8\" font-family=\"Helvetica,sans-Serif\" font-size=\"14.00\" fill=\"#000000\">samples = 48</text>\n<text text-anchor=\"start\" x=\"152.5\" y=\"-245.8\" font-family=\"Helvetica,sans-Serif\" font-size=\"14.00\" fill=\"#000000\">value = [0, 47, 1]</text>\n<text text-anchor=\"start\" x=\"150\" y=\"-230.8\" font-family=\"Helvetica,sans-Serif\" font-size=\"14.00\" fill=\"#000000\">class = versicolor</text>\n</g>\n<!-- 3&#45;&gt;4 -->\n<g id=\"edge4\" class=\"edge\">\n<title>3&#45;&gt;4</title>\n<path fill=\"none\" stroke=\"#000000\" d=\"M356.2074,-341.8796C336.6886,-331.8244 315.712,-321.0183 295.8077,-310.7645\"/>\n<polygon fill=\"#000000\" stroke=\"#000000\" points=\"297.2396,-307.5651 286.747,-306.0969 294.0339,-313.788 297.2396,-307.5651\"/>\n</g>\n<!-- 7 -->\n<g id=\"node8\" class=\"node\">\n<title>7</title>\n<path fill=\"#c09cf2\" stroke=\"#000000\" d=\"M505.5,-306C505.5,-306 368.5,-306 368.5,-306 362.5,-306 356.5,-300 356.5,-294 356.5,-294 356.5,-235 356.5,-235 356.5,-229 362.5,-223 368.5,-223 368.5,-223 505.5,-223 505.5,-223 511.5,-223 517.5,-229 517.5,-235 517.5,-235 517.5,-294 517.5,-294 517.5,-300 511.5,-306 505.5,-306\"/>\n<text text-anchor=\"start\" x=\"364.5\" y=\"-290.8\" font-family=\"Helvetica,sans-Serif\" font-size=\"14.00\" fill=\"#000000\">petal width (cm) ≤ 1.55</text>\n<text text-anchor=\"start\" x=\"386\" y=\"-275.8\" font-family=\"Helvetica,sans-Serif\" font-size=\"14.00\" fill=\"#000000\">entropy = 0.918</text>\n<text text-anchor=\"start\" x=\"397.5\" y=\"-260.8\" font-family=\"Helvetica,sans-Serif\" font-size=\"14.00\" fill=\"#000000\">samples = 6</text>\n<text text-anchor=\"start\" x=\"387.5\" y=\"-245.8\" font-family=\"Helvetica,sans-Serif\" font-size=\"14.00\" fill=\"#000000\">value = [0, 2, 4]</text>\n<text text-anchor=\"start\" x=\"385.5\" y=\"-230.8\" font-family=\"Helvetica,sans-Serif\" font-size=\"14.00\" fill=\"#000000\">class = virginica</text>\n</g>\n<!-- 3&#45;&gt;7 -->\n<g id=\"edge7\" class=\"edge\">\n<title>3&#45;&gt;7</title>\n<path fill=\"none\" stroke=\"#000000\" d=\"M437,-341.8796C437,-333.6838 437,-324.9891 437,-316.5013\"/>\n<polygon fill=\"#000000\" stroke=\"#000000\" points=\"440.5001,-316.298 437,-306.2981 433.5001,-316.2981 440.5001,-316.298\"/>\n</g>\n<!-- 5 -->\n<g id=\"node6\" class=\"node\">\n<title>5</title>\n<path fill=\"#39e581\" stroke=\"#000000\" d=\"M116,-179.5C116,-179.5 12,-179.5 12,-179.5 6,-179.5 0,-173.5 0,-167.5 0,-167.5 0,-123.5 0,-123.5 0,-117.5 6,-111.5 12,-111.5 12,-111.5 116,-111.5 116,-111.5 122,-111.5 128,-117.5 128,-123.5 128,-123.5 128,-167.5 128,-167.5 128,-173.5 122,-179.5 116,-179.5\"/>\n<text text-anchor=\"start\" x=\"21.5\" y=\"-164.3\" font-family=\"Helvetica,sans-Serif\" font-size=\"14.00\" fill=\"#000000\">entropy = 0.0</text>\n<text text-anchor=\"start\" x=\"20\" y=\"-149.3\" font-family=\"Helvetica,sans-Serif\" font-size=\"14.00\" fill=\"#000000\">samples = 47</text>\n<text text-anchor=\"start\" x=\"10.5\" y=\"-134.3\" font-family=\"Helvetica,sans-Serif\" font-size=\"14.00\" fill=\"#000000\">value = [0, 47, 0]</text>\n<text text-anchor=\"start\" x=\"8\" y=\"-119.3\" font-family=\"Helvetica,sans-Serif\" font-size=\"14.00\" fill=\"#000000\">class = versicolor</text>\n</g>\n<!-- 4&#45;&gt;5 -->\n<g id=\"edge5\" class=\"edge\">\n<title>4&#45;&gt;5</title>\n<path fill=\"none\" stroke=\"#000000\" d=\"M156.3353,-222.8796C142.1642,-211.0038 126.743,-198.0804 112.6342,-186.2568\"/>\n<polygon fill=\"#000000\" stroke=\"#000000\" points=\"114.8598,-183.5554 104.9472,-179.8149 110.3637,-188.9206 114.8598,-183.5554\"/>\n</g>\n<!-- 6 -->\n<g id=\"node7\" class=\"node\">\n<title>6</title>\n<path fill=\"#8139e5\" stroke=\"#000000\" d=\"M253.5,-179.5C253.5,-179.5 158.5,-179.5 158.5,-179.5 152.5,-179.5 146.5,-173.5 146.5,-167.5 146.5,-167.5 146.5,-123.5 146.5,-123.5 146.5,-117.5 152.5,-111.5 158.5,-111.5 158.5,-111.5 253.5,-111.5 253.5,-111.5 259.5,-111.5 265.5,-117.5 265.5,-123.5 265.5,-123.5 265.5,-167.5 265.5,-167.5 265.5,-173.5 259.5,-179.5 253.5,-179.5\"/>\n<text text-anchor=\"start\" x=\"163.5\" y=\"-164.3\" font-family=\"Helvetica,sans-Serif\" font-size=\"14.00\" fill=\"#000000\">entropy = 0.0</text>\n<text text-anchor=\"start\" x=\"166.5\" y=\"-149.3\" font-family=\"Helvetica,sans-Serif\" font-size=\"14.00\" fill=\"#000000\">samples = 1</text>\n<text text-anchor=\"start\" x=\"156.5\" y=\"-134.3\" font-family=\"Helvetica,sans-Serif\" font-size=\"14.00\" fill=\"#000000\">value = [0, 0, 1]</text>\n<text text-anchor=\"start\" x=\"154.5\" y=\"-119.3\" font-family=\"Helvetica,sans-Serif\" font-size=\"14.00\" fill=\"#000000\">class = virginica</text>\n</g>\n<!-- 4&#45;&gt;6 -->\n<g id=\"edge6\" class=\"edge\">\n<title>4&#45;&gt;6</title>\n<path fill=\"none\" stroke=\"#000000\" d=\"M206,-222.8796C206,-212.2134 206,-200.7021 206,-189.9015\"/>\n<polygon fill=\"#000000\" stroke=\"#000000\" points=\"209.5001,-189.8149 206,-179.8149 202.5001,-189.815 209.5001,-189.8149\"/>\n</g>\n<!-- 8 -->\n<g id=\"node9\" class=\"node\">\n<title>8</title>\n<path fill=\"#8139e5\" stroke=\"#000000\" d=\"M390.5,-179.5C390.5,-179.5 295.5,-179.5 295.5,-179.5 289.5,-179.5 283.5,-173.5 283.5,-167.5 283.5,-167.5 283.5,-123.5 283.5,-123.5 283.5,-117.5 289.5,-111.5 295.5,-111.5 295.5,-111.5 390.5,-111.5 390.5,-111.5 396.5,-111.5 402.5,-117.5 402.5,-123.5 402.5,-123.5 402.5,-167.5 402.5,-167.5 402.5,-173.5 396.5,-179.5 390.5,-179.5\"/>\n<text text-anchor=\"start\" x=\"300.5\" y=\"-164.3\" font-family=\"Helvetica,sans-Serif\" font-size=\"14.00\" fill=\"#000000\">entropy = 0.0</text>\n<text text-anchor=\"start\" x=\"303.5\" y=\"-149.3\" font-family=\"Helvetica,sans-Serif\" font-size=\"14.00\" fill=\"#000000\">samples = 3</text>\n<text text-anchor=\"start\" x=\"293.5\" y=\"-134.3\" font-family=\"Helvetica,sans-Serif\" font-size=\"14.00\" fill=\"#000000\">value = [0, 0, 3]</text>\n<text text-anchor=\"start\" x=\"291.5\" y=\"-119.3\" font-family=\"Helvetica,sans-Serif\" font-size=\"14.00\" fill=\"#000000\">class = virginica</text>\n</g>\n<!-- 7&#45;&gt;8 -->\n<g id=\"edge8\" class=\"edge\">\n<title>7&#45;&gt;8</title>\n<path fill=\"none\" stroke=\"#000000\" d=\"M404.1234,-222.8796C395.1768,-211.5536 385.4776,-199.2748 376.4971,-187.9058\"/>\n<polygon fill=\"#000000\" stroke=\"#000000\" points=\"379.051,-185.4926 370.1059,-179.8149 373.558,-189.8316 379.051,-185.4926\"/>\n</g>\n<!-- 9 -->\n<g id=\"node10\" class=\"node\">\n<title>9</title>\n<path fill=\"#9cf2c0\" stroke=\"#000000\" d=\"M579.5,-187C579.5,-187 432.5,-187 432.5,-187 426.5,-187 420.5,-181 420.5,-175 420.5,-175 420.5,-116 420.5,-116 420.5,-110 426.5,-104 432.5,-104 432.5,-104 579.5,-104 579.5,-104 585.5,-104 591.5,-110 591.5,-116 591.5,-116 591.5,-175 591.5,-175 591.5,-181 585.5,-187 579.5,-187\"/>\n<text text-anchor=\"start\" x=\"428.5\" y=\"-171.8\" font-family=\"Helvetica,sans-Serif\" font-size=\"14.00\" fill=\"#000000\">sepal length (cm) ≤ 6.95</text>\n<text text-anchor=\"start\" x=\"455\" y=\"-156.8\" font-family=\"Helvetica,sans-Serif\" font-size=\"14.00\" fill=\"#000000\">entropy = 0.918</text>\n<text text-anchor=\"start\" x=\"466.5\" y=\"-141.8\" font-family=\"Helvetica,sans-Serif\" font-size=\"14.00\" fill=\"#000000\">samples = 3</text>\n<text text-anchor=\"start\" x=\"456.5\" y=\"-126.8\" font-family=\"Helvetica,sans-Serif\" font-size=\"14.00\" fill=\"#000000\">value = [0, 2, 1]</text>\n<text text-anchor=\"start\" x=\"450\" y=\"-111.8\" font-family=\"Helvetica,sans-Serif\" font-size=\"14.00\" fill=\"#000000\">class = versicolor</text>\n</g>\n<!-- 7&#45;&gt;9 -->\n<g id=\"edge9\" class=\"edge\">\n<title>7&#45;&gt;9</title>\n<path fill=\"none\" stroke=\"#000000\" d=\"M461.1329,-222.8796C466.1461,-214.2335 471.4813,-205.0322 476.6581,-196.1042\"/>\n<polygon fill=\"#000000\" stroke=\"#000000\" points=\"479.7758,-197.7047 481.7641,-187.2981 473.7202,-194.1934 479.7758,-197.7047\"/>\n</g>\n<!-- 10 -->\n<g id=\"node11\" class=\"node\">\n<title>10</title>\n<path fill=\"#39e581\" stroke=\"#000000\" d=\"M487,-68C487,-68 383,-68 383,-68 377,-68 371,-62 371,-56 371,-56 371,-12 371,-12 371,-6 377,0 383,0 383,0 487,0 487,0 493,0 499,-6 499,-12 499,-12 499,-56 499,-56 499,-62 493,-68 487,-68\"/>\n<text text-anchor=\"start\" x=\"392.5\" y=\"-52.8\" font-family=\"Helvetica,sans-Serif\" font-size=\"14.00\" fill=\"#000000\">entropy = 0.0</text>\n<text text-anchor=\"start\" x=\"395.5\" y=\"-37.8\" font-family=\"Helvetica,sans-Serif\" font-size=\"14.00\" fill=\"#000000\">samples = 2</text>\n<text text-anchor=\"start\" x=\"385.5\" y=\"-22.8\" font-family=\"Helvetica,sans-Serif\" font-size=\"14.00\" fill=\"#000000\">value = [0, 2, 0]</text>\n<text text-anchor=\"start\" x=\"379\" y=\"-7.8\" font-family=\"Helvetica,sans-Serif\" font-size=\"14.00\" fill=\"#000000\">class = versicolor</text>\n</g>\n<!-- 9&#45;&gt;10 -->\n<g id=\"edge10\" class=\"edge\">\n<title>9&#45;&gt;10</title>\n<path fill=\"none\" stroke=\"#000000\" d=\"M479.5622,-103.9815C473.944,-95.1585 468.0012,-85.8258 462.3497,-76.9506\"/>\n<polygon fill=\"#000000\" stroke=\"#000000\" points=\"465.1416,-74.8188 456.8181,-68.2637 459.2371,-78.5787 465.1416,-74.8188\"/>\n</g>\n<!-- 11 -->\n<g id=\"node12\" class=\"node\">\n<title>11</title>\n<path fill=\"#8139e5\" stroke=\"#000000\" d=\"M624.5,-68C624.5,-68 529.5,-68 529.5,-68 523.5,-68 517.5,-62 517.5,-56 517.5,-56 517.5,-12 517.5,-12 517.5,-6 523.5,0 529.5,0 529.5,0 624.5,0 624.5,0 630.5,0 636.5,-6 636.5,-12 636.5,-12 636.5,-56 636.5,-56 636.5,-62 630.5,-68 624.5,-68\"/>\n<text text-anchor=\"start\" x=\"534.5\" y=\"-52.8\" font-family=\"Helvetica,sans-Serif\" font-size=\"14.00\" fill=\"#000000\">entropy = 0.0</text>\n<text text-anchor=\"start\" x=\"537.5\" y=\"-37.8\" font-family=\"Helvetica,sans-Serif\" font-size=\"14.00\" fill=\"#000000\">samples = 1</text>\n<text text-anchor=\"start\" x=\"527.5\" y=\"-22.8\" font-family=\"Helvetica,sans-Serif\" font-size=\"14.00\" fill=\"#000000\">value = [0, 0, 1]</text>\n<text text-anchor=\"start\" x=\"525.5\" y=\"-7.8\" font-family=\"Helvetica,sans-Serif\" font-size=\"14.00\" fill=\"#000000\">class = virginica</text>\n</g>\n<!-- 9&#45;&gt;11 -->\n<g id=\"edge11\" class=\"edge\">\n<title>9&#45;&gt;11</title>\n<path fill=\"none\" stroke=\"#000000\" d=\"M532.4378,-103.9815C538.056,-95.1585 543.9988,-85.8258 549.6503,-76.9506\"/>\n<polygon fill=\"#000000\" stroke=\"#000000\" points=\"552.7629,-78.5787 555.1819,-68.2637 546.8584,-74.8188 552.7629,-78.5787\"/>\n</g>\n<!-- 13 -->\n<g id=\"node14\" class=\"node\">\n<title>13</title>\n<path fill=\"#c09cf2\" stroke=\"#000000\" d=\"M747.5,-306C747.5,-306 600.5,-306 600.5,-306 594.5,-306 588.5,-300 588.5,-294 588.5,-294 588.5,-235 588.5,-235 588.5,-229 594.5,-223 600.5,-223 600.5,-223 747.5,-223 747.5,-223 753.5,-223 759.5,-229 759.5,-235 759.5,-235 759.5,-294 759.5,-294 759.5,-300 753.5,-306 747.5,-306\"/>\n<text text-anchor=\"start\" x=\"596.5\" y=\"-290.8\" font-family=\"Helvetica,sans-Serif\" font-size=\"14.00\" fill=\"#000000\">sepal length (cm) ≤ 5.95</text>\n<text text-anchor=\"start\" x=\"623\" y=\"-275.8\" font-family=\"Helvetica,sans-Serif\" font-size=\"14.00\" fill=\"#000000\">entropy = 0.918</text>\n<text text-anchor=\"start\" x=\"634.5\" y=\"-260.8\" font-family=\"Helvetica,sans-Serif\" font-size=\"14.00\" fill=\"#000000\">samples = 3</text>\n<text text-anchor=\"start\" x=\"624.5\" y=\"-245.8\" font-family=\"Helvetica,sans-Serif\" font-size=\"14.00\" fill=\"#000000\">value = [0, 1, 2]</text>\n<text text-anchor=\"start\" x=\"622.5\" y=\"-230.8\" font-family=\"Helvetica,sans-Serif\" font-size=\"14.00\" fill=\"#000000\">class = virginica</text>\n</g>\n<!-- 12&#45;&gt;13 -->\n<g id=\"edge13\" class=\"edge\">\n<title>12&#45;&gt;13</title>\n<path fill=\"none\" stroke=\"#000000\" d=\"M674,-341.8796C674,-333.6838 674,-324.9891 674,-316.5013\"/>\n<polygon fill=\"#000000\" stroke=\"#000000\" points=\"677.5001,-316.298 674,-306.2981 670.5001,-316.2981 677.5001,-316.298\"/>\n</g>\n<!-- 16 -->\n<g id=\"node17\" class=\"node\">\n<title>16</title>\n<path fill=\"#8139e5\" stroke=\"#000000\" d=\"M888.5,-298.5C888.5,-298.5 789.5,-298.5 789.5,-298.5 783.5,-298.5 777.5,-292.5 777.5,-286.5 777.5,-286.5 777.5,-242.5 777.5,-242.5 777.5,-236.5 783.5,-230.5 789.5,-230.5 789.5,-230.5 888.5,-230.5 888.5,-230.5 894.5,-230.5 900.5,-236.5 900.5,-242.5 900.5,-242.5 900.5,-286.5 900.5,-286.5 900.5,-292.5 894.5,-298.5 888.5,-298.5\"/>\n<text text-anchor=\"start\" x=\"796.5\" y=\"-283.3\" font-family=\"Helvetica,sans-Serif\" font-size=\"14.00\" fill=\"#000000\">entropy = 0.0</text>\n<text text-anchor=\"start\" x=\"795\" y=\"-268.3\" font-family=\"Helvetica,sans-Serif\" font-size=\"14.00\" fill=\"#000000\">samples = 43</text>\n<text text-anchor=\"start\" x=\"785.5\" y=\"-253.3\" font-family=\"Helvetica,sans-Serif\" font-size=\"14.00\" fill=\"#000000\">value = [0, 0, 43]</text>\n<text text-anchor=\"start\" x=\"787.5\" y=\"-238.3\" font-family=\"Helvetica,sans-Serif\" font-size=\"14.00\" fill=\"#000000\">class = virginica</text>\n</g>\n<!-- 12&#45;&gt;16 -->\n<g id=\"edge16\" class=\"edge\">\n<title>12&#45;&gt;16</title>\n<path fill=\"none\" stroke=\"#000000\" d=\"M731.709,-341.8796C748.407,-329.8368 766.5987,-316.7167 783.1793,-304.7586\"/>\n<polygon fill=\"#000000\" stroke=\"#000000\" points=\"785.6232,-307.3113 791.6865,-298.623 781.5285,-301.6339 785.6232,-307.3113\"/>\n</g>\n<!-- 14 -->\n<g id=\"node15\" class=\"node\">\n<title>14</title>\n<path fill=\"#39e581\" stroke=\"#000000\" d=\"M726,-179.5C726,-179.5 622,-179.5 622,-179.5 616,-179.5 610,-173.5 610,-167.5 610,-167.5 610,-123.5 610,-123.5 610,-117.5 616,-111.5 622,-111.5 622,-111.5 726,-111.5 726,-111.5 732,-111.5 738,-117.5 738,-123.5 738,-123.5 738,-167.5 738,-167.5 738,-173.5 732,-179.5 726,-179.5\"/>\n<text text-anchor=\"start\" x=\"631.5\" y=\"-164.3\" font-family=\"Helvetica,sans-Serif\" font-size=\"14.00\" fill=\"#000000\">entropy = 0.0</text>\n<text text-anchor=\"start\" x=\"634.5\" y=\"-149.3\" font-family=\"Helvetica,sans-Serif\" font-size=\"14.00\" fill=\"#000000\">samples = 1</text>\n<text text-anchor=\"start\" x=\"624.5\" y=\"-134.3\" font-family=\"Helvetica,sans-Serif\" font-size=\"14.00\" fill=\"#000000\">value = [0, 1, 0]</text>\n<text text-anchor=\"start\" x=\"618\" y=\"-119.3\" font-family=\"Helvetica,sans-Serif\" font-size=\"14.00\" fill=\"#000000\">class = versicolor</text>\n</g>\n<!-- 13&#45;&gt;14 -->\n<g id=\"edge14\" class=\"edge\">\n<title>13&#45;&gt;14</title>\n<path fill=\"none\" stroke=\"#000000\" d=\"M674,-222.8796C674,-212.2134 674,-200.7021 674,-189.9015\"/>\n<polygon fill=\"#000000\" stroke=\"#000000\" points=\"677.5001,-189.8149 674,-179.8149 670.5001,-189.815 677.5001,-189.8149\"/>\n</g>\n<!-- 15 -->\n<g id=\"node16\" class=\"node\">\n<title>15</title>\n<path fill=\"#8139e5\" stroke=\"#000000\" d=\"M863.5,-179.5C863.5,-179.5 768.5,-179.5 768.5,-179.5 762.5,-179.5 756.5,-173.5 756.5,-167.5 756.5,-167.5 756.5,-123.5 756.5,-123.5 756.5,-117.5 762.5,-111.5 768.5,-111.5 768.5,-111.5 863.5,-111.5 863.5,-111.5 869.5,-111.5 875.5,-117.5 875.5,-123.5 875.5,-123.5 875.5,-167.5 875.5,-167.5 875.5,-173.5 869.5,-179.5 863.5,-179.5\"/>\n<text text-anchor=\"start\" x=\"773.5\" y=\"-164.3\" font-family=\"Helvetica,sans-Serif\" font-size=\"14.00\" fill=\"#000000\">entropy = 0.0</text>\n<text text-anchor=\"start\" x=\"776.5\" y=\"-149.3\" font-family=\"Helvetica,sans-Serif\" font-size=\"14.00\" fill=\"#000000\">samples = 2</text>\n<text text-anchor=\"start\" x=\"766.5\" y=\"-134.3\" font-family=\"Helvetica,sans-Serif\" font-size=\"14.00\" fill=\"#000000\">value = [0, 0, 2]</text>\n<text text-anchor=\"start\" x=\"764.5\" y=\"-119.3\" font-family=\"Helvetica,sans-Serif\" font-size=\"14.00\" fill=\"#000000\">class = virginica</text>\n</g>\n<!-- 13&#45;&gt;15 -->\n<g id=\"edge15\" class=\"edge\">\n<title>13&#45;&gt;15</title>\n<path fill=\"none\" stroke=\"#000000\" d=\"M723.6647,-222.8796C737.8358,-211.0038 753.257,-198.0804 767.3658,-186.2568\"/>\n<polygon fill=\"#000000\" stroke=\"#000000\" points=\"769.6363,-188.9206 775.0528,-179.8149 765.1402,-183.5554 769.6363,-188.9206\"/>\n</g>\n</g>\n</svg>\n"
          },
          "metadata": {
            "tags": []
          },
          "execution_count": 5
        }
      ]
    },
    {
      "cell_type": "code",
      "metadata": {
        "id": "eZHniO9jyT6S",
        "colab": {
          "base_uri": "https://localhost:8080/"
        },
        "outputId": "902ac222-1d47-4433-8c00-06024bda0f83"
      },
      "source": [
        "%ls"
      ],
      "execution_count": null,
      "outputs": [
        {
          "output_type": "stream",
          "text": [
            "50_Startups.csv  irisc45DT.pdf        SalaryData_Train.csv  Source.gv\n",
            "irisc45DT        SalaryData_Test.csv  \u001b[0m\u001b[01;34msample_data\u001b[0m/          Source.gv.pdf\n"
          ],
          "name": "stdout"
        }
      ]
    },
    {
      "cell_type": "code",
      "metadata": {
        "id": "mN9gzGem2Z11",
        "colab": {
          "base_uri": "https://localhost:8080/",
          "height": 35
        },
        "outputId": "17fc3c96-c128-4d00-a6fd-12be9aaf2711"
      },
      "source": [
        "#21. CART (Classification and Regression Tree)\n",
        "  \n",
        "from sklearn import tree\n",
        "\n",
        "from sklearn.datasets import load_iris\n",
        "\n",
        "\n",
        "iris = load_iris()\n",
        "clf = tree.DecisionTreeClassifier()\n",
        "clf = clf.fit(iris.data, iris.target)\n",
        "\n",
        "import graphviz\n",
        "dot_data = tree.export_graphviz(clf, out_file=None)\n",
        "graph = graphviz.Source(dot_data)\n",
        "graph.render(\"iriscart\")\n",
        "\n",
        "dot_data = tree.export_graphviz(clf, out_file=None,\n",
        "                         feature_names=iris.feature_names,\n",
        "                         class_names=iris.target_names,\n",
        "                         filled=True, rounded=True,\n",
        "                         special_characters=True)\n",
        "graph = graphviz.Source(dot_data)\n",
        "graph.view()\n"
      ],
      "execution_count": null,
      "outputs": [
        {
          "output_type": "execute_result",
          "data": {
            "application/vnd.google.colaboratory.intrinsic+json": {
              "type": "string"
            },
            "text/plain": [
              "'Source.gv.pdf'"
            ]
          },
          "metadata": {
            "tags": []
          },
          "execution_count": 6
        }
      ]
    },
    {
      "cell_type": "code",
      "metadata": {
        "id": "eOMcr27gwERM"
      },
      "source": [],
      "execution_count": null,
      "outputs": []
    },
    {
      "cell_type": "code",
      "metadata": {
        "colab": {
          "base_uri": "https://localhost:8080/",
          "height": 936
        },
        "id": "PcRzT8fswEvS",
        "outputId": "8d63149a-34cc-4cfa-b2c1-a68fc103d895"
      },
      "source": [
        "with open('Source.gv') as f:\n",
        "  dot_graph=f.read()\n",
        "graphviz.Source(dot_graph)\n"
      ],
      "execution_count": null,
      "outputs": [
        {
          "output_type": "execute_result",
          "data": {
            "text/plain": [
              "<graphviz.files.Source at 0x7ff3fed756a0>"
            ],
            "image/svg+xml": "<?xml version=\"1.0\" encoding=\"UTF-8\" standalone=\"no\"?>\n<!DOCTYPE svg PUBLIC \"-//W3C//DTD SVG 1.1//EN\"\n \"http://www.w3.org/Graphics/SVG/1.1/DTD/svg11.dtd\">\n<!-- Generated by graphviz version 2.40.1 (20161225.0304)\n -->\n<!-- Title: Tree Pages: 1 -->\n<svg width=\"893pt\" height=\"671pt\"\n viewBox=\"0.00 0.00 892.50 671.00\" xmlns=\"http://www.w3.org/2000/svg\" xmlns:xlink=\"http://www.w3.org/1999/xlink\">\n<g id=\"graph0\" class=\"graph\" transform=\"scale(1 1) rotate(0) translate(4 667)\">\n<title>Tree</title>\n<polygon fill=\"#ffffff\" stroke=\"transparent\" points=\"-4,4 -4,-667 888.5,-667 888.5,4 -4,4\"/>\n<!-- 0 -->\n<g id=\"node1\" class=\"node\">\n<title>0</title>\n<path fill=\"#ffffff\" stroke=\"#000000\" d=\"M532.5,-663C532.5,-663 403.5,-663 403.5,-663 397.5,-663 391.5,-657 391.5,-651 391.5,-651 391.5,-592 391.5,-592 391.5,-586 397.5,-580 403.5,-580 403.5,-580 532.5,-580 532.5,-580 538.5,-580 544.5,-586 544.5,-592 544.5,-592 544.5,-651 544.5,-651 544.5,-657 538.5,-663 532.5,-663\"/>\n<text text-anchor=\"start\" x=\"399.5\" y=\"-647.8\" font-family=\"Helvetica,sans-Serif\" font-size=\"14.00\" fill=\"#000000\">petal width (cm) ≤ 0.8</text>\n<text text-anchor=\"start\" x=\"430\" y=\"-632.8\" font-family=\"Helvetica,sans-Serif\" font-size=\"14.00\" fill=\"#000000\">gini = 0.667</text>\n<text text-anchor=\"start\" x=\"420\" y=\"-617.8\" font-family=\"Helvetica,sans-Serif\" font-size=\"14.00\" fill=\"#000000\">samples = 150</text>\n<text text-anchor=\"start\" x=\"406\" y=\"-602.8\" font-family=\"Helvetica,sans-Serif\" font-size=\"14.00\" fill=\"#000000\">value = [50, 50, 50]</text>\n<text text-anchor=\"start\" x=\"421\" y=\"-587.8\" font-family=\"Helvetica,sans-Serif\" font-size=\"14.00\" fill=\"#000000\">class = setosa</text>\n</g>\n<!-- 1 -->\n<g id=\"node2\" class=\"node\">\n<title>1</title>\n<path fill=\"#e58139\" stroke=\"#000000\" d=\"M437.5,-536.5C437.5,-536.5 338.5,-536.5 338.5,-536.5 332.5,-536.5 326.5,-530.5 326.5,-524.5 326.5,-524.5 326.5,-480.5 326.5,-480.5 326.5,-474.5 332.5,-468.5 338.5,-468.5 338.5,-468.5 437.5,-468.5 437.5,-468.5 443.5,-468.5 449.5,-474.5 449.5,-480.5 449.5,-480.5 449.5,-524.5 449.5,-524.5 449.5,-530.5 443.5,-536.5 437.5,-536.5\"/>\n<text text-anchor=\"start\" x=\"358.5\" y=\"-521.3\" font-family=\"Helvetica,sans-Serif\" font-size=\"14.00\" fill=\"#000000\">gini = 0.0</text>\n<text text-anchor=\"start\" x=\"344\" y=\"-506.3\" font-family=\"Helvetica,sans-Serif\" font-size=\"14.00\" fill=\"#000000\">samples = 50</text>\n<text text-anchor=\"start\" x=\"334.5\" y=\"-491.3\" font-family=\"Helvetica,sans-Serif\" font-size=\"14.00\" fill=\"#000000\">value = [50, 0, 0]</text>\n<text text-anchor=\"start\" x=\"341\" y=\"-476.3\" font-family=\"Helvetica,sans-Serif\" font-size=\"14.00\" fill=\"#000000\">class = setosa</text>\n</g>\n<!-- 0&#45;&gt;1 -->\n<g id=\"edge1\" class=\"edge\">\n<title>0&#45;&gt;1</title>\n<path fill=\"none\" stroke=\"#000000\" d=\"M440.0199,-579.8796C432.4797,-568.6636 424.3113,-556.5131 416.7309,-545.2372\"/>\n<polygon fill=\"#000000\" stroke=\"#000000\" points=\"419.5527,-543.1612 411.0689,-536.8149 413.7434,-547.0667 419.5527,-543.1612\"/>\n<text text-anchor=\"middle\" x=\"406.2608\" y=\"-557.6482\" font-family=\"Helvetica,sans-Serif\" font-size=\"14.00\" fill=\"#000000\">True</text>\n</g>\n<!-- 2 -->\n<g id=\"node3\" class=\"node\">\n<title>2</title>\n<path fill=\"#ffffff\" stroke=\"#000000\" d=\"M616.5,-544C616.5,-544 479.5,-544 479.5,-544 473.5,-544 467.5,-538 467.5,-532 467.5,-532 467.5,-473 467.5,-473 467.5,-467 473.5,-461 479.5,-461 479.5,-461 616.5,-461 616.5,-461 622.5,-461 628.5,-467 628.5,-473 628.5,-473 628.5,-532 628.5,-532 628.5,-538 622.5,-544 616.5,-544\"/>\n<text text-anchor=\"start\" x=\"475.5\" y=\"-528.8\" font-family=\"Helvetica,sans-Serif\" font-size=\"14.00\" fill=\"#000000\">petal width (cm) ≤ 1.75</text>\n<text text-anchor=\"start\" x=\"518.5\" y=\"-513.8\" font-family=\"Helvetica,sans-Serif\" font-size=\"14.00\" fill=\"#000000\">gini = 0.5</text>\n<text text-anchor=\"start\" x=\"500\" y=\"-498.8\" font-family=\"Helvetica,sans-Serif\" font-size=\"14.00\" fill=\"#000000\">samples = 100</text>\n<text text-anchor=\"start\" x=\"490.5\" y=\"-483.8\" font-family=\"Helvetica,sans-Serif\" font-size=\"14.00\" fill=\"#000000\">value = [0, 50, 50]</text>\n<text text-anchor=\"start\" x=\"492\" y=\"-468.8\" font-family=\"Helvetica,sans-Serif\" font-size=\"14.00\" fill=\"#000000\">class = versicolor</text>\n</g>\n<!-- 0&#45;&gt;2 -->\n<g id=\"edge2\" class=\"edge\">\n<title>0&#45;&gt;2</title>\n<path fill=\"none\" stroke=\"#000000\" d=\"M495.9801,-579.8796C501.8531,-571.1434 508.1073,-561.8404 514.1679,-552.8253\"/>\n<polygon fill=\"#000000\" stroke=\"#000000\" points=\"517.2259,-554.5498 519.9005,-544.2981 511.4166,-550.6444 517.2259,-554.5498\"/>\n<text text-anchor=\"middle\" x=\"524.7085\" y=\"-565.1314\" font-family=\"Helvetica,sans-Serif\" font-size=\"14.00\" fill=\"#000000\">False</text>\n</g>\n<!-- 3 -->\n<g id=\"node4\" class=\"node\">\n<title>3</title>\n<path fill=\"#4de88e\" stroke=\"#000000\" d=\"M503.5,-425C503.5,-425 360.5,-425 360.5,-425 354.5,-425 348.5,-419 348.5,-413 348.5,-413 348.5,-354 348.5,-354 348.5,-348 354.5,-342 360.5,-342 360.5,-342 503.5,-342 503.5,-342 509.5,-342 515.5,-348 515.5,-354 515.5,-354 515.5,-413 515.5,-413 515.5,-419 509.5,-425 503.5,-425\"/>\n<text text-anchor=\"start\" x=\"356.5\" y=\"-409.8\" font-family=\"Helvetica,sans-Serif\" font-size=\"14.00\" fill=\"#000000\">petal length (cm) ≤ 4.95</text>\n<text text-anchor=\"start\" x=\"394\" y=\"-394.8\" font-family=\"Helvetica,sans-Serif\" font-size=\"14.00\" fill=\"#000000\">gini = 0.168</text>\n<text text-anchor=\"start\" x=\"388\" y=\"-379.8\" font-family=\"Helvetica,sans-Serif\" font-size=\"14.00\" fill=\"#000000\">samples = 54</text>\n<text text-anchor=\"start\" x=\"378.5\" y=\"-364.8\" font-family=\"Helvetica,sans-Serif\" font-size=\"14.00\" fill=\"#000000\">value = [0, 49, 5]</text>\n<text text-anchor=\"start\" x=\"376\" y=\"-349.8\" font-family=\"Helvetica,sans-Serif\" font-size=\"14.00\" fill=\"#000000\">class = versicolor</text>\n</g>\n<!-- 2&#45;&gt;3 -->\n<g id=\"edge3\" class=\"edge\">\n<title>2&#45;&gt;3</title>\n<path fill=\"none\" stroke=\"#000000\" d=\"M507.4288,-460.8796C498.5618,-451.7832 489.0956,-442.0722 479.9709,-432.7116\"/>\n<polygon fill=\"#000000\" stroke=\"#000000\" points=\"482.2309,-430.0158 472.7443,-425.2981 477.2183,-434.9019 482.2309,-430.0158\"/>\n</g>\n<!-- 12 -->\n<g id=\"node13\" class=\"node\">\n<title>12</title>\n<path fill=\"#843de6\" stroke=\"#000000\" d=\"M736.5,-425C736.5,-425 593.5,-425 593.5,-425 587.5,-425 581.5,-419 581.5,-413 581.5,-413 581.5,-354 581.5,-354 581.5,-348 587.5,-342 593.5,-342 593.5,-342 736.5,-342 736.5,-342 742.5,-342 748.5,-348 748.5,-354 748.5,-354 748.5,-413 748.5,-413 748.5,-419 742.5,-425 736.5,-425\"/>\n<text text-anchor=\"start\" x=\"589.5\" y=\"-409.8\" font-family=\"Helvetica,sans-Serif\" font-size=\"14.00\" fill=\"#000000\">petal length (cm) ≤ 4.85</text>\n<text text-anchor=\"start\" x=\"627\" y=\"-394.8\" font-family=\"Helvetica,sans-Serif\" font-size=\"14.00\" fill=\"#000000\">gini = 0.043</text>\n<text text-anchor=\"start\" x=\"621\" y=\"-379.8\" font-family=\"Helvetica,sans-Serif\" font-size=\"14.00\" fill=\"#000000\">samples = 46</text>\n<text text-anchor=\"start\" x=\"611.5\" y=\"-364.8\" font-family=\"Helvetica,sans-Serif\" font-size=\"14.00\" fill=\"#000000\">value = [0, 1, 45]</text>\n<text text-anchor=\"start\" x=\"613.5\" y=\"-349.8\" font-family=\"Helvetica,sans-Serif\" font-size=\"14.00\" fill=\"#000000\">class = virginica</text>\n</g>\n<!-- 2&#45;&gt;12 -->\n<g id=\"edge12\" class=\"edge\">\n<title>2&#45;&gt;12</title>\n<path fill=\"none\" stroke=\"#000000\" d=\"M588.9209,-460.8796C597.953,-451.6931 607.6013,-441.8798 616.8888,-432.4336\"/>\n<polygon fill=\"#000000\" stroke=\"#000000\" points=\"619.3893,-434.8827 623.9044,-425.2981 614.3977,-429.975 619.3893,-434.8827\"/>\n</g>\n<!-- 4 -->\n<g id=\"node5\" class=\"node\">\n<title>4</title>\n<path fill=\"#3de684\" stroke=\"#000000\" d=\"M274.5,-306C274.5,-306 137.5,-306 137.5,-306 131.5,-306 125.5,-300 125.5,-294 125.5,-294 125.5,-235 125.5,-235 125.5,-229 131.5,-223 137.5,-223 137.5,-223 274.5,-223 274.5,-223 280.5,-223 286.5,-229 286.5,-235 286.5,-235 286.5,-294 286.5,-294 286.5,-300 280.5,-306 274.5,-306\"/>\n<text text-anchor=\"start\" x=\"133.5\" y=\"-290.8\" font-family=\"Helvetica,sans-Serif\" font-size=\"14.00\" fill=\"#000000\">petal width (cm) ≤ 1.65</text>\n<text text-anchor=\"start\" x=\"168\" y=\"-275.8\" font-family=\"Helvetica,sans-Serif\" font-size=\"14.00\" fill=\"#000000\">gini = 0.041</text>\n<text text-anchor=\"start\" x=\"162\" y=\"-260.8\" font-family=\"Helvetica,sans-Serif\" font-size=\"14.00\" fill=\"#000000\">samples = 48</text>\n<text text-anchor=\"start\" x=\"152.5\" y=\"-245.8\" font-family=\"Helvetica,sans-Serif\" font-size=\"14.00\" fill=\"#000000\">value = [0, 47, 1]</text>\n<text text-anchor=\"start\" x=\"150\" y=\"-230.8\" font-family=\"Helvetica,sans-Serif\" font-size=\"14.00\" fill=\"#000000\">class = versicolor</text>\n</g>\n<!-- 3&#45;&gt;4 -->\n<g id=\"edge4\" class=\"edge\">\n<title>3&#45;&gt;4</title>\n<path fill=\"none\" stroke=\"#000000\" d=\"M352.9562,-341.8796C333.8599,-331.8244 313.3373,-321.0183 293.8638,-310.7645\"/>\n<polygon fill=\"#000000\" stroke=\"#000000\" points=\"295.4782,-307.6591 284.9992,-306.0969 292.2169,-313.853 295.4782,-307.6591\"/>\n</g>\n<!-- 7 -->\n<g id=\"node8\" class=\"node\">\n<title>7</title>\n<path fill=\"#c09cf2\" stroke=\"#000000\" d=\"M500.5,-306C500.5,-306 363.5,-306 363.5,-306 357.5,-306 351.5,-300 351.5,-294 351.5,-294 351.5,-235 351.5,-235 351.5,-229 357.5,-223 363.5,-223 363.5,-223 500.5,-223 500.5,-223 506.5,-223 512.5,-229 512.5,-235 512.5,-235 512.5,-294 512.5,-294 512.5,-300 506.5,-306 500.5,-306\"/>\n<text text-anchor=\"start\" x=\"359.5\" y=\"-290.8\" font-family=\"Helvetica,sans-Serif\" font-size=\"14.00\" fill=\"#000000\">petal width (cm) ≤ 1.55</text>\n<text text-anchor=\"start\" x=\"394\" y=\"-275.8\" font-family=\"Helvetica,sans-Serif\" font-size=\"14.00\" fill=\"#000000\">gini = 0.444</text>\n<text text-anchor=\"start\" x=\"392.5\" y=\"-260.8\" font-family=\"Helvetica,sans-Serif\" font-size=\"14.00\" fill=\"#000000\">samples = 6</text>\n<text text-anchor=\"start\" x=\"382.5\" y=\"-245.8\" font-family=\"Helvetica,sans-Serif\" font-size=\"14.00\" fill=\"#000000\">value = [0, 2, 4]</text>\n<text text-anchor=\"start\" x=\"380.5\" y=\"-230.8\" font-family=\"Helvetica,sans-Serif\" font-size=\"14.00\" fill=\"#000000\">class = virginica</text>\n</g>\n<!-- 3&#45;&gt;7 -->\n<g id=\"edge7\" class=\"edge\">\n<title>3&#45;&gt;7</title>\n<path fill=\"none\" stroke=\"#000000\" d=\"M432,-341.8796C432,-333.6838 432,-324.9891 432,-316.5013\"/>\n<polygon fill=\"#000000\" stroke=\"#000000\" points=\"435.5001,-316.298 432,-306.2981 428.5001,-316.2981 435.5001,-316.298\"/>\n</g>\n<!-- 5 -->\n<g id=\"node6\" class=\"node\">\n<title>5</title>\n<path fill=\"#39e581\" stroke=\"#000000\" d=\"M116,-179.5C116,-179.5 12,-179.5 12,-179.5 6,-179.5 0,-173.5 0,-167.5 0,-167.5 0,-123.5 0,-123.5 0,-117.5 6,-111.5 12,-111.5 12,-111.5 116,-111.5 116,-111.5 122,-111.5 128,-117.5 128,-123.5 128,-123.5 128,-167.5 128,-167.5 128,-173.5 122,-179.5 116,-179.5\"/>\n<text text-anchor=\"start\" x=\"34.5\" y=\"-164.3\" font-family=\"Helvetica,sans-Serif\" font-size=\"14.00\" fill=\"#000000\">gini = 0.0</text>\n<text text-anchor=\"start\" x=\"20\" y=\"-149.3\" font-family=\"Helvetica,sans-Serif\" font-size=\"14.00\" fill=\"#000000\">samples = 47</text>\n<text text-anchor=\"start\" x=\"10.5\" y=\"-134.3\" font-family=\"Helvetica,sans-Serif\" font-size=\"14.00\" fill=\"#000000\">value = [0, 47, 0]</text>\n<text text-anchor=\"start\" x=\"8\" y=\"-119.3\" font-family=\"Helvetica,sans-Serif\" font-size=\"14.00\" fill=\"#000000\">class = versicolor</text>\n</g>\n<!-- 4&#45;&gt;5 -->\n<g id=\"edge5\" class=\"edge\">\n<title>4&#45;&gt;5</title>\n<path fill=\"none\" stroke=\"#000000\" d=\"M156.3353,-222.8796C142.1642,-211.0038 126.743,-198.0804 112.6342,-186.2568\"/>\n<polygon fill=\"#000000\" stroke=\"#000000\" points=\"114.8598,-183.5554 104.9472,-179.8149 110.3637,-188.9206 114.8598,-183.5554\"/>\n</g>\n<!-- 6 -->\n<g id=\"node7\" class=\"node\">\n<title>6</title>\n<path fill=\"#8139e5\" stroke=\"#000000\" d=\"M253.5,-179.5C253.5,-179.5 158.5,-179.5 158.5,-179.5 152.5,-179.5 146.5,-173.5 146.5,-167.5 146.5,-167.5 146.5,-123.5 146.5,-123.5 146.5,-117.5 152.5,-111.5 158.5,-111.5 158.5,-111.5 253.5,-111.5 253.5,-111.5 259.5,-111.5 265.5,-117.5 265.5,-123.5 265.5,-123.5 265.5,-167.5 265.5,-167.5 265.5,-173.5 259.5,-179.5 253.5,-179.5\"/>\n<text text-anchor=\"start\" x=\"176.5\" y=\"-164.3\" font-family=\"Helvetica,sans-Serif\" font-size=\"14.00\" fill=\"#000000\">gini = 0.0</text>\n<text text-anchor=\"start\" x=\"166.5\" y=\"-149.3\" font-family=\"Helvetica,sans-Serif\" font-size=\"14.00\" fill=\"#000000\">samples = 1</text>\n<text text-anchor=\"start\" x=\"156.5\" y=\"-134.3\" font-family=\"Helvetica,sans-Serif\" font-size=\"14.00\" fill=\"#000000\">value = [0, 0, 1]</text>\n<text text-anchor=\"start\" x=\"154.5\" y=\"-119.3\" font-family=\"Helvetica,sans-Serif\" font-size=\"14.00\" fill=\"#000000\">class = virginica</text>\n</g>\n<!-- 4&#45;&gt;6 -->\n<g id=\"edge6\" class=\"edge\">\n<title>4&#45;&gt;6</title>\n<path fill=\"none\" stroke=\"#000000\" d=\"M206,-222.8796C206,-212.2134 206,-200.7021 206,-189.9015\"/>\n<polygon fill=\"#000000\" stroke=\"#000000\" points=\"209.5001,-189.8149 206,-179.8149 202.5001,-189.815 209.5001,-189.8149\"/>\n</g>\n<!-- 8 -->\n<g id=\"node9\" class=\"node\">\n<title>8</title>\n<path fill=\"#8139e5\" stroke=\"#000000\" d=\"M390.5,-179.5C390.5,-179.5 295.5,-179.5 295.5,-179.5 289.5,-179.5 283.5,-173.5 283.5,-167.5 283.5,-167.5 283.5,-123.5 283.5,-123.5 283.5,-117.5 289.5,-111.5 295.5,-111.5 295.5,-111.5 390.5,-111.5 390.5,-111.5 396.5,-111.5 402.5,-117.5 402.5,-123.5 402.5,-123.5 402.5,-167.5 402.5,-167.5 402.5,-173.5 396.5,-179.5 390.5,-179.5\"/>\n<text text-anchor=\"start\" x=\"313.5\" y=\"-164.3\" font-family=\"Helvetica,sans-Serif\" font-size=\"14.00\" fill=\"#000000\">gini = 0.0</text>\n<text text-anchor=\"start\" x=\"303.5\" y=\"-149.3\" font-family=\"Helvetica,sans-Serif\" font-size=\"14.00\" fill=\"#000000\">samples = 3</text>\n<text text-anchor=\"start\" x=\"293.5\" y=\"-134.3\" font-family=\"Helvetica,sans-Serif\" font-size=\"14.00\" fill=\"#000000\">value = [0, 0, 3]</text>\n<text text-anchor=\"start\" x=\"291.5\" y=\"-119.3\" font-family=\"Helvetica,sans-Serif\" font-size=\"14.00\" fill=\"#000000\">class = virginica</text>\n</g>\n<!-- 7&#45;&gt;8 -->\n<g id=\"edge8\" class=\"edge\">\n<title>7&#45;&gt;8</title>\n<path fill=\"none\" stroke=\"#000000\" d=\"M400.8721,-222.8796C392.4014,-211.5536 383.2181,-199.2748 374.7153,-187.9058\"/>\n<polygon fill=\"#000000\" stroke=\"#000000\" points=\"377.4562,-185.7268 368.6641,-179.8149 371.8505,-189.9193 377.4562,-185.7268\"/>\n</g>\n<!-- 9 -->\n<g id=\"node10\" class=\"node\">\n<title>9</title>\n<path fill=\"#9cf2c0\" stroke=\"#000000\" d=\"M575.5,-187C575.5,-187 432.5,-187 432.5,-187 426.5,-187 420.5,-181 420.5,-175 420.5,-175 420.5,-116 420.5,-116 420.5,-110 426.5,-104 432.5,-104 432.5,-104 575.5,-104 575.5,-104 581.5,-104 587.5,-110 587.5,-116 587.5,-116 587.5,-175 587.5,-175 587.5,-181 581.5,-187 575.5,-187\"/>\n<text text-anchor=\"start\" x=\"428.5\" y=\"-171.8\" font-family=\"Helvetica,sans-Serif\" font-size=\"14.00\" fill=\"#000000\">petal length (cm) ≤ 5.45</text>\n<text text-anchor=\"start\" x=\"466\" y=\"-156.8\" font-family=\"Helvetica,sans-Serif\" font-size=\"14.00\" fill=\"#000000\">gini = 0.444</text>\n<text text-anchor=\"start\" x=\"464.5\" y=\"-141.8\" font-family=\"Helvetica,sans-Serif\" font-size=\"14.00\" fill=\"#000000\">samples = 3</text>\n<text text-anchor=\"start\" x=\"454.5\" y=\"-126.8\" font-family=\"Helvetica,sans-Serif\" font-size=\"14.00\" fill=\"#000000\">value = [0, 2, 1]</text>\n<text text-anchor=\"start\" x=\"448\" y=\"-111.8\" font-family=\"Helvetica,sans-Serif\" font-size=\"14.00\" fill=\"#000000\">class = versicolor</text>\n</g>\n<!-- 7&#45;&gt;9 -->\n<g id=\"edge9\" class=\"edge\">\n<title>7&#45;&gt;9</title>\n<path fill=\"none\" stroke=\"#000000\" d=\"M457.1821,-222.8796C462.4133,-214.2335 467.9805,-205.0322 473.3823,-196.1042\"/>\n<polygon fill=\"#000000\" stroke=\"#000000\" points=\"476.5283,-197.6658 478.7104,-187.2981 470.5392,-194.0421 476.5283,-197.6658\"/>\n</g>\n<!-- 10 -->\n<g id=\"node11\" class=\"node\">\n<title>10</title>\n<path fill=\"#39e581\" stroke=\"#000000\" d=\"M485,-68C485,-68 381,-68 381,-68 375,-68 369,-62 369,-56 369,-56 369,-12 369,-12 369,-6 375,0 381,0 381,0 485,0 485,0 491,0 497,-6 497,-12 497,-12 497,-56 497,-56 497,-62 491,-68 485,-68\"/>\n<text text-anchor=\"start\" x=\"403.5\" y=\"-52.8\" font-family=\"Helvetica,sans-Serif\" font-size=\"14.00\" fill=\"#000000\">gini = 0.0</text>\n<text text-anchor=\"start\" x=\"393.5\" y=\"-37.8\" font-family=\"Helvetica,sans-Serif\" font-size=\"14.00\" fill=\"#000000\">samples = 2</text>\n<text text-anchor=\"start\" x=\"383.5\" y=\"-22.8\" font-family=\"Helvetica,sans-Serif\" font-size=\"14.00\" fill=\"#000000\">value = [0, 2, 0]</text>\n<text text-anchor=\"start\" x=\"377\" y=\"-7.8\" font-family=\"Helvetica,sans-Serif\" font-size=\"14.00\" fill=\"#000000\">class = versicolor</text>\n</g>\n<!-- 9&#45;&gt;10 -->\n<g id=\"edge10\" class=\"edge\">\n<title>9&#45;&gt;10</title>\n<path fill=\"none\" stroke=\"#000000\" d=\"M477.5622,-103.9815C471.944,-95.1585 466.0012,-85.8258 460.3497,-76.9506\"/>\n<polygon fill=\"#000000\" stroke=\"#000000\" points=\"463.1416,-74.8188 454.8181,-68.2637 457.2371,-78.5787 463.1416,-74.8188\"/>\n</g>\n<!-- 11 -->\n<g id=\"node12\" class=\"node\">\n<title>11</title>\n<path fill=\"#8139e5\" stroke=\"#000000\" d=\"M622.5,-68C622.5,-68 527.5,-68 527.5,-68 521.5,-68 515.5,-62 515.5,-56 515.5,-56 515.5,-12 515.5,-12 515.5,-6 521.5,0 527.5,0 527.5,0 622.5,0 622.5,0 628.5,0 634.5,-6 634.5,-12 634.5,-12 634.5,-56 634.5,-56 634.5,-62 628.5,-68 622.5,-68\"/>\n<text text-anchor=\"start\" x=\"545.5\" y=\"-52.8\" font-family=\"Helvetica,sans-Serif\" font-size=\"14.00\" fill=\"#000000\">gini = 0.0</text>\n<text text-anchor=\"start\" x=\"535.5\" y=\"-37.8\" font-family=\"Helvetica,sans-Serif\" font-size=\"14.00\" fill=\"#000000\">samples = 1</text>\n<text text-anchor=\"start\" x=\"525.5\" y=\"-22.8\" font-family=\"Helvetica,sans-Serif\" font-size=\"14.00\" fill=\"#000000\">value = [0, 0, 1]</text>\n<text text-anchor=\"start\" x=\"523.5\" y=\"-7.8\" font-family=\"Helvetica,sans-Serif\" font-size=\"14.00\" fill=\"#000000\">class = virginica</text>\n</g>\n<!-- 9&#45;&gt;11 -->\n<g id=\"edge11\" class=\"edge\">\n<title>9&#45;&gt;11</title>\n<path fill=\"none\" stroke=\"#000000\" d=\"M530.4378,-103.9815C536.056,-95.1585 541.9988,-85.8258 547.6503,-76.9506\"/>\n<polygon fill=\"#000000\" stroke=\"#000000\" points=\"550.7629,-78.5787 553.1819,-68.2637 544.8584,-74.8188 550.7629,-78.5787\"/>\n</g>\n<!-- 13 -->\n<g id=\"node14\" class=\"node\">\n<title>13</title>\n<path fill=\"#c09cf2\" stroke=\"#000000\" d=\"M731.5,-306C731.5,-306 598.5,-306 598.5,-306 592.5,-306 586.5,-300 586.5,-294 586.5,-294 586.5,-235 586.5,-235 586.5,-229 592.5,-223 598.5,-223 598.5,-223 731.5,-223 731.5,-223 737.5,-223 743.5,-229 743.5,-235 743.5,-235 743.5,-294 743.5,-294 743.5,-300 737.5,-306 731.5,-306\"/>\n<text text-anchor=\"start\" x=\"594.5\" y=\"-290.8\" font-family=\"Helvetica,sans-Serif\" font-size=\"14.00\" fill=\"#000000\">sepal width (cm) ≤ 3.1</text>\n<text text-anchor=\"start\" x=\"627\" y=\"-275.8\" font-family=\"Helvetica,sans-Serif\" font-size=\"14.00\" fill=\"#000000\">gini = 0.444</text>\n<text text-anchor=\"start\" x=\"625.5\" y=\"-260.8\" font-family=\"Helvetica,sans-Serif\" font-size=\"14.00\" fill=\"#000000\">samples = 3</text>\n<text text-anchor=\"start\" x=\"615.5\" y=\"-245.8\" font-family=\"Helvetica,sans-Serif\" font-size=\"14.00\" fill=\"#000000\">value = [0, 1, 2]</text>\n<text text-anchor=\"start\" x=\"613.5\" y=\"-230.8\" font-family=\"Helvetica,sans-Serif\" font-size=\"14.00\" fill=\"#000000\">class = virginica</text>\n</g>\n<!-- 12&#45;&gt;13 -->\n<g id=\"edge13\" class=\"edge\">\n<title>12&#45;&gt;13</title>\n<path fill=\"none\" stroke=\"#000000\" d=\"M665,-341.8796C665,-333.6838 665,-324.9891 665,-316.5013\"/>\n<polygon fill=\"#000000\" stroke=\"#000000\" points=\"668.5001,-316.298 665,-306.2981 661.5001,-316.2981 668.5001,-316.298\"/>\n</g>\n<!-- 16 -->\n<g id=\"node17\" class=\"node\">\n<title>16</title>\n<path fill=\"#8139e5\" stroke=\"#000000\" d=\"M872.5,-298.5C872.5,-298.5 773.5,-298.5 773.5,-298.5 767.5,-298.5 761.5,-292.5 761.5,-286.5 761.5,-286.5 761.5,-242.5 761.5,-242.5 761.5,-236.5 767.5,-230.5 773.5,-230.5 773.5,-230.5 872.5,-230.5 872.5,-230.5 878.5,-230.5 884.5,-236.5 884.5,-242.5 884.5,-242.5 884.5,-286.5 884.5,-286.5 884.5,-292.5 878.5,-298.5 872.5,-298.5\"/>\n<text text-anchor=\"start\" x=\"793.5\" y=\"-283.3\" font-family=\"Helvetica,sans-Serif\" font-size=\"14.00\" fill=\"#000000\">gini = 0.0</text>\n<text text-anchor=\"start\" x=\"779\" y=\"-268.3\" font-family=\"Helvetica,sans-Serif\" font-size=\"14.00\" fill=\"#000000\">samples = 43</text>\n<text text-anchor=\"start\" x=\"769.5\" y=\"-253.3\" font-family=\"Helvetica,sans-Serif\" font-size=\"14.00\" fill=\"#000000\">value = [0, 0, 43]</text>\n<text text-anchor=\"start\" x=\"771.5\" y=\"-238.3\" font-family=\"Helvetica,sans-Serif\" font-size=\"14.00\" fill=\"#000000\">class = virginica</text>\n</g>\n<!-- 12&#45;&gt;16 -->\n<g id=\"edge16\" class=\"edge\">\n<title>12&#45;&gt;16</title>\n<path fill=\"none\" stroke=\"#000000\" d=\"M720.2607,-341.8796C736.2503,-329.8368 753.6703,-316.7167 769.5474,-304.7586\"/>\n<polygon fill=\"#000000\" stroke=\"#000000\" points=\"771.8116,-307.435 777.6938,-298.623 767.6002,-301.8435 771.8116,-307.435\"/>\n</g>\n<!-- 14 -->\n<g id=\"node15\" class=\"node\">\n<title>14</title>\n<path fill=\"#8139e5\" stroke=\"#000000\" d=\"M712.5,-179.5C712.5,-179.5 617.5,-179.5 617.5,-179.5 611.5,-179.5 605.5,-173.5 605.5,-167.5 605.5,-167.5 605.5,-123.5 605.5,-123.5 605.5,-117.5 611.5,-111.5 617.5,-111.5 617.5,-111.5 712.5,-111.5 712.5,-111.5 718.5,-111.5 724.5,-117.5 724.5,-123.5 724.5,-123.5 724.5,-167.5 724.5,-167.5 724.5,-173.5 718.5,-179.5 712.5,-179.5\"/>\n<text text-anchor=\"start\" x=\"635.5\" y=\"-164.3\" font-family=\"Helvetica,sans-Serif\" font-size=\"14.00\" fill=\"#000000\">gini = 0.0</text>\n<text text-anchor=\"start\" x=\"625.5\" y=\"-149.3\" font-family=\"Helvetica,sans-Serif\" font-size=\"14.00\" fill=\"#000000\">samples = 2</text>\n<text text-anchor=\"start\" x=\"615.5\" y=\"-134.3\" font-family=\"Helvetica,sans-Serif\" font-size=\"14.00\" fill=\"#000000\">value = [0, 0, 2]</text>\n<text text-anchor=\"start\" x=\"613.5\" y=\"-119.3\" font-family=\"Helvetica,sans-Serif\" font-size=\"14.00\" fill=\"#000000\">class = virginica</text>\n</g>\n<!-- 13&#45;&gt;14 -->\n<g id=\"edge14\" class=\"edge\">\n<title>13&#45;&gt;14</title>\n<path fill=\"none\" stroke=\"#000000\" d=\"M665,-222.8796C665,-212.2134 665,-200.7021 665,-189.9015\"/>\n<polygon fill=\"#000000\" stroke=\"#000000\" points=\"668.5001,-189.8149 665,-179.8149 661.5001,-189.815 668.5001,-189.8149\"/>\n</g>\n<!-- 15 -->\n<g id=\"node16\" class=\"node\">\n<title>15</title>\n<path fill=\"#39e581\" stroke=\"#000000\" d=\"M859,-179.5C859,-179.5 755,-179.5 755,-179.5 749,-179.5 743,-173.5 743,-167.5 743,-167.5 743,-123.5 743,-123.5 743,-117.5 749,-111.5 755,-111.5 755,-111.5 859,-111.5 859,-111.5 865,-111.5 871,-117.5 871,-123.5 871,-123.5 871,-167.5 871,-167.5 871,-173.5 865,-179.5 859,-179.5\"/>\n<text text-anchor=\"start\" x=\"777.5\" y=\"-164.3\" font-family=\"Helvetica,sans-Serif\" font-size=\"14.00\" fill=\"#000000\">gini = 0.0</text>\n<text text-anchor=\"start\" x=\"767.5\" y=\"-149.3\" font-family=\"Helvetica,sans-Serif\" font-size=\"14.00\" fill=\"#000000\">samples = 1</text>\n<text text-anchor=\"start\" x=\"757.5\" y=\"-134.3\" font-family=\"Helvetica,sans-Serif\" font-size=\"14.00\" fill=\"#000000\">value = [0, 1, 0]</text>\n<text text-anchor=\"start\" x=\"751\" y=\"-119.3\" font-family=\"Helvetica,sans-Serif\" font-size=\"14.00\" fill=\"#000000\">class = versicolor</text>\n</g>\n<!-- 13&#45;&gt;15 -->\n<g id=\"edge15\" class=\"edge\">\n<title>13&#45;&gt;15</title>\n<path fill=\"none\" stroke=\"#000000\" d=\"M714.6647,-222.8796C728.8358,-211.0038 744.257,-198.0804 758.3658,-186.2568\"/>\n<polygon fill=\"#000000\" stroke=\"#000000\" points=\"760.6363,-188.9206 766.0528,-179.8149 756.1402,-183.5554 760.6363,-188.9206\"/>\n</g>\n</g>\n</svg>\n"
          },
          "metadata": {
            "tags": []
          },
          "execution_count": 7
        }
      ]
    },
    {
      "cell_type": "code",
      "metadata": {
        "id": "rBieast23gu8",
        "colab": {
          "base_uri": "https://localhost:8080/",
          "height": 545
        },
        "outputId": "63f81ad1-a2c5-4f51-8f9c-7795ae364437"
      },
      "source": [
        "#22.K-Means Clustering\n",
        "\n",
        "from sklearn.datasets import load_iris\n",
        "from itertools import cycle\n",
        "from sklearn.decomposition import PCA\n",
        "from sklearn.cluster import KMeans\n",
        "from numpy.random import RandomState\n",
        "import pylab as pl\n",
        "import matplotlib.pyplot as plt\n",
        "\n",
        "class clustering:\n",
        "    def __init__(self):\n",
        "        self.plot(load_iris().data)\n",
        "        \n",
        "    def plot(self, X):\n",
        "         wcss=[]\n",
        "         for i in range(1,11):\n",
        "             kmeans=KMeans(n_clusters=i,init='k-means++',max_iter=300,n_init=10,random_state=0)\n",
        "             kmeans.fit(X)\n",
        "             wcss.append(kmeans.inertia_)\n",
        "         plt.plot(range(1,11),wcss)\n",
        "         plt.title('Elbow Method')\n",
        "         plt.xlabel('Number of Clusters')\n",
        "         plt.ylabel('WCSS')\n",
        "         plt.show()\n",
        "\n",
        "         pca = PCA(n_components=2, whiten=True).fit(X)\n",
        "         X_pca = pca.transform(X)\n",
        "         kmeans = KMeans(n_clusters=3, random_state=RandomState(42)).fit(X_pca)\n",
        "         plot_2D(X_pca, kmeans.labels_, [\"c0\", \"c1\", \"c2\"])\n",
        "def plot_2D(data, target, target_names):\n",
        "    colors = cycle('rgbcmykw')\n",
        "    target_ids = range(len(target_names))\n",
        "    pl.figure()\n",
        "    for i, c, label in zip(target_ids, colors, target_names):\n",
        "         pl.scatter(data[target == i, 0], data[target == i, 1],\n",
        "\t\t\t\t\tc=c, label=label)\n",
        "    pl.legend()\n",
        "    pl.show()\n",
        "\n",
        "if __name__ == '__main__':\n",
        "\tc = clustering()"
      ],
      "execution_count": null,
      "outputs": [
        {
          "output_type": "display_data",
          "data": {
            "image/png": "[encoded data removed]",
            "text/plain": [
              "<Figure size 432x288 with 1 Axes>"
            ]
          },
          "metadata": {
            "tags": [],
            "needs_background": "light"
          }
        },
        {
          "output_type": "display_data",
          "data": {
            "image/png": "[encoded data removed]",
            "text/plain": [
              "<Figure size 432x288 with 1 Axes>"
            ]
          },
          "metadata": {
            "tags": [],
            "needs_background": "light"
          }
        }
      ]
    },
    {
      "cell_type": "code",
      "metadata": {
        "id": "RUYwcJee79RF",
        "colab": {
          "resources": {
            "http://localhost:8080/nbextensions/google.colab/files.js": {
              "data": "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",
              "ok": true,
              "headers": [
                [
                  "content-type",
                  "application/javascript"
                ]
              ],
              "status": 200,
              "status_text": ""
            }
          },
          "base_uri": "https://localhost:8080/",
          "height": 73
        },
        "outputId": "06ae4f0f-9e11-480e-f835-fe49de73dca4"
      },
      "source": [
        "from google.colab import files\n",
        "uploaded=files.upload()\n"
      ],
      "execution_count": null,
      "outputs": [
        {
          "output_type": "display_data",
          "data": {
            "text/html": [
              "\n",
              "     <input type=\"file\" id=\"files-f7d4c957-7bf5-4418-b75f-ddfa608a71f7\" name=\"files[]\" multiple disabled\n",
              "        style=\"border:none\" />\n",
              "     <output id=\"result-f7d4c957-7bf5-4418-b75f-ddfa608a71f7\">\n",
              "      Upload widget is only available when the cell has been executed in the\n",
              "      current browser session. Please rerun this cell to enable.\n",
              "      </output>\n",
              "      <script src=\"/nbextensions/google.colab/files.js\"></script> "
            ],
            "text/plain": [
              "<IPython.core.display.HTML object>"
            ]
          },
          "metadata": {
            "tags": []
          }
        },
        {
          "output_type": "stream",
          "text": [
            "Saving Social_Network_Ads.csv to Social_Network_Ads.csv\n"
          ],
          "name": "stdout"
        }
      ]
    },
    {
      "cell_type": "code",
      "metadata": {
        "id": "y-yL8mRh3nxd",
        "colab": {
          "base_uri": "https://localhost:8080/",
          "height": 573
        },
        "outputId": "24e1b6b7-719a-4ccc-9e16-8ee4d1e47d46"
      },
      "source": [
        "#23 Hierarchical Clustering \n",
        "\n",
        "# Importing the libraries\n",
        "\n",
        "import matplotlib.pyplot as plt\n",
        "import pandas as pd\n",
        "\n",
        "# Importing the dataset\n",
        "dataset = pd.read_csv('Mall_Customers.csv')\n",
        "X = dataset.iloc[:, [3, 4]].values\n",
        "\n",
        "# Using the dendrogram to find the optimal number of clusters\n",
        "import scipy.cluster.hierarchy as sch\n",
        "dendrogram = sch.dendrogram(sch.linkage(X, method = 'ward'))\n",
        "plt.title('Dendrogram')\n",
        "plt.xlabel('Customers')\n",
        "plt.ylabel('Euclidean distances')\n",
        "plt.axhline(y=200, color='r', linestyle='--')\n",
        "plt.show()\n",
        "\n",
        "\n",
        "\n",
        "# Training the Hierarchical Clustering model on the dataset\n",
        "from sklearn.cluster import AgglomerativeClustering\n",
        "hc = AgglomerativeClustering(n_clusters = 5, affinity = 'euclidean', linkage = 'ward')\n",
        "y_hc = hc.fit_predict(X)\n",
        "\n",
        "# Visualising the clusters\n",
        "plt.scatter(X[y_hc == 0, 0], X[y_hc == 0, 1], s = 100, c = 'red', label = 'Cluster 1')\n",
        "plt.scatter(X[y_hc == 1, 0], X[y_hc == 1, 1], s = 100, c = 'blue', label = 'Cluster 2')\n",
        "plt.scatter(X[y_hc == 2, 0], X[y_hc == 2, 1], s = 100, c = 'green', label = 'Cluster 3')\n",
        "plt.scatter(X[y_hc == 3, 0], X[y_hc == 3, 1], s = 100, c = 'cyan', label = 'Cluster 4')\n",
        "plt.scatter(X[y_hc == 4, 0], X[y_hc == 4, 1], s = 100, c = 'magenta', label = 'Cluster 5')\n",
        "plt.title('Clusters of customers')\n",
        "plt.xlabel('Annual Income (k$)')\n",
        "plt.ylabel('Spending Score (1-100)')\n",
        "plt.legend()\n",
        "plt.show()"
      ],
      "execution_count": null,
      "outputs": [
        {
          "output_type": "display_data",
          "data": {
            "image/png": "[encoded data removed]",
            "text/plain": [
              "<Figure size 432x288 with 1 Axes>"
            ]
          },
          "metadata": {
            "needs_background": "light"
          }
        },
        {
          "output_type": "display_data",
          "data": {
            "image/png": "[encoded data removed]",
            "text/plain": [
              "<Figure size 432x288 with 1 Axes>"
            ]
          },
          "metadata": {
            "needs_background": "light"
          }
        }
      ]
    },
    {
      "cell_type": "code",
      "metadata": {
        "id": "zg-H-zMj2iE9",
        "colab": {
          "base_uri": "https://localhost:8080/",
          "height": 710
        },
        "outputId": "6828b3b9-361d-40d5-d794-6aca674380bd"
      },
      "source": [
        "#24. Logistic Regression\n",
        "# -*- coding: utf-8 -*-\n",
        "\"\"\"\n",
        "Created on Sun Nov 22 19:22:51 2020\n",
        "\n",
        "@author: Rams\n",
        "\"\"\"\n",
        "\n",
        "# Logistic Regression\n",
        "\n",
        "# Importing the libraries\n",
        "import numpy as np\n",
        "import matplotlib.pyplot as plt\n",
        "import pandas as pd\n",
        "\n",
        "# Importing the dataset\n",
        "dataset = pd.read_csv('Social_Network_Ads.csv')\n",
        "X = dataset.iloc[:, [2, 3]].values\n",
        "y = dataset.iloc[:, 4].values\n",
        "\n",
        "# Splitting the dataset into the Training set and Test set\n",
        "from sklearn.model_selection import train_test_split\n",
        "X_train, X_test, y_train, y_test = train_test_split(X, y, test_size = 0.20, random_state = 0)\n",
        "\n",
        "# Feature Scaling\n",
        "from sklearn.preprocessing import StandardScaler\n",
        "sc = StandardScaler()\n",
        "X_train = sc.fit_transform(X_train)\n",
        "X_test = sc.transform(X_test)\n",
        "\n",
        "# Fitting Logistic Regression to the Training set\n",
        "from sklearn.linear_model import LogisticRegression\n",
        "classifier = LogisticRegression(random_state = 0)\n",
        "classifier.fit(X_train, y_train)\n",
        "\n",
        "# Predicting the Test set results\n",
        "y_pred = classifier.predict(X_test)\n",
        "\n",
        "# Making the Confusion Matrix\n",
        "from sklearn.metrics import confusion_matrix\n",
        "cm = confusion_matrix(y_test, y_pred)\n",
        "print(cm)\n",
        "\n",
        "# Visualising the Training set results\n",
        "from matplotlib.colors import ListedColormap\n",
        "X_set, y_set = X_train, y_train\n",
        "X1, X2 = np.meshgrid(np.arange(start = X_set[:, 0].min() - 1, stop = X_set[:, 0].max() + 1, step = 0.01),\n",
        "                     np.arange(start = X_set[:, 1].min() - 1, stop = X_set[:, 1].max() + 1, step = 0.01))\n",
        "plt.contourf(X1, X2, classifier.predict(np.array([X1.ravel(), X2.ravel()]).T).reshape(X1.shape),\n",
        "             alpha = 0.75, cmap = ListedColormap(('red', 'green')))\n",
        "plt.xlim(X1.min(), X1.max())\n",
        "plt.ylim(X2.min(), X2.max())\n",
        "for i, j in enumerate(np.unique(y_set)):\n",
        "    plt.scatter(X_set[y_set == j, 0], X_set[y_set == j, 1],\n",
        "                c = ListedColormap(('red', 'green'))(i), label = j)\n",
        "plt.title('Logistic Regression (Training set)')\n",
        "plt.xlabel('Age')\n",
        "plt.ylabel('Estimated Salary')\n",
        "plt.legend()\n",
        "plt.show()\n",
        "\n",
        "# Visualising the Test set results\n",
        "from matplotlib.colors import ListedColormap\n",
        "X_set, y_set = X_test, y_test\n",
        "X1, X2 = np.meshgrid(np.arange(start = X_set[:, 0].min() - 1, stop = X_set[:, 0].max() + 1, step = 0.01),\n",
        "                     np.arange(start = X_set[:, 1].min() - 1, stop = X_set[:, 1].max() + 1, step = 0.01))\n",
        "plt.contourf(X1, X2, classifier.predict(np.array([X1.ravel(), X2.ravel()]).T).reshape(X1.shape),\n",
        "             alpha = 0.75, cmap = ListedColormap(('red', 'green')))\n",
        "plt.xlim(X1.min(), X1.max())\n",
        "plt.ylim(X2.min(), X2.max())\n",
        "for i, j in enumerate(np.unique(y_set)):\n",
        "    plt.scatter(X_set[y_set == j, 0], X_set[y_set == j, 1],\n",
        "                c = ListedColormap(('red', 'green'))(i), label = j)\n",
        "plt.title('Logistic Regression (Test set)')\n",
        "plt.xlabel('Age')\n",
        "plt.ylabel('Estimated Salary')\n",
        "plt.legend()\n",
        "plt.show()\n",
        "score = classifier.score(X_test, y_test)\n",
        "print('Accuracy Score is: ',score)\n",
        "\n",
        "\n",
        "\n"
      ],
      "execution_count": null,
      "outputs": [
        {
          "output_type": "stream",
          "name": "stderr",
          "text": [
            "*c* argument looks like a single numeric RGB or RGBA sequence, which should be avoided as value-mapping will have precedence in case its length matches with *x* & *y*.  Please use the *color* keyword-argument or provide a 2-D array with a single row if you intend to specify the same RGB or RGBA value for all points.\n",
            "*c* argument looks like a single numeric RGB or RGBA sequence, which should be avoided as value-mapping will have precedence in case its length matches with *x* & *y*.  Please use the *color* keyword-argument or provide a 2-D array with a single row if you intend to specify the same RGB or RGBA value for all points.\n"
          ]
        },
        {
          "output_type": "stream",
          "name": "stdout",
          "text": [
            "[[57  1]\n",
            " [ 5 17]]\n"
          ]
        },
        {
          "output_type": "display_data",
          "data": {
            "image/png": "[encoded data removed]",
            "text/plain": [
              "<Figure size 432x288 with 1 Axes>"
            ]
          },
          "metadata": {
            "needs_background": "light"
          }
        },
        {
          "output_type": "stream",
          "name": "stderr",
          "text": [
            "*c* argument looks like a single numeric RGB or RGBA sequence, which should be avoided as value-mapping will have precedence in case its length matches with *x* & *y*.  Please use the *color* keyword-argument or provide a 2-D array with a single row if you intend to specify the same RGB or RGBA value for all points.\n",
            "*c* argument looks like a single numeric RGB or RGBA sequence, which should be avoided as value-mapping will have precedence in case its length matches with *x* & *y*.  Please use the *color* keyword-argument or provide a 2-D array with a single row if you intend to specify the same RGB or RGBA value for all points.\n"
          ]
        },
        {
          "output_type": "display_data",
          "data": {
            "image/png": "[encoded data removed]",
            "text/plain": [
              "<Figure size 432x288 with 1 Axes>"
            ]
          },
          "metadata": {
            "needs_background": "light"
          }
        },
        {
          "output_type": "stream",
          "name": "stdout",
          "text": [
            "Accuracy Score is:  0.925\n"
          ]
        }
      ]
    },
    {
      "cell_type": "code",
      "metadata": {
        "id": "W6i3FzL13z07",
        "colab": {
          "base_uri": "https://localhost:8080/",
          "height": 727
        },
        "outputId": "d3c3b7ec-f80f-4f79-e531-e24c35c01fe5"
      },
      "source": [
        "#25 K-Nearest Neighbors\n",
        "\n",
        "# -*- coding: utf-8 -*-\n",
        "\"\"\"\n",
        "Created on Sun Nov 22 22:22:51 2020\n",
        "\n",
        "@author: Rams\n",
        "\"\"\"\n",
        "\n",
        "# K-Nearest Neighbors (K-NN)\n",
        "\n",
        "# Importing the libraries\n",
        "import numpy as np\n",
        "import matplotlib.pyplot as plt\n",
        "import pandas as pd\n",
        "\n",
        "# Importing the dataset\n",
        "dataset = pd.read_csv('Social_Network_Ads.csv')\n",
        "X = dataset.iloc[:, [2, 3]].values\n",
        "y = dataset.iloc[:, 4].values\n",
        "\n",
        "# Splitting the dataset into the Training set and Test set\n",
        "from sklearn.model_selection import train_test_split\n",
        "X_train, X_test, y_train, y_test = train_test_split(X, y, test_size = 0.25, random_state = 0)\n",
        "\n",
        "# Feature Scaling\n",
        "from sklearn.preprocessing import StandardScaler\n",
        "sc = StandardScaler()\n",
        "X_train = sc.fit_transform(X_train)\n",
        "X_test = sc.transform(X_test)\n",
        "\n",
        "# Fitting K-NN to the Training set\n",
        "from sklearn.neighbors import KNeighborsClassifier\n",
        "classifier = KNeighborsClassifier(n_neighbors = 5, metric = 'minkowski', p = 2)\n",
        "classifier.fit(X_train, y_train)\n",
        "\n",
        "# Predicting the Test set results\n",
        "y_pred = classifier.predict(X_test)\n",
        "\n",
        "# Making the Confusion Matrix\n",
        "from sklearn.metrics import confusion_matrix\n",
        "cm = confusion_matrix(y_test, y_pred)\n",
        "print(\"Confusion Matrix of KNN \\n\",cm)\n",
        "\n",
        "# Visualising the Training set results\n",
        "from matplotlib.colors import ListedColormap\n",
        "X_set, y_set = X_train, y_train\n",
        "X1, X2 = np.meshgrid(np.arange(start = X_set[:, 0].min() - 1, stop = X_set[:, 0].max() + 1, step = 0.01),\n",
        "                     np.arange(start = X_set[:, 1].min() - 1, stop = X_set[:, 1].max() + 1, step = 0.01))\n",
        "plt.contourf(X1, X2, classifier.predict(np.array([X1.ravel(), X2.ravel()]).T).reshape(X1.shape),\n",
        "             alpha = 0.75, cmap = ListedColormap(('red', 'green')))\n",
        "plt.xlim(X1.min(), X1.max())\n",
        "plt.ylim(X2.min(), X2.max())\n",
        "for i, j in enumerate(np.unique(y_set)):\n",
        "    plt.scatter(X_set[y_set == j, 0], X_set[y_set == j, 1],\n",
        "                c = ListedColormap(('red', 'green'))(i), label = j)\n",
        "plt.title('K-NN (Training set)')\n",
        "plt.xlabel('Age')\n",
        "plt.ylabel('Estimated Salary')\n",
        "plt.legend()\n",
        "plt.show()\n",
        "\n",
        "# Visualising the Test set results\n",
        "from matplotlib.colors import ListedColormap\n",
        "X_set, y_set = X_test, y_test\n",
        "X1, X2 = np.meshgrid(np.arange(start = X_set[:, 0].min() - 1, stop = X_set[:, 0].max() + 1, step = 0.01),\n",
        "                     np.arange(start = X_set[:, 1].min() - 1, stop = X_set[:, 1].max() + 1, step = 0.01))\n",
        "plt.contourf(X1, X2, classifier.predict(np.array([X1.ravel(), X2.ravel()]).T).reshape(X1.shape),\n",
        "             alpha = 0.75, cmap = ListedColormap(('red', 'green')))\n",
        "plt.xlim(X1.min(), X1.max())\n",
        "plt.ylim(X2.min(), X2.max())\n",
        "for i, j in enumerate(np.unique(y_set)):\n",
        "    plt.scatter(X_set[y_set == j, 0], X_set[y_set == j, 1],\n",
        "                c = ListedColormap(('red', 'green'))(i), label = j)\n",
        "plt.title('K-NN (Test set)')\n",
        "plt.xlabel('Age')\n",
        "plt.ylabel('Estimated Salary')\n",
        "plt.legend()\n",
        "plt.show()\n",
        "\n",
        "score = classifier.score(X_test, y_test)\n",
        "print('Accuracy Score is: ',score)\n"
      ],
      "execution_count": null,
      "outputs": [
        {
          "output_type": "stream",
          "name": "stdout",
          "text": [
            "Confusion Matrix of KNN \n",
            " [[64  4]\n",
            " [ 3 29]]\n"
          ]
        },
        {
          "output_type": "stream",
          "name": "stderr",
          "text": [
            "*c* argument looks like a single numeric RGB or RGBA sequence, which should be avoided as value-mapping will have precedence in case its length matches with *x* & *y*.  Please use the *color* keyword-argument or provide a 2-D array with a single row if you intend to specify the same RGB or RGBA value for all points.\n",
            "*c* argument looks like a single numeric RGB or RGBA sequence, which should be avoided as value-mapping will have precedence in case its length matches with *x* & *y*.  Please use the *color* keyword-argument or provide a 2-D array with a single row if you intend to specify the same RGB or RGBA value for all points.\n"
          ]
        },
        {
          "output_type": "display_data",
          "data": {
            "image/png": "[encoded data removed]",
            "text/plain": [
              "<Figure size 432x288 with 1 Axes>"
            ]
          },
          "metadata": {
            "needs_background": "light"
          }
        },
        {
          "output_type": "stream",
          "name": "stderr",
          "text": [
            "*c* argument looks like a single numeric RGB or RGBA sequence, which should be avoided as value-mapping will have precedence in case its length matches with *x* & *y*.  Please use the *color* keyword-argument or provide a 2-D array with a single row if you intend to specify the same RGB or RGBA value for all points.\n",
            "*c* argument looks like a single numeric RGB or RGBA sequence, which should be avoided as value-mapping will have precedence in case its length matches with *x* & *y*.  Please use the *color* keyword-argument or provide a 2-D array with a single row if you intend to specify the same RGB or RGBA value for all points.\n"
          ]
        },
        {
          "output_type": "display_data",
          "data": {
            "image/png": "[encoded data removed]",
            "text/plain": [
              "<Figure size 432x288 with 1 Axes>"
            ]
          },
          "metadata": {
            "needs_background": "light"
          }
        },
        {
          "output_type": "stream",
          "name": "stdout",
          "text": [
            "Accuracy Score is:  0.93\n"
          ]
        }
      ]
    },
    {
      "cell_type": "code",
      "metadata": {
        "id": "faxir6ym5IFk",
        "colab": {
          "base_uri": "https://localhost:8080/",
          "height": 727
        },
        "outputId": "5e5ce5bf-86ff-4a62-faed-9b45979f45c8"
      },
      "source": [
        "#26 Support Vector Machines with Kernels\n",
        "# -*- coding: utf-8 -*-\n",
        "\"\"\"\n",
        "Created on Sun Nov 22 22:41:06 2020\n",
        "\n",
        "@author: Rams\n",
        "\"\"\"\n",
        "\n",
        "# Kernel SVM\n",
        "\n",
        "# Importing the libraries\n",
        "import numpy as np\n",
        "import matplotlib.pyplot as plt\n",
        "import pandas as pd\n",
        "\n",
        "# Importing the dataset\n",
        "dataset = pd.read_csv('Social_Network_Ads.csv')\n",
        "X = dataset.iloc[:, [2, 3]].values\n",
        "y = dataset.iloc[:, 4].values\n",
        "\n",
        "# Splitting the dataset into the Training set and Test set\n",
        "from sklearn.model_selection import train_test_split\n",
        "X_train, X_test, y_train, y_test = train_test_split(X, y, test_size = 0.25, random_state = 0)\n",
        "\n",
        "# Feature Scaling\n",
        "from sklearn.preprocessing import StandardScaler\n",
        "sc = StandardScaler()\n",
        "X_train = sc.fit_transform(X_train)\n",
        "X_test = sc.transform(X_test)\n",
        "\n",
        "# Fitting Kernel SVM to the Training set\n",
        "from sklearn.svm import SVC\n",
        "classifier = SVC(kernel = 'rbf', random_state = 0)\n",
        "#classifier = SVC(kernel = 'linear', random_state = 0)\n",
        "#from sklearn.svm import LinearSVC\n",
        "#classifier = LinearSVC( random_state = 0)\n",
        "#classifier = SVC(kernel = 'poly', random_state = 0)\n",
        "\n",
        "classifier.fit(X_train, y_train)\n",
        "\n",
        "# Predicting the Test set results\n",
        "y_pred = classifier.predict(X_test)\n",
        "\n",
        "# Making the Confusion Matrix\n",
        "from sklearn.metrics import confusion_matrix\n",
        "cm = confusion_matrix(y_test, y_pred)\n",
        "\n",
        "print(\"Confusion Matrix of SVM \\n\",cm)\n",
        "\n",
        "# Visualising the Training set results\n",
        "from matplotlib.colors import ListedColormap\n",
        "X_set, y_set = X_train, y_train\n",
        "X1, X2 = np.meshgrid(np.arange(start = X_set[:, 0].min() - 1, stop = X_set[:, 0].max() + 1, step = 0.01),\n",
        "                     np.arange(start = X_set[:, 1].min() - 1, stop = X_set[:, 1].max() + 1, step = 0.01))\n",
        "plt.contourf(X1, X2, classifier.predict(np.array([X1.ravel(), X2.ravel()]).T).reshape(X1.shape),\n",
        "             alpha = 0.75, cmap = ListedColormap(('red', 'green')))\n",
        "plt.xlim(X1.min(), X1.max())\n",
        "plt.ylim(X2.min(), X2.max())\n",
        "for i, j in enumerate(np.unique(y_set)):\n",
        "    plt.scatter(X_set[y_set == j, 0], X_set[y_set == j, 1],\n",
        "                c = ListedColormap(('red', 'green'))(i), label = j)\n",
        "plt.title('Kernel SVM (Training set)')\n",
        "plt.xlabel('Age')\n",
        "plt.ylabel('Estimated Salary')\n",
        "plt.legend()\n",
        "plt.show()\n",
        "\n",
        "# Visualising the Test set results\n",
        "from matplotlib.colors import ListedColormap\n",
        "X_set, y_set = X_test, y_test\n",
        "X1, X2 = np.meshgrid(np.arange(start = X_set[:, 0].min() - 1, stop = X_set[:, 0].max() + 1, step = 0.01),\n",
        "                     np.arange(start = X_set[:, 1].min() - 1, stop = X_set[:, 1].max() + 1, step = 0.01))\n",
        "plt.contourf(X1, X2, classifier.predict(np.array([X1.ravel(), X2.ravel()]).T).reshape(X1.shape),\n",
        "             alpha = 0.75, cmap = ListedColormap(('red', 'green')))\n",
        "plt.xlim(X1.min(), X1.max())\n",
        "plt.ylim(X2.min(), X2.max())\n",
        "for i, j in enumerate(np.unique(y_set)):\n",
        "    plt.scatter(X_set[y_set == j, 0], X_set[y_set == j, 1],\n",
        "                c = ListedColormap(('red', 'green'))(i), label = j)\n",
        "plt.title('Kernel SVM (Test set)')\n",
        "plt.xlabel('Age')\n",
        "plt.ylabel('Estimated Salary')\n",
        "plt.legend()\n",
        "plt.show()\n",
        "\n",
        "score = classifier.score(X_test, y_test)\n",
        "print('Accuracy Score is: ',score)"
      ],
      "execution_count": null,
      "outputs": [
        {
          "output_type": "stream",
          "name": "stdout",
          "text": [
            "Confusion Matrix of SVM \n",
            " [[64  4]\n",
            " [ 3 29]]\n"
          ]
        },
        {
          "output_type": "stream",
          "name": "stderr",
          "text": [
            "*c* argument looks like a single numeric RGB or RGBA sequence, which should be avoided as value-mapping will have precedence in case its length matches with *x* & *y*.  Please use the *color* keyword-argument or provide a 2-D array with a single row if you intend to specify the same RGB or RGBA value for all points.\n",
            "*c* argument looks like a single numeric RGB or RGBA sequence, which should be avoided as value-mapping will have precedence in case its length matches with *x* & *y*.  Please use the *color* keyword-argument or provide a 2-D array with a single row if you intend to specify the same RGB or RGBA value for all points.\n"
          ]
        },
        {
          "output_type": "display_data",
          "data": {
            "image/png": "[encoded data removed]",
            "text/plain": [
              "<Figure size 432x288 with 1 Axes>"
            ]
          },
          "metadata": {
            "needs_background": "light"
          }
        },
        {
          "output_type": "stream",
          "name": "stderr",
          "text": [
            "*c* argument looks like a single numeric RGB or RGBA sequence, which should be avoided as value-mapping will have precedence in case its length matches with *x* & *y*.  Please use the *color* keyword-argument or provide a 2-D array with a single row if you intend to specify the same RGB or RGBA value for all points.\n",
            "*c* argument looks like a single numeric RGB or RGBA sequence, which should be avoided as value-mapping will have precedence in case its length matches with *x* & *y*.  Please use the *color* keyword-argument or provide a 2-D array with a single row if you intend to specify the same RGB or RGBA value for all points.\n"
          ]
        },
        {
          "output_type": "display_data",
          "data": {
            "image/png": "[encoded data removed]",
            "text/plain": [
              "<Figure size 432x288 with 1 Axes>"
            ]
          },
          "metadata": {
            "needs_background": "light"
          }
        },
        {
          "output_type": "stream",
          "name": "stdout",
          "text": [
            "Accuracy Score is:  0.93\n"
          ]
        }
      ]
    },
    {
      "cell_type": "code",
      "metadata": {
        "id": "108qbgBW6bRM",
        "colab": {
          "resources": {
            "http://localhost:8080/nbextensions/google.colab/files.js": {
              "data": "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",
              "ok": true,
              "headers": [
                [
                  "content-type",
                  "application/javascript"
                ]
              ],
              "status": 200,
              "status_text": ""
            }
          },
          "base_uri": "https://localhost:8080/",
          "height": 73
        },
        "outputId": "d291cc0c-738a-450c-fbcd-44f047ca054e"
      },
      "source": [
        "from google.colab import files\n",
        "uploaded=files.upload()"
      ],
      "execution_count": null,
      "outputs": [
        {
          "output_type": "display_data",
          "data": {
            "text/html": [
              "\n",
              "     <input type=\"file\" id=\"files-c31b45f2-38a7-460a-b7e2-00674f296315\" name=\"files[]\" multiple disabled\n",
              "        style=\"border:none\" />\n",
              "     <output id=\"result-c31b45f2-38a7-460a-b7e2-00674f296315\">\n",
              "      Upload widget is only available when the cell has been executed in the\n",
              "      current browser session. Please rerun this cell to enable.\n",
              "      </output>\n",
              "      <script src=\"/nbextensions/google.colab/files.js\"></script> "
            ],
            "text/plain": [
              "<IPython.core.display.HTML object>"
            ]
          },
          "metadata": {
            "tags": []
          }
        },
        {
          "output_type": "stream",
          "text": [
            "Saving Wine.csv to Wine.csv\n"
          ],
          "name": "stdout"
        }
      ]
    },
    {
      "cell_type": "code",
      "metadata": {
        "id": "V5MJZSUg5tga",
        "colab": {
          "base_uri": "https://localhost:8080/",
          "height": 694
        },
        "outputId": "8d49ed18-d8a5-45c6-d061-14434c09597c"
      },
      "source": [
        "#27 Random Forest Classification\n",
        "\n",
        "# Importing the libraries\n",
        "import numpy as np\n",
        "import matplotlib.pyplot as plt\n",
        "import pandas as pd\n",
        "\n",
        "# Importing the dataset\n",
        "dataset = pd.read_csv('Social_Network_Ads.csv')\n",
        "X = dataset.iloc[:, [2, 3]].values\n",
        "y = dataset.iloc[:, 4].values\n",
        "\n",
        "# Splitting the dataset into the Training set and Test set\n",
        "from sklearn.model_selection import train_test_split\n",
        "X_train, X_test, y_train, y_test = train_test_split(X, y, test_size = 0.25, random_state = 0)\n",
        "\n",
        "# Feature Scaling\n",
        "from sklearn.preprocessing import StandardScaler\n",
        "sc = StandardScaler()\n",
        "X_train = sc.fit_transform(X_train)\n",
        "X_test = sc.transform(X_test)\n",
        "\n",
        "# Fitting Random Forest Classification to the Training set\n",
        "from sklearn.ensemble import RandomForestClassifier\n",
        "classifier = RandomForestClassifier(n_estimators = 10, criterion = 'entropy', random_state = 0)\n",
        "classifier.fit(X_train, y_train)\n",
        "\n",
        "# Predicting the Test set results\n",
        "y_pred = classifier.predict(X_test)\n",
        "\n",
        "# Making the Confusion Matrix\n",
        "from sklearn.metrics import confusion_matrix\n",
        "cm = confusion_matrix(y_test, y_pred)\n",
        "print(cm)\n",
        "# Visualising the Training set results\n",
        "from matplotlib.colors import ListedColormap\n",
        "X_set, y_set = X_train, y_train\n",
        "X1, X2 = np.meshgrid(np.arange(start = X_set[:, 0].min() - 1, stop = X_set[:, 0].max() + 1, step = 0.01),\n",
        "                     np.arange(start = X_set[:, 1].min() - 1, stop = X_set[:, 1].max() + 1, step = 0.01))\n",
        "plt.contourf(X1, X2, classifier.predict(np.array([X1.ravel(), X2.ravel()]).T).reshape(X1.shape),\n",
        "             alpha = 0.75, cmap = ListedColormap(('red', 'green')))\n",
        "plt.xlim(X1.min(), X1.max())\n",
        "plt.ylim(X2.min(), X2.max())\n",
        "for i, j in enumerate(np.unique(y_set)):\n",
        "    plt.scatter(X_set[y_set == j, 0], X_set[y_set == j, 1],\n",
        "                c = ListedColormap(('red', 'green'))(i), label = j)\n",
        "plt.title('Random Forest Classification (Training set)')\n",
        "plt.xlabel('Age')\n",
        "plt.ylabel('Estimated Salary')\n",
        "plt.legend()\n",
        "plt.show()\n",
        "\n",
        "# Visualising the Test set results\n",
        "from matplotlib.colors import ListedColormap\n",
        "X_set, y_set = X_test, y_test\n",
        "X1, X2 = np.meshgrid(np.arange(start = X_set[:, 0].min() - 1, stop = X_set[:, 0].max() + 1, step = 0.01),\n",
        "                     np.arange(start = X_set[:, 1].min() - 1, stop = X_set[:, 1].max() + 1, step = 0.01))\n",
        "plt.contourf(X1, X2, classifier.predict(np.array([X1.ravel(), X2.ravel()]).T).reshape(X1.shape),\n",
        "             alpha = 0.75, cmap = ListedColormap(('red', 'green')))\n",
        "plt.xlim(X1.min(), X1.max())\n",
        "plt.ylim(X2.min(), X2.max())\n",
        "for i, j in enumerate(np.unique(y_set)):\n",
        "    plt.scatter(X_set[y_set == j, 0], X_set[y_set == j, 1],\n",
        "                c = ListedColormap(('red', 'green'))(i), label = j)\n",
        "plt.title('Random Forest Classification (Test set)')\n",
        "plt.xlabel('Age')\n",
        "plt.ylabel('Estimated Salary')\n",
        "plt.legend()\n",
        "plt.show()"
      ],
      "execution_count": null,
      "outputs": [
        {
          "output_type": "stream",
          "name": "stdout",
          "text": [
            "[[63  5]\n",
            " [ 4 28]]\n"
          ]
        },
        {
          "output_type": "stream",
          "name": "stderr",
          "text": [
            "*c* argument looks like a single numeric RGB or RGBA sequence, which should be avoided as value-mapping will have precedence in case its length matches with *x* & *y*.  Please use the *color* keyword-argument or provide a 2-D array with a single row if you intend to specify the same RGB or RGBA value for all points.\n",
            "*c* argument looks like a single numeric RGB or RGBA sequence, which should be avoided as value-mapping will have precedence in case its length matches with *x* & *y*.  Please use the *color* keyword-argument or provide a 2-D array with a single row if you intend to specify the same RGB or RGBA value for all points.\n"
          ]
        },
        {
          "output_type": "display_data",
          "data": {
            "image/png": "[encoded data removed]",
            "text/plain": [
              "<Figure size 432x288 with 1 Axes>"
            ]
          },
          "metadata": {
            "needs_background": "light"
          }
        },
        {
          "output_type": "stream",
          "name": "stderr",
          "text": [
            "*c* argument looks like a single numeric RGB or RGBA sequence, which should be avoided as value-mapping will have precedence in case its length matches with *x* & *y*.  Please use the *color* keyword-argument or provide a 2-D array with a single row if you intend to specify the same RGB or RGBA value for all points.\n",
            "*c* argument looks like a single numeric RGB or RGBA sequence, which should be avoided as value-mapping will have precedence in case its length matches with *x* & *y*.  Please use the *color* keyword-argument or provide a 2-D array with a single row if you intend to specify the same RGB or RGBA value for all points.\n"
          ]
        },
        {
          "output_type": "display_data",
          "data": {
            "image/png": "[encoded data removed]",
            "text/plain": [
              "<Figure size 432x288 with 1 Axes>"
            ]
          },
          "metadata": {
            "needs_background": "light"
          }
        }
      ]
    },
    {
      "cell_type": "code",
      "metadata": {
        "id": "STvEhT5U6sqQ",
        "colab": {
          "base_uri": "https://localhost:8080/",
          "height": 749
        },
        "outputId": "165c1a2f-5056-4da7-bc68-7ef83aed138a"
      },
      "source": [
        "#28 PCA\n",
        "\n",
        "# Importing the libraries\n",
        "import numpy as np\n",
        "import matplotlib.pyplot as plt\n",
        "import pandas as pd\n",
        "\n",
        "# Importing the dataset\n",
        "dataset = pd.read_csv('Wine.csv')\n",
        "X = dataset.iloc[:, 0:13].values\n",
        "y = dataset.iloc[:, 13].values\n",
        "\n",
        "# Splitting the dataset into the Training set and Test set\n",
        "from sklearn.model_selection import train_test_split\n",
        "X_train, X_test, y_train, y_test = train_test_split(X, y, test_size = 0.2, random_state = 0)\n",
        "\n",
        "# Feature Scaling\n",
        "from sklearn.preprocessing import StandardScaler\n",
        "sc = StandardScaler()\n",
        "X_train = sc.fit_transform(X_train)\n",
        "X_test = sc.transform(X_test)\n",
        "\n",
        "# Applying PCA\n",
        "from sklearn.decomposition import PCA\n",
        "pca = PCA(n_components = 2)\n",
        "X_train = pca.fit_transform(X_train)\n",
        "X_test = pca.transform(X_test)\n",
        "explained_variance = pca.explained_variance_ratio_\n",
        "\n",
        "# Fitting Logistic Regression to the Training set\n",
        "from sklearn.linear_model import LogisticRegression\n",
        "classifier = LogisticRegression(random_state = 0)\n",
        "classifier.fit(X_train, y_train)\n",
        "\n",
        "# Predicting the Test set results\n",
        "y_pred = classifier.predict(X_test)\n",
        "\n",
        "# Making the Confusion Matrix\n",
        "from sklearn.metrics import confusion_matrix\n",
        "cm = confusion_matrix(y_test, y_pred)\n",
        "print(cm)\n",
        "# Visualising the Training set results\n",
        "from matplotlib.colors import ListedColormap\n",
        "X_set, y_set = X_train, y_train\n",
        "X1, X2 = np.meshgrid(np.arange(start = X_set[:, 0].min() - 1, stop = X_set[:, 0].max() + 1, step = 0.01),\n",
        "                     np.arange(start = X_set[:, 1].min() - 1, stop = X_set[:, 1].max() + 1, step = 0.01))\n",
        "plt.contourf(X1, X2, classifier.predict(np.array([X1.ravel(), X2.ravel()]).T).reshape(X1.shape),\n",
        "             alpha = 0.75, cmap = ListedColormap(('red', 'green', 'blue')))\n",
        "plt.xlim(X1.min(), X1.max())\n",
        "plt.ylim(X2.min(), X2.max())\n",
        "for i, j in enumerate(np.unique(y_set)):\n",
        "    plt.scatter(X_set[y_set == j, 0], X_set[y_set == j, 1],\n",
        "                c = ListedColormap(('red', 'green', 'blue'))(i), label = j)\n",
        "plt.title('Logistic Regression (Training set)')\n",
        "plt.xlabel('PC1')\n",
        "plt.ylabel('PC2')\n",
        "plt.legend()\n",
        "plt.show()\n",
        "\n",
        "# Visualising the Test set results\n",
        "from matplotlib.colors import ListedColormap\n",
        "X_set, y_set = X_test, y_test\n",
        "X1, X2 = np.meshgrid(np.arange(start = X_set[:, 0].min() - 1, stop = X_set[:, 0].max() + 1, step = 0.01),\n",
        "                     np.arange(start = X_set[:, 1].min() - 1, stop = X_set[:, 1].max() + 1, step = 0.01))\n",
        "plt.contourf(X1, X2, classifier.predict(np.array([X1.ravel(), X2.ravel()]).T).reshape(X1.shape),\n",
        "             alpha = 0.75, cmap = ListedColormap(('red', 'green', 'blue')))\n",
        "plt.xlim(X1.min(), X1.max())\n",
        "plt.ylim(X2.min(), X2.max())\n",
        "for i, j in enumerate(np.unique(y_set)):\n",
        "    plt.scatter(X_set[y_set == j, 0], X_set[y_set == j, 1],\n",
        "                c = ListedColormap(('red', 'green', 'blue'))(i), label = j)\n",
        "plt.title('Logistic Regression (Test set)')\n",
        "plt.xlabel('PC1')\n",
        "plt.ylabel('PC2')\n",
        "plt.legend()\n",
        "plt.show()"
      ],
      "execution_count": null,
      "outputs": [
        {
          "output_type": "stream",
          "text": [
            "[[14  0  0]\n",
            " [ 1 15  0]\n",
            " [ 0  0  6]]\n"
          ],
          "name": "stdout"
        },
        {
          "output_type": "stream",
          "text": [
            "*c* argument looks like a single numeric RGB or RGBA sequence, which should be avoided as value-mapping will have precedence in case its length matches with *x* & *y*.  Please use the *color* keyword-argument or provide a 2-D array with a single row if you intend to specify the same RGB or RGBA value for all points.\n",
            "*c* argument looks like a single numeric RGB or RGBA sequence, which should be avoided as value-mapping will have precedence in case its length matches with *x* & *y*.  Please use the *color* keyword-argument or provide a 2-D array with a single row if you intend to specify the same RGB or RGBA value for all points.\n",
            "*c* argument looks like a single numeric RGB or RGBA sequence, which should be avoided as value-mapping will have precedence in case its length matches with *x* & *y*.  Please use the *color* keyword-argument or provide a 2-D array with a single row if you intend to specify the same RGB or RGBA value for all points.\n"
          ],
          "name": "stderr"
        },
        {
          "output_type": "display_data",
          "data": {
            "image/png": "[encoded data removed]",
            "text/plain": [
              "<Figure size 432x288 with 1 Axes>"
            ]
          },
          "metadata": {
            "tags": [],
            "needs_background": "light"
          }
        },
        {
          "output_type": "stream",
          "text": [
            "*c* argument looks like a single numeric RGB or RGBA sequence, which should be avoided as value-mapping will have precedence in case its length matches with *x* & *y*.  Please use the *color* keyword-argument or provide a 2-D array with a single row if you intend to specify the same RGB or RGBA value for all points.\n",
            "*c* argument looks like a single numeric RGB or RGBA sequence, which should be avoided as value-mapping will have precedence in case its length matches with *x* & *y*.  Please use the *color* keyword-argument or provide a 2-D array with a single row if you intend to specify the same RGB or RGBA value for all points.\n",
            "*c* argument looks like a single numeric RGB or RGBA sequence, which should be avoided as value-mapping will have precedence in case its length matches with *x* & *y*.  Please use the *color* keyword-argument or provide a 2-D array with a single row if you intend to specify the same RGB or RGBA value for all points.\n"
          ],
          "name": "stderr"
        },
        {
          "output_type": "display_data",
          "data": {
            "image/png": "[encoded data removed]",
            "text/plain": [
              "<Figure size 432x288 with 1 Axes>"
            ]
          },
          "metadata": {
            "tags": [],
            "needs_background": "light"
          }
        }
      ]
    },
    {
      "cell_type": "code",
      "metadata": {
        "colab": {
          "base_uri": "https://localhost:8080/",
          "height": 744
        },
        "id": "KOA8_V-HBorA",
        "outputId": "e96bff73-5aec-47f2-a006-1464fc4e8beb"
      },
      "source": [
        "# 29 LDA\n",
        "# LDA\n",
        "\n",
        "# Importing the libraries\n",
        "import numpy as np\n",
        "import matplotlib.pyplot as plt\n",
        "import pandas as pd\n",
        "\n",
        "# Importing the dataset\n",
        "dataset = pd.read_csv('Wine.csv')\n",
        "X = dataset.iloc[:, 0:13].values\n",
        "y = dataset.iloc[:, 13].values\n",
        "\n",
        "# Splitting the dataset into the Training set and Test set\n",
        "from sklearn.model_selection import train_test_split\n",
        "X_train, X_test, y_train, y_test = train_test_split(X, y, test_size = 0.2, random_state = 0)\n",
        "\n",
        "# Feature Scaling\n",
        "from sklearn.preprocessing import StandardScaler\n",
        "sc = StandardScaler()\n",
        "X_train = sc.fit_transform(X_train)\n",
        "X_test = sc.transform(X_test)\n",
        "\n",
        "# Applying LDA\n",
        "from sklearn.discriminant_analysis import LinearDiscriminantAnalysis as LDA\n",
        "lda = LDA(n_components = 2)\n",
        "X_train = lda.fit_transform(X_train, y_train)\n",
        "X_test = lda.transform(X_test)\n",
        "\n",
        "# Fitting Logistic Regression to the Training set\n",
        "from sklearn.linear_model import LogisticRegression\n",
        "classifier = LogisticRegression(random_state = 0)\n",
        "classifier.fit(X_train, y_train)\n",
        "\n",
        "# Predicting the Test set results\n",
        "y_pred = classifier.predict(X_test)\n",
        "\n",
        "# Making the Confusion Matrix\n",
        "from sklearn.metrics import confusion_matrix\n",
        "cm = confusion_matrix(y_test, y_pred)\n",
        "print(cm)\n",
        "# Visualising the Training set results\n",
        "from matplotlib.colors import ListedColormap\n",
        "X_set, y_set = X_train, y_train\n",
        "X1, X2 = np.meshgrid(np.arange(start = X_set[:, 0].min() - 1, stop = X_set[:, 0].max() + 1, step = 0.01),\n",
        "                     np.arange(start = X_set[:, 1].min() - 1, stop = X_set[:, 1].max() + 1, step = 0.01))\n",
        "plt.contourf(X1, X2, classifier.predict(np.array([X1.ravel(), X2.ravel()]).T).reshape(X1.shape),\n",
        "             alpha = 0.75, cmap = ListedColormap(('red', 'green', 'blue')))\n",
        "plt.xlim(X1.min(), X1.max())\n",
        "plt.ylim(X2.min(), X2.max())\n",
        "for i, j in enumerate(np.unique(y_set)):\n",
        "    plt.scatter(X_set[y_set == j, 0], X_set[y_set == j, 1],\n",
        "                c = ListedColormap(('red', 'green', 'blue'))(i), label = j)\n",
        "plt.title('Logistic Regression (Training set)')\n",
        "plt.xlabel('LD1')\n",
        "plt.ylabel('LD2')\n",
        "plt.legend()\n",
        "plt.show()\n",
        "\n",
        "# Visualising the Test set results\n",
        "from matplotlib.colors import ListedColormap\n",
        "X_set, y_set = X_test, y_test\n",
        "X1, X2 = np.meshgrid(np.arange(start = X_set[:, 0].min() - 1, stop = X_set[:, 0].max() + 1, step = 0.01),\n",
        "                     np.arange(start = X_set[:, 1].min() - 1, stop = X_set[:, 1].max() + 1, step = 0.01))\n",
        "plt.contourf(X1, X2, classifier.predict(np.array([X1.ravel(), X2.ravel()]).T).reshape(X1.shape),\n",
        "             alpha = 0.75, cmap = ListedColormap(('red', 'green', 'blue')))\n",
        "plt.xlim(X1.min(), X1.max())\n",
        "plt.ylim(X2.min(), X2.max())\n",
        "for i, j in enumerate(np.unique(y_set)):\n",
        "    plt.scatter(X_set[y_set == j, 0], X_set[y_set == j, 1],\n",
        "                c = ListedColormap(('red', 'green', 'blue'))(i), label = j)\n",
        "plt.title('Logistic Regression (Test set)')\n",
        "plt.xlabel('LD1')\n",
        "plt.ylabel('LD2')\n",
        "plt.legend()\n",
        "plt.show()"
      ],
      "execution_count": null,
      "outputs": [
        {
          "output_type": "stream",
          "name": "stdout",
          "text": [
            "[[14  0  0]\n",
            " [ 0 16  0]\n",
            " [ 0  0  6]]\n"
          ]
        },
        {
          "output_type": "stream",
          "name": "stderr",
          "text": [
            "*c* argument looks like a single numeric RGB or RGBA sequence, which should be avoided as value-mapping will have precedence in case its length matches with *x* & *y*.  Please use the *color* keyword-argument or provide a 2-D array with a single row if you intend to specify the same RGB or RGBA value for all points.\n",
            "*c* argument looks like a single numeric RGB or RGBA sequence, which should be avoided as value-mapping will have precedence in case its length matches with *x* & *y*.  Please use the *color* keyword-argument or provide a 2-D array with a single row if you intend to specify the same RGB or RGBA value for all points.\n",
            "*c* argument looks like a single numeric RGB or RGBA sequence, which should be avoided as value-mapping will have precedence in case its length matches with *x* & *y*.  Please use the *color* keyword-argument or provide a 2-D array with a single row if you intend to specify the same RGB or RGBA value for all points.\n"
          ]
        },
        {
          "output_type": "display_data",
          "data": {
            "image/png": "[encoded data removed]",
            "text/plain": [
              "<Figure size 432x288 with 1 Axes>"
            ]
          },
          "metadata": {
            "needs_background": "light"
          }
        },
        {
          "output_type": "stream",
          "name": "stderr",
          "text": [
            "*c* argument looks like a single numeric RGB or RGBA sequence, which should be avoided as value-mapping will have precedence in case its length matches with *x* & *y*.  Please use the *color* keyword-argument or provide a 2-D array with a single row if you intend to specify the same RGB or RGBA value for all points.\n",
            "*c* argument looks like a single numeric RGB or RGBA sequence, which should be avoided as value-mapping will have precedence in case its length matches with *x* & *y*.  Please use the *color* keyword-argument or provide a 2-D array with a single row if you intend to specify the same RGB or RGBA value for all points.\n",
            "*c* argument looks like a single numeric RGB or RGBA sequence, which should be avoided as value-mapping will have precedence in case its length matches with *x* & *y*.  Please use the *color* keyword-argument or provide a 2-D array with a single row if you intend to specify the same RGB or RGBA value for all points.\n"
          ]
        },
        {
          "output_type": "display_data",
          "data": {
            "image/png": "[encoded data removed]",
            "text/plain": [
              "<Figure size 432x288 with 1 Axes>"
            ]
          },
          "metadata": {
            "needs_background": "light"
          }
        }
      ]
    },
    {
      "cell_type": "code",
      "metadata": {
        "id": "1ZAtFhuoLMLO"
      },
      "source": [
        "\n"
      ],
      "execution_count": null,
      "outputs": []
    }
  ]
}